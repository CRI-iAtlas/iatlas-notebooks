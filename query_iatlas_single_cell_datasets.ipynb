{
 "cells": [
  {
   "cell_type": "markdown",
   "metadata": {},
   "source": [
    "# CRI iAtlas notebooks\n",
    "## Exploring the Pseudobulk single-cell RNAseq data available in iAtlas.\n",
    "\n",
    "Repo: https://github.com/CRI-iAtlas/iatlas-notebooks/ \n",
    "\n",
    "Notebook: query_iatlas_single_cell_datasets.ipynb \n",
    "\n",
    "Date: September 13, 2024 \n",
    "\n",
    "Author: Carolina Heimann"
   ]
  },
  {
   "cell_type": "markdown",
   "metadata": {},
   "source": [
    "---\n",
    "\n",
    "notebook repo: https://github.com/CRI-iAtlas/iatlas-notebooks\n",
    "\n",
    "landing page: https://www.cri-iatlas.org/\n",
    "\n",
    "portal: https://isb-cgc.shinyapps.io/iatlas/\n",
    "\n",
    "email: support@cri-iatlas.org\n",
    "\n",
    "---"
   ]
  },
  {
   "cell_type": "markdown",
   "metadata": {},
   "source": [
    "## Getting started"
   ]
  },
  {
   "cell_type": "code",
   "execution_count": null,
   "metadata": {
    "vscode": {
     "languageId": "r"
    }
   },
   "outputs": [],
   "source": [
    "# We have a few libraries to install.\n",
    "try({\n",
    "    packages = c(\"magrittr\", \"dplyr\", \"tidyr\", \"dplyr\", \"tidyr\", \"ggplot2\", \"iatlasGraphQLClient\")\n",
    "\n",
    "    sapply(packages, function(x) {\n",
    "      if (!require(x,character.only = TRUE))\n",
    "        install.packages(x)\n",
    "        suppressPackageStartupMessages(library(x,character.only = TRUE))\n",
    "    })},\n",
    "    silent=TRUE \n",
    ")"
   ]
  },
  {
   "cell_type": "markdown",
   "metadata": {},
   "source": [
    "# Exploring the single-cell datasets and features\n",
    "\n",
    "\n",
    "The iAtlas single-cell RNAseq data is stored in a database that can be queried with functions from the `iatlasGraphQLClient` package. \n",
    "We have clinical data, pseudobulk expression, and immune features.\n",
    "\n",
    "As a first step, let's take a look at the available datasets and features."
   ]
  },
  {
   "cell_type": "markdown",
   "metadata": {},
   "source": [
    "## Datasets available"
   ]
  },
  {
   "cell_type": "code",
   "execution_count": 1,
   "metadata": {
    "vscode": {
     "languageId": "r"
    }
   },
   "outputs": [
    {
     "data": {
      "text/html": [
       "<table class=\"dataframe\">\n",
       "<caption>A tibble: 6 x 3</caption>\n",
       "<thead>\n",
       "\t<tr><th scope=col>display</th><th scope=col>name</th><th scope=col>type</th></tr>\n",
       "\t<tr><th scope=col>&lt;chr&gt;</th><th scope=col>&lt;chr&gt;</th><th scope=col>&lt;chr&gt;</th></tr>\n",
       "</thead>\n",
       "<tbody>\n",
       "\t<tr><td>Bi 2021 - ccRCC - PD-1    </td><td>Bi_2021     </td><td>scrna</td></tr>\n",
       "\t<tr><td>Krishna 2021 - ccRCC, PD-1</td><td>Krishna_2021</td><td>scrna</td></tr>\n",
       "\t<tr><td>Li 2022 - ccRCC           </td><td>Li_2022     </td><td>scrna</td></tr>\n",
       "\t<tr><td>MSK - SCLC                </td><td>MSK         </td><td>scrna</td></tr>\n",
       "\t<tr><td>Shiao 2024 - BRCA, PD-1   </td><td>Shiao_2024  </td><td>scrna</td></tr>\n",
       "\t<tr><td>Vanderbilt - colon polyps </td><td>Vanderbilt  </td><td>scrna</td></tr>\n",
       "</tbody>\n",
       "</table>\n"
      ],
      "text/latex": [
       "A tibble: 6 x 3\n",
       "\\begin{tabular}{lll}\n",
       " display & name & type\\\\\n",
       " <chr> & <chr> & <chr>\\\\\n",
       "\\hline\n",
       "\t Bi 2021 - ccRCC - PD-1     & Bi\\_2021      & scrna\\\\\n",
       "\t Krishna 2021 - ccRCC, PD-1 & Krishna\\_2021 & scrna\\\\\n",
       "\t Li 2022 - ccRCC            & Li\\_2022      & scrna\\\\\n",
       "\t MSK - SCLC                 & MSK          & scrna\\\\\n",
       "\t Shiao 2024 - BRCA, PD-1    & Shiao\\_2024   & scrna\\\\\n",
       "\t Vanderbilt - colon polyps  & Vanderbilt   & scrna\\\\\n",
       "\\end{tabular}\n"
      ],
      "text/markdown": [
       "\n",
       "A tibble: 6 x 3\n",
       "\n",
       "| display &lt;chr&gt; | name &lt;chr&gt; | type &lt;chr&gt; |\n",
       "|---|---|---|\n",
       "| Bi 2021 - ccRCC - PD-1     | Bi_2021      | scrna |\n",
       "| Krishna 2021 - ccRCC, PD-1 | Krishna_2021 | scrna |\n",
       "| Li 2022 - ccRCC            | Li_2022      | scrna |\n",
       "| MSK - SCLC                 | MSK          | scrna |\n",
       "| Shiao 2024 - BRCA, PD-1    | Shiao_2024   | scrna |\n",
       "| Vanderbilt - colon polyps  | Vanderbilt   | scrna |\n",
       "\n"
      ],
      "text/plain": [
       "  display                    name         type \n",
       "1 Bi 2021 - ccRCC - PD-1     Bi_2021      scrna\n",
       "2 Krishna 2021 - ccRCC, PD-1 Krishna_2021 scrna\n",
       "3 Li 2022 - ccRCC            Li_2022      scrna\n",
       "4 MSK - SCLC                 MSK          scrna\n",
       "5 Shiao 2024 - BRCA, PD-1    Shiao_2024   scrna\n",
       "6 Vanderbilt - colon polyps  Vanderbilt   scrna"
      ]
     },
     "metadata": {},
     "output_type": "display_data"
    }
   ],
   "source": [
    "#single cell datasets that we have in the iAtlas database\n",
    "sc_datasets <- iatlasGraphQLClient::query_datasets(types = \"scrna\")\n",
    "sc_datasets"
   ]
  },
  {
   "cell_type": "markdown",
   "metadata": {},
   "source": [
    "## Immune Features"
   ]
  },
  {
   "cell_type": "code",
   "execution_count": 3,
   "metadata": {
    "vscode": {
     "languageId": "r"
    }
   },
   "outputs": [
    {
     "data": {
      "text/html": [
       "<table class=\"dataframe\">\n",
       "<caption>A tibble: 6 x 6</caption>\n",
       "<thead>\n",
       "\t<tr><th scope=col>name</th><th scope=col>display</th><th scope=col>class</th><th scope=col>order</th><th scope=col>unit</th><th scope=col>method_tag</th></tr>\n",
       "\t<tr><th scope=col>&lt;chr&gt;</th><th scope=col>&lt;chr&gt;</th><th scope=col>&lt;chr&gt;</th><th scope=col>&lt;int&gt;</th><th scope=col>&lt;chr&gt;</th><th scope=col>&lt;chr&gt;</th></tr>\n",
       "</thead>\n",
       "<tbody>\n",
       "\t<tr><td>age_at_diagnosis     </td><td>Age At Diagnosis       </td><td>Clinical                      </td><td>NA</td><td>Year </td><td>NA    </td></tr>\n",
       "\t<tr><td>Module3_IFN_score    </td><td>IFN-gamma Response     </td><td>Core Expression Signature     </td><td> 1</td><td>Score</td><td>ExpSig</td></tr>\n",
       "\t<tr><td>LIexpression_score   </td><td>Lymphocyte Infiltration</td><td>Core Expression Signature     </td><td> 4</td><td>Score</td><td>ExpSig</td></tr>\n",
       "\t<tr><td>CSF1_response        </td><td>Macrophage Regulation  </td><td>Core Expression Signature     </td><td> 3</td><td>Score</td><td>ExpSig</td></tr>\n",
       "\t<tr><td>Module11_Prolif_score</td><td>Proliferation          </td><td>Auxiliary Expression Signature</td><td> 1</td><td>Score</td><td>ExpSig</td></tr>\n",
       "\t<tr><td>TGFB_score_21050467  </td><td>TGF-beta Response      </td><td>Core Expression Signature     </td><td> 2</td><td>Score</td><td>ExpSig</td></tr>\n",
       "</tbody>\n",
       "</table>\n"
      ],
      "text/latex": [
       "A tibble: 6 x 6\n",
       "\\begin{tabular}{llllll}\n",
       " name & display & class & order & unit & method\\_tag\\\\\n",
       " <chr> & <chr> & <chr> & <int> & <chr> & <chr>\\\\\n",
       "\\hline\n",
       "\t age\\_at\\_diagnosis      & Age At Diagnosis        & Clinical                       & NA & Year  & NA    \\\\\n",
       "\t Module3\\_IFN\\_score     & IFN-gamma Response      & Core Expression Signature      &  1 & Score & ExpSig\\\\\n",
       "\t LIexpression\\_score    & Lymphocyte Infiltration & Core Expression Signature      &  4 & Score & ExpSig\\\\\n",
       "\t CSF1\\_response         & Macrophage Regulation   & Core Expression Signature      &  3 & Score & ExpSig\\\\\n",
       "\t Module11\\_Prolif\\_score & Proliferation           & Auxiliary Expression Signature &  1 & Score & ExpSig\\\\\n",
       "\t TGFB\\_score\\_21050467   & TGF-beta Response       & Core Expression Signature      &  2 & Score & ExpSig\\\\\n",
       "\\end{tabular}\n"
      ],
      "text/markdown": [
       "\n",
       "A tibble: 6 x 6\n",
       "\n",
       "| name &lt;chr&gt; | display &lt;chr&gt; | class &lt;chr&gt; | order &lt;int&gt; | unit &lt;chr&gt; | method_tag &lt;chr&gt; |\n",
       "|---|---|---|---|---|---|\n",
       "| age_at_diagnosis      | Age At Diagnosis        | Clinical                       | NA | Year  | NA     |\n",
       "| Module3_IFN_score     | IFN-gamma Response      | Core Expression Signature      |  1 | Score | ExpSig |\n",
       "| LIexpression_score    | Lymphocyte Infiltration | Core Expression Signature      |  4 | Score | ExpSig |\n",
       "| CSF1_response         | Macrophage Regulation   | Core Expression Signature      |  3 | Score | ExpSig |\n",
       "| Module11_Prolif_score | Proliferation           | Auxiliary Expression Signature |  1 | Score | ExpSig |\n",
       "| TGFB_score_21050467   | TGF-beta Response       | Core Expression Signature      |  2 | Score | ExpSig |\n",
       "\n"
      ],
      "text/plain": [
       "  name                  display                 class                         \n",
       "1 age_at_diagnosis      Age At Diagnosis        Clinical                      \n",
       "2 Module3_IFN_score     IFN-gamma Response      Core Expression Signature     \n",
       "3 LIexpression_score    Lymphocyte Infiltration Core Expression Signature     \n",
       "4 CSF1_response         Macrophage Regulation   Core Expression Signature     \n",
       "5 Module11_Prolif_score Proliferation           Auxiliary Expression Signature\n",
       "6 TGFB_score_21050467   TGF-beta Response       Core Expression Signature     \n",
       "  order unit  method_tag\n",
       "1 NA    Year  NA        \n",
       "2  1    Score ExpSig    \n",
       "3  4    Score ExpSig    \n",
       "4  3    Score ExpSig    \n",
       "5  1    Score ExpSig    \n",
       "6  2    Score ExpSig    "
      ]
     },
     "metadata": {},
     "output_type": "display_data"
    }
   ],
   "source": [
    "#immune features of all samples in the sc datasets\n",
    "features_df <- iatlasGraphQLClient::query_features(cohorts = 'Bi_2021')\n",
    "head(features_df)"
   ]
  },
  {
   "cell_type": "markdown",
   "metadata": {},
   "source": [
    "## Clinical Annotation"
   ]
  },
  {
   "cell_type": "code",
   "execution_count": 4,
   "metadata": {
    "vscode": {
     "languageId": "r"
    }
   },
   "outputs": [
    {
     "data": {
      "text/html": [
       "<table class=\"dataframe\">\n",
       "<caption>A tibble: 6 x 7</caption>\n",
       "<thead>\n",
       "\t<tr><th scope=col>tag_name</th><th scope=col>tag_long_display</th><th scope=col>tag_short_display</th><th scope=col>tag_characteristics</th><th scope=col>tag_color</th><th scope=col>tag_order</th><th scope=col>tag_type</th></tr>\n",
       "\t<tr><th scope=col>&lt;chr&gt;</th><th scope=col>&lt;chr&gt;</th><th scope=col>&lt;chr&gt;</th><th scope=col>&lt;chr&gt;</th><th scope=col>&lt;lgl&gt;</th><th scope=col>&lt;int&gt;</th><th scope=col>&lt;chr&gt;</th></tr>\n",
       "</thead>\n",
       "<tbody>\n",
       "\t<tr><td>Biopsy_Site     </td><td>Biopsy Site     </td><td>Biopsy Site     </td><td>Site where sample was collected from.                                                      </td><td>NA</td><td>18</td><td>parent_group</td></tr>\n",
       "\t<tr><td>Cancer_Tissue   </td><td>Cancer Tissue   </td><td>Cancer Tissue   </td><td>Original tumor tissue.                                                                     </td><td>NA</td><td>14</td><td>parent_group</td></tr>\n",
       "\t<tr><td>Clinical_Benefit</td><td>Clinical Benefit</td><td>Clinical Benefit</td><td>Patients have clinical benefit when mRECIST response is different than Progressive Disease.</td><td>NA</td><td> 4</td><td>parent_group</td></tr>\n",
       "\t<tr><td>Clinical_Stage  </td><td>Clinical Stage  </td><td>Clinical Stage  </td><td>Clinical stage of cancer.                                                                  </td><td>NA</td><td>17</td><td>parent_group</td></tr>\n",
       "\t<tr><td>FFPE            </td><td>FFPE Samples    </td><td>FFPE Samples    </td><td>Indicates whether the sample is FFPE or not.                                               </td><td>NA</td><td>20</td><td>parent_group</td></tr>\n",
       "\t<tr><td>ICI_Pathway     </td><td>ICI Pathway     </td><td>ICI Pathway     </td><td>Pathway that is being targeted by the ICI treatment.                                       </td><td>NA</td><td> 6</td><td>parent_group</td></tr>\n",
       "</tbody>\n",
       "</table>\n"
      ],
      "text/latex": [
       "A tibble: 6 x 7\n",
       "\\begin{tabular}{lllllll}\n",
       " tag\\_name & tag\\_long\\_display & tag\\_short\\_display & tag\\_characteristics & tag\\_color & tag\\_order & tag\\_type\\\\\n",
       " <chr> & <chr> & <chr> & <chr> & <lgl> & <int> & <chr>\\\\\n",
       "\\hline\n",
       "\t Biopsy\\_Site      & Biopsy Site      & Biopsy Site      & Site where sample was collected from.                                                       & NA & 18 & parent\\_group\\\\\n",
       "\t Cancer\\_Tissue    & Cancer Tissue    & Cancer Tissue    & Original tumor tissue.                                                                      & NA & 14 & parent\\_group\\\\\n",
       "\t Clinical\\_Benefit & Clinical Benefit & Clinical Benefit & Patients have clinical benefit when mRECIST response is different than Progressive Disease. & NA &  4 & parent\\_group\\\\\n",
       "\t Clinical\\_Stage   & Clinical Stage   & Clinical Stage   & Clinical stage of cancer.                                                                   & NA & 17 & parent\\_group\\\\\n",
       "\t FFPE             & FFPE Samples     & FFPE Samples     & Indicates whether the sample is FFPE or not.                                                & NA & 20 & parent\\_group\\\\\n",
       "\t ICI\\_Pathway      & ICI Pathway      & ICI Pathway      & Pathway that is being targeted by the ICI treatment.                                        & NA &  6 & parent\\_group\\\\\n",
       "\\end{tabular}\n"
      ],
      "text/markdown": [
       "\n",
       "A tibble: 6 x 7\n",
       "\n",
       "| tag_name &lt;chr&gt; | tag_long_display &lt;chr&gt; | tag_short_display &lt;chr&gt; | tag_characteristics &lt;chr&gt; | tag_color &lt;lgl&gt; | tag_order &lt;int&gt; | tag_type &lt;chr&gt; |\n",
       "|---|---|---|---|---|---|---|\n",
       "| Biopsy_Site      | Biopsy Site      | Biopsy Site      | Site where sample was collected from.                                                       | NA | 18 | parent_group |\n",
       "| Cancer_Tissue    | Cancer Tissue    | Cancer Tissue    | Original tumor tissue.                                                                      | NA | 14 | parent_group |\n",
       "| Clinical_Benefit | Clinical Benefit | Clinical Benefit | Patients have clinical benefit when mRECIST response is different than Progressive Disease. | NA |  4 | parent_group |\n",
       "| Clinical_Stage   | Clinical Stage   | Clinical Stage   | Clinical stage of cancer.                                                                   | NA | 17 | parent_group |\n",
       "| FFPE             | FFPE Samples     | FFPE Samples     | Indicates whether the sample is FFPE or not.                                                | NA | 20 | parent_group |\n",
       "| ICI_Pathway      | ICI Pathway      | ICI Pathway      | Pathway that is being targeted by the ICI treatment.                                        | NA |  6 | parent_group |\n",
       "\n"
      ],
      "text/plain": [
       "  tag_name         tag_long_display tag_short_display\n",
       "1 Biopsy_Site      Biopsy Site      Biopsy Site      \n",
       "2 Cancer_Tissue    Cancer Tissue    Cancer Tissue    \n",
       "3 Clinical_Benefit Clinical Benefit Clinical Benefit \n",
       "4 Clinical_Stage   Clinical Stage   Clinical Stage   \n",
       "5 FFPE             FFPE Samples     FFPE Samples     \n",
       "6 ICI_Pathway      ICI Pathway      ICI Pathway      \n",
       "  tag_characteristics                                                                        \n",
       "1 Site where sample was collected from.                                                      \n",
       "2 Original tumor tissue.                                                                     \n",
       "3 Patients have clinical benefit when mRECIST response is different than Progressive Disease.\n",
       "4 Clinical stage of cancer.                                                                  \n",
       "5 Indicates whether the sample is FFPE or not.                                               \n",
       "6 Pathway that is being targeted by the ICI treatment.                                       \n",
       "  tag_color tag_order tag_type    \n",
       "1 NA        18        parent_group\n",
       "2 NA        14        parent_group\n",
       "3 NA         4        parent_group\n",
       "4 NA        17        parent_group\n",
       "5 NA        20        parent_group\n",
       "6 NA         6        parent_group"
      ]
     },
     "metadata": {},
     "output_type": "display_data"
    }
   ],
   "source": [
    "#clinical annotation that is available for the sc datasets\n",
    "clinical_options <- iatlasGraphQLClient::query_tags(datasets = sc_datasets$name)\n",
    "head(clinical_options)"
   ]
  },
  {
   "cell_type": "markdown",
   "metadata": {},
   "source": [
    "## Gene Expression"
   ]
  },
  {
   "cell_type": "code",
   "execution_count": 15,
   "metadata": {
    "vscode": {
     "languageId": "r"
    }
   },
   "outputs": [
    {
     "ename": "ERROR",
     "evalue": "Error: Gateway Timeout (HTTP 504)\n",
     "output_type": "error",
     "traceback": [
      "Error: Gateway Timeout (HTTP 504)\nTraceback:\n",
      "1. iatlasGraphQLClient::query_genes(cohorts = \"MSK\")",
      "2. create_result_from_cursor_paginated_api_query(query_args = list(cohort = cohorts, \n .     sample = samples, entrez = entrez, geneType = gene_types, \n .     maxRnaSeqExpr = max_rnaseq_expr, minRnaSeqExpr = min_rnaseq_expr, \n .     paging = paging, distinct = F), query_file = \"genes.txt\", \n .     default_tbl = dplyr::tibble(hgnc = character(), entrez = integer(), \n .         description = character(), friendly_name = character(), \n .         io_landscape_name = character(), gene_family = character(), \n .         gene_function = character(), immune_checkpoint = character(), \n .         pathway = character(), super_category = character()), \n .     select_cols = c(\"hgnc\", \"entrez\", \"description\", friendly_name = \"friendlyName\", \n .         io_landscape_name = \"ioLandscapeName\", gene_family = \"geneFamily\", \n .         gene_function = \"geneFunction\", immune_checkpoint = \"immuneCheckpoint\", \n .         \"pathway\", super_category = \"superCategory\"), arrange_cols = \"hgnc\", \n .     ...)",
      "3. do_cursor_paginated_api_query(query_args, query_file, ...)",
      "4. perform_api_query(query_args, query_file, ...) %>% purrr::pluck(1)",
      "5. purrr::pluck(., 1)",
      "6. pluck_raw(.x, list2(...), .default = .default)",
      "7. perform_api_query(query_args, query_file, ...)",
      "8. ghql_con$exec(query, variables) %>% jsonlite::fromJSON() %>% \n .     purrr::pluck(\"data\")",
      "9. purrr::pluck(., \"data\")",
      "10. pluck_raw(.x, list2(...), .default = .default)",
      "11. jsonlite::fromJSON(.)",
      "12. ghql_con$exec(query, variables)",
      "13. cont(gh_POST(self$url, body, self$headers, ...), encoding = encoding)",
      "14. gh_POST(self$url, body, self$headers, ...)",
      "15. res$raise_for_status()",
      "16. stop(sprintf(\"%s (HTTP %s)\", x$message, x$status_code), call. = FALSE)"
     ]
    }
   ],
   "source": [
    "#genes that we have expression data for all samples in the ici datasets (we will query expression values in the next section)\n",
    "genes_df <- iatlasGraphQLClient::query_genes(cohorts = 'MSK')\n",
    "head(genes_df)"
   ]
  }
 ],
 "metadata": {
  "kernelspec": {
   "display_name": "R",
   "language": "R",
   "name": "ir"
  },
  "language_info": {
   "codemirror_mode": "r",
   "file_extension": ".r",
   "mimetype": "text/x-r-source",
   "name": "R",
   "pygments_lexer": "r",
   "version": "4.2.0"
  }
 },
 "nbformat": 4,
 "nbformat_minor": 2
}
