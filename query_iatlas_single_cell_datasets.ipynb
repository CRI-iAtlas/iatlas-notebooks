{
 "cells": [
  {
   "cell_type": "markdown",
   "metadata": {},
   "source": [
    "# CRI iAtlas notebooks\n",
    "## Exploring the Pseudobulk single-cell RNAseq data available in iAtlas.\n",
    "\n",
    "Repo: https://github.com/CRI-iAtlas/iatlas-notebooks/ \n",
    "\n",
    "Notebook: query_iatlas_single_cell_datasets.ipynb \n",
    "\n",
    "Date: September 13, 2024 \n",
    "\n",
    "Author: Carolina Heimann"
   ]
  },
  {
   "cell_type": "markdown",
   "metadata": {},
   "source": [
    "---\n",
    "\n",
    "notebook repo: https://github.com/CRI-iAtlas/iatlas-notebooks\n",
    "\n",
    "landing page: https://www.cri-iatlas.org/\n",
    "\n",
    "portal: https://isb-cgc.shinyapps.io/iatlas/\n",
    "\n",
    "email: support@cri-iatlas.org\n",
    "\n",
    "---"
   ]
  },
  {
   "cell_type": "markdown",
   "metadata": {},
   "source": [
    "## Getting started"
   ]
  },
  {
   "cell_type": "code",
   "execution_count": 2,
   "metadata": {
    "vscode": {
     "languageId": "r"
    }
   },
   "outputs": [],
   "source": [
    "# We have a few libraries to install.\n",
    "invisible(try({\n",
    "    packages = c(\"magrittr\", \"dplyr\", \"tidyr\", \"dplyr\", \"tidyr\", \"ggplot2\", \"iatlasGraphQLClient\")\n",
    "\n",
    "    sapply(packages, function(x) {\n",
    "      if (!require(x,character.only = TRUE))\n",
    "        install.packages(x)\n",
    "        suppressPackageStartupMessages(library(x,character.only = TRUE))\n",
    "    })},\n",
    "    silent=TRUE \n",
    "))"
   ]
  },
  {
   "cell_type": "markdown",
   "metadata": {},
   "source": [
    "# Exploring the single-cell datasets and features\n",
    "\n",
    "\n",
    "The iAtlas single-cell RNAseq data is stored in a database that can be queried with functions from the `iatlasGraphQLClient` package. \n",
    "We have clinical data, pseudobulk expression, and immune features.\n",
    "\n",
    "As a first step, let's take a look at the available datasets and features."
   ]
  },
  {
   "cell_type": "markdown",
   "metadata": {},
   "source": [
    "## Datasets available"
   ]
  },
  {
   "cell_type": "code",
   "execution_count": 3,
   "metadata": {
    "vscode": {
     "languageId": "r"
    }
   },
   "outputs": [
    {
     "data": {
      "text/html": [
       "<table class=\"dataframe\">\n",
       "<caption>A tibble: 6 x 3</caption>\n",
       "<thead>\n",
       "\t<tr><th scope=col>display</th><th scope=col>name</th><th scope=col>type</th></tr>\n",
       "\t<tr><th scope=col>&lt;chr&gt;</th><th scope=col>&lt;chr&gt;</th><th scope=col>&lt;chr&gt;</th></tr>\n",
       "</thead>\n",
       "<tbody>\n",
       "\t<tr><td>Bi 2021 - ccRCC - PD-1    </td><td>Bi_2021     </td><td>scrna</td></tr>\n",
       "\t<tr><td>Krishna 2021 - ccRCC, PD-1</td><td>Krishna_2021</td><td>scrna</td></tr>\n",
       "\t<tr><td>Li 2022 - ccRCC           </td><td>Li_2022     </td><td>scrna</td></tr>\n",
       "\t<tr><td>MSK - SCLC                </td><td>MSK         </td><td>scrna</td></tr>\n",
       "\t<tr><td>Shiao 2024 - BRCA, PD-1   </td><td>Shiao_2024  </td><td>scrna</td></tr>\n",
       "\t<tr><td>Vanderbilt - colon polyps </td><td>Vanderbilt  </td><td>scrna</td></tr>\n",
       "</tbody>\n",
       "</table>\n"
      ],
      "text/latex": [
       "A tibble: 6 x 3\n",
       "\\begin{tabular}{lll}\n",
       " display & name & type\\\\\n",
       " <chr> & <chr> & <chr>\\\\\n",
       "\\hline\n",
       "\t Bi 2021 - ccRCC - PD-1     & Bi\\_2021      & scrna\\\\\n",
       "\t Krishna 2021 - ccRCC, PD-1 & Krishna\\_2021 & scrna\\\\\n",
       "\t Li 2022 - ccRCC            & Li\\_2022      & scrna\\\\\n",
       "\t MSK - SCLC                 & MSK          & scrna\\\\\n",
       "\t Shiao 2024 - BRCA, PD-1    & Shiao\\_2024   & scrna\\\\\n",
       "\t Vanderbilt - colon polyps  & Vanderbilt   & scrna\\\\\n",
       "\\end{tabular}\n"
      ],
      "text/markdown": [
       "\n",
       "A tibble: 6 x 3\n",
       "\n",
       "| display &lt;chr&gt; | name &lt;chr&gt; | type &lt;chr&gt; |\n",
       "|---|---|---|\n",
       "| Bi 2021 - ccRCC - PD-1     | Bi_2021      | scrna |\n",
       "| Krishna 2021 - ccRCC, PD-1 | Krishna_2021 | scrna |\n",
       "| Li 2022 - ccRCC            | Li_2022      | scrna |\n",
       "| MSK - SCLC                 | MSK          | scrna |\n",
       "| Shiao 2024 - BRCA, PD-1    | Shiao_2024   | scrna |\n",
       "| Vanderbilt - colon polyps  | Vanderbilt   | scrna |\n",
       "\n"
      ],
      "text/plain": [
       "  display                    name         type \n",
       "1 Bi 2021 - ccRCC - PD-1     Bi_2021      scrna\n",
       "2 Krishna 2021 - ccRCC, PD-1 Krishna_2021 scrna\n",
       "3 Li 2022 - ccRCC            Li_2022      scrna\n",
       "4 MSK - SCLC                 MSK          scrna\n",
       "5 Shiao 2024 - BRCA, PD-1    Shiao_2024   scrna\n",
       "6 Vanderbilt - colon polyps  Vanderbilt   scrna"
      ]
     },
     "metadata": {},
     "output_type": "display_data"
    }
   ],
   "source": [
    "#single cell datasets that we have in the iAtlas database\n",
    "sc_datasets <- iatlasGraphQLClient::query_datasets(types = \"scrna\")\n",
    "sc_datasets"
   ]
  },
  {
   "cell_type": "markdown",
   "metadata": {},
   "source": [
    "## Immune Features"
   ]
  },
  {
   "cell_type": "code",
   "execution_count": 3,
   "metadata": {
    "vscode": {
     "languageId": "r"
    }
   },
   "outputs": [
    {
     "data": {
      "text/html": [
       "<table class=\"dataframe\">\n",
       "<caption>A tibble: 6 x 6</caption>\n",
       "<thead>\n",
       "\t<tr><th scope=col>name</th><th scope=col>display</th><th scope=col>class</th><th scope=col>order</th><th scope=col>unit</th><th scope=col>method_tag</th></tr>\n",
       "\t<tr><th scope=col>&lt;chr&gt;</th><th scope=col>&lt;chr&gt;</th><th scope=col>&lt;chr&gt;</th><th scope=col>&lt;int&gt;</th><th scope=col>&lt;chr&gt;</th><th scope=col>&lt;chr&gt;</th></tr>\n",
       "</thead>\n",
       "<tbody>\n",
       "\t<tr><td>age_at_diagnosis     </td><td>Age At Diagnosis       </td><td>Clinical                      </td><td>NA</td><td>Year </td><td>NA    </td></tr>\n",
       "\t<tr><td>Module3_IFN_score    </td><td>IFN-gamma Response     </td><td>Core Expression Signature     </td><td> 1</td><td>Score</td><td>ExpSig</td></tr>\n",
       "\t<tr><td>LIexpression_score   </td><td>Lymphocyte Infiltration</td><td>Core Expression Signature     </td><td> 4</td><td>Score</td><td>ExpSig</td></tr>\n",
       "\t<tr><td>CSF1_response        </td><td>Macrophage Regulation  </td><td>Core Expression Signature     </td><td> 3</td><td>Score</td><td>ExpSig</td></tr>\n",
       "\t<tr><td>Module11_Prolif_score</td><td>Proliferation          </td><td>Auxiliary Expression Signature</td><td> 1</td><td>Score</td><td>ExpSig</td></tr>\n",
       "\t<tr><td>TGFB_score_21050467  </td><td>TGF-beta Response      </td><td>Core Expression Signature     </td><td> 2</td><td>Score</td><td>ExpSig</td></tr>\n",
       "</tbody>\n",
       "</table>\n"
      ],
      "text/latex": [
       "A tibble: 6 x 6\n",
       "\\begin{tabular}{llllll}\n",
       " name & display & class & order & unit & method\\_tag\\\\\n",
       " <chr> & <chr> & <chr> & <int> & <chr> & <chr>\\\\\n",
       "\\hline\n",
       "\t age\\_at\\_diagnosis      & Age At Diagnosis        & Clinical                       & NA & Year  & NA    \\\\\n",
       "\t Module3\\_IFN\\_score     & IFN-gamma Response      & Core Expression Signature      &  1 & Score & ExpSig\\\\\n",
       "\t LIexpression\\_score    & Lymphocyte Infiltration & Core Expression Signature      &  4 & Score & ExpSig\\\\\n",
       "\t CSF1\\_response         & Macrophage Regulation   & Core Expression Signature      &  3 & Score & ExpSig\\\\\n",
       "\t Module11\\_Prolif\\_score & Proliferation           & Auxiliary Expression Signature &  1 & Score & ExpSig\\\\\n",
       "\t TGFB\\_score\\_21050467   & TGF-beta Response       & Core Expression Signature      &  2 & Score & ExpSig\\\\\n",
       "\\end{tabular}\n"
      ],
      "text/markdown": [
       "\n",
       "A tibble: 6 x 6\n",
       "\n",
       "| name &lt;chr&gt; | display &lt;chr&gt; | class &lt;chr&gt; | order &lt;int&gt; | unit &lt;chr&gt; | method_tag &lt;chr&gt; |\n",
       "|---|---|---|---|---|---|\n",
       "| age_at_diagnosis      | Age At Diagnosis        | Clinical                       | NA | Year  | NA     |\n",
       "| Module3_IFN_score     | IFN-gamma Response      | Core Expression Signature      |  1 | Score | ExpSig |\n",
       "| LIexpression_score    | Lymphocyte Infiltration | Core Expression Signature      |  4 | Score | ExpSig |\n",
       "| CSF1_response         | Macrophage Regulation   | Core Expression Signature      |  3 | Score | ExpSig |\n",
       "| Module11_Prolif_score | Proliferation           | Auxiliary Expression Signature |  1 | Score | ExpSig |\n",
       "| TGFB_score_21050467   | TGF-beta Response       | Core Expression Signature      |  2 | Score | ExpSig |\n",
       "\n"
      ],
      "text/plain": [
       "  name                  display                 class                         \n",
       "1 age_at_diagnosis      Age At Diagnosis        Clinical                      \n",
       "2 Module3_IFN_score     IFN-gamma Response      Core Expression Signature     \n",
       "3 LIexpression_score    Lymphocyte Infiltration Core Expression Signature     \n",
       "4 CSF1_response         Macrophage Regulation   Core Expression Signature     \n",
       "5 Module11_Prolif_score Proliferation           Auxiliary Expression Signature\n",
       "6 TGFB_score_21050467   TGF-beta Response       Core Expression Signature     \n",
       "  order unit  method_tag\n",
       "1 NA    Year  NA        \n",
       "2  1    Score ExpSig    \n",
       "3  4    Score ExpSig    \n",
       "4  3    Score ExpSig    \n",
       "5  1    Score ExpSig    \n",
       "6  2    Score ExpSig    "
      ]
     },
     "metadata": {},
     "output_type": "display_data"
    }
   ],
   "source": [
    "#immune features for the Bi 2021 dataset\n",
    "features_df <- iatlasGraphQLClient::query_features(cohorts = 'Bi_2021')\n",
    "head(features_df)"
   ]
  },
  {
   "cell_type": "markdown",
   "metadata": {},
   "source": [
    "## Clinical Annotation"
   ]
  },
  {
   "cell_type": "code",
   "execution_count": 5,
   "metadata": {
    "vscode": {
     "languageId": "r"
    }
   },
   "outputs": [
    {
     "data": {
      "text/html": [
       "<table class=\"dataframe\">\n",
       "<caption>A tibble: 6 x 7</caption>\n",
       "<thead>\n",
       "\t<tr><th scope=col>tag_name</th><th scope=col>tag_long_display</th><th scope=col>tag_short_display</th><th scope=col>tag_characteristics</th><th scope=col>tag_color</th><th scope=col>tag_order</th><th scope=col>tag_type</th></tr>\n",
       "\t<tr><th scope=col>&lt;chr&gt;</th><th scope=col>&lt;chr&gt;</th><th scope=col>&lt;chr&gt;</th><th scope=col>&lt;chr&gt;</th><th scope=col>&lt;lgl&gt;</th><th scope=col>&lt;int&gt;</th><th scope=col>&lt;chr&gt;</th></tr>\n",
       "</thead>\n",
       "<tbody>\n",
       "\t<tr><td>Biopsy_Site     </td><td>Biopsy Site     </td><td>Biopsy Site     </td><td>Site where sample was collected from.                                                      </td><td>NA</td><td>18</td><td>parent_group</td></tr>\n",
       "\t<tr><td>Cancer_Tissue   </td><td>Cancer Tissue   </td><td>Cancer Tissue   </td><td>Original tumor tissue.                                                                     </td><td>NA</td><td>14</td><td>parent_group</td></tr>\n",
       "\t<tr><td>Clinical_Benefit</td><td>Clinical Benefit</td><td>Clinical Benefit</td><td>Patients have clinical benefit when mRECIST response is different than Progressive Disease.</td><td>NA</td><td> 4</td><td>parent_group</td></tr>\n",
       "\t<tr><td>Clinical_Stage  </td><td>Clinical Stage  </td><td>Clinical Stage  </td><td>Clinical stage of cancer.                                                                  </td><td>NA</td><td>17</td><td>parent_group</td></tr>\n",
       "\t<tr><td>FFPE            </td><td>FFPE Samples    </td><td>FFPE Samples    </td><td>Indicates whether the sample is FFPE or not.                                               </td><td>NA</td><td>20</td><td>parent_group</td></tr>\n",
       "\t<tr><td>ICI_Pathway     </td><td>ICI Pathway     </td><td>ICI Pathway     </td><td>Pathway that is being targeted by the ICI treatment.                                       </td><td>NA</td><td> 6</td><td>parent_group</td></tr>\n",
       "</tbody>\n",
       "</table>\n"
      ],
      "text/latex": [
       "A tibble: 6 x 7\n",
       "\\begin{tabular}{lllllll}\n",
       " tag\\_name & tag\\_long\\_display & tag\\_short\\_display & tag\\_characteristics & tag\\_color & tag\\_order & tag\\_type\\\\\n",
       " <chr> & <chr> & <chr> & <chr> & <lgl> & <int> & <chr>\\\\\n",
       "\\hline\n",
       "\t Biopsy\\_Site      & Biopsy Site      & Biopsy Site      & Site where sample was collected from.                                                       & NA & 18 & parent\\_group\\\\\n",
       "\t Cancer\\_Tissue    & Cancer Tissue    & Cancer Tissue    & Original tumor tissue.                                                                      & NA & 14 & parent\\_group\\\\\n",
       "\t Clinical\\_Benefit & Clinical Benefit & Clinical Benefit & Patients have clinical benefit when mRECIST response is different than Progressive Disease. & NA &  4 & parent\\_group\\\\\n",
       "\t Clinical\\_Stage   & Clinical Stage   & Clinical Stage   & Clinical stage of cancer.                                                                   & NA & 17 & parent\\_group\\\\\n",
       "\t FFPE             & FFPE Samples     & FFPE Samples     & Indicates whether the sample is FFPE or not.                                                & NA & 20 & parent\\_group\\\\\n",
       "\t ICI\\_Pathway      & ICI Pathway      & ICI Pathway      & Pathway that is being targeted by the ICI treatment.                                        & NA &  6 & parent\\_group\\\\\n",
       "\\end{tabular}\n"
      ],
      "text/markdown": [
       "\n",
       "A tibble: 6 x 7\n",
       "\n",
       "| tag_name &lt;chr&gt; | tag_long_display &lt;chr&gt; | tag_short_display &lt;chr&gt; | tag_characteristics &lt;chr&gt; | tag_color &lt;lgl&gt; | tag_order &lt;int&gt; | tag_type &lt;chr&gt; |\n",
       "|---|---|---|---|---|---|---|\n",
       "| Biopsy_Site      | Biopsy Site      | Biopsy Site      | Site where sample was collected from.                                                       | NA | 18 | parent_group |\n",
       "| Cancer_Tissue    | Cancer Tissue    | Cancer Tissue    | Original tumor tissue.                                                                      | NA | 14 | parent_group |\n",
       "| Clinical_Benefit | Clinical Benefit | Clinical Benefit | Patients have clinical benefit when mRECIST response is different than Progressive Disease. | NA |  4 | parent_group |\n",
       "| Clinical_Stage   | Clinical Stage   | Clinical Stage   | Clinical stage of cancer.                                                                   | NA | 17 | parent_group |\n",
       "| FFPE             | FFPE Samples     | FFPE Samples     | Indicates whether the sample is FFPE or not.                                                | NA | 20 | parent_group |\n",
       "| ICI_Pathway      | ICI Pathway      | ICI Pathway      | Pathway that is being targeted by the ICI treatment.                                        | NA |  6 | parent_group |\n",
       "\n"
      ],
      "text/plain": [
       "  tag_name         tag_long_display tag_short_display\n",
       "1 Biopsy_Site      Biopsy Site      Biopsy Site      \n",
       "2 Cancer_Tissue    Cancer Tissue    Cancer Tissue    \n",
       "3 Clinical_Benefit Clinical Benefit Clinical Benefit \n",
       "4 Clinical_Stage   Clinical Stage   Clinical Stage   \n",
       "5 FFPE             FFPE Samples     FFPE Samples     \n",
       "6 ICI_Pathway      ICI Pathway      ICI Pathway      \n",
       "  tag_characteristics                                                                        \n",
       "1 Site where sample was collected from.                                                      \n",
       "2 Original tumor tissue.                                                                     \n",
       "3 Patients have clinical benefit when mRECIST response is different than Progressive Disease.\n",
       "4 Clinical stage of cancer.                                                                  \n",
       "5 Indicates whether the sample is FFPE or not.                                               \n",
       "6 Pathway that is being targeted by the ICI treatment.                                       \n",
       "  tag_color tag_order tag_type    \n",
       "1 NA        18        parent_group\n",
       "2 NA        14        parent_group\n",
       "3 NA         4        parent_group\n",
       "4 NA        17        parent_group\n",
       "5 NA        20        parent_group\n",
       "6 NA         6        parent_group"
      ]
     },
     "metadata": {},
     "output_type": "display_data"
    }
   ],
   "source": [
    "#clinical annotation that is available for the Bi 2021 dataset\n",
    "clinical_options <- iatlasGraphQLClient::query_tags(datasets = 'Bi_2021')\n",
    "head(clinical_options)"
   ]
  },
  {
   "cell_type": "markdown",
   "metadata": {},
   "source": [
    "## Gene Expression"
   ]
  },
  {
   "cell_type": "code",
   "execution_count": 8,
   "metadata": {
    "vscode": {
     "languageId": "r"
    }
   },
   "outputs": [
    {
     "data": {
      "text/html": [
       "<table class=\"dataframe\">\n",
       "<caption>A tibble: 6 x 10</caption>\n",
       "<thead>\n",
       "\t<tr><th scope=col>hgnc</th><th scope=col>entrez</th><th scope=col>description</th><th scope=col>friendly_name</th><th scope=col>io_landscape_name</th><th scope=col>gene_family</th><th scope=col>gene_function</th><th scope=col>immune_checkpoint</th><th scope=col>pathway</th><th scope=col>super_category</th></tr>\n",
       "\t<tr><th scope=col>&lt;chr&gt;</th><th scope=col>&lt;int&gt;</th><th scope=col>&lt;chr&gt;</th><th scope=col>&lt;chr&gt;</th><th scope=col>&lt;chr&gt;</th><th scope=col>&lt;chr&gt;</th><th scope=col>&lt;chr&gt;</th><th scope=col>&lt;chr&gt;</th><th scope=col>&lt;chr&gt;</th><th scope=col>&lt;chr&gt;</th></tr>\n",
       "</thead>\n",
       "<tbody>\n",
       "\t<tr><td>ABCB5 </td><td>340273</td><td>A protein highly expressed by melanoma cell, and it is also in the family of ABC transporter and P-glycoprotein family.   </td><td>NA</td><td>ABCB5 </td><td>NA</td><td>NA</td><td>NA</td><td>ABC-family proteins mediated transport</td><td>NA</td></tr>\n",
       "\t<tr><td>ABCC1 </td><td>  4363</td><td>MRP1 is a membrane transporter and it allows tumor cells to transport many chemotherapeutic compounds out of cancer cells.</td><td>NA</td><td>MRP1  </td><td>NA</td><td>NA</td><td>NA</td><td>ABC-family proteins mediated transport</td><td>NA</td></tr>\n",
       "\t<tr><td>ACKR3 </td><td> 57007</td><td>CXCR7 is the receptor for chemokines CXCL11 and CXCL12.                                                                   </td><td>NA</td><td>CXCR7 </td><td>NA</td><td>NA</td><td>NA</td><td>Chemokine signaling pathway           </td><td>NA</td></tr>\n",
       "\t<tr><td>ACP3  </td><td>    55</td><td>A enzyme produced by the prostate and generally is elevated in men with prostate cancer.                                  </td><td>NA</td><td>ACPP  </td><td>NA</td><td>NA</td><td>NA</td><td>Innate Immune System                  </td><td>NA</td></tr>\n",
       "\t<tr><td>ADAM17</td><td>  6868</td><td>Belongs to metallopeptidase family and help the maturation of TNF.                                                        </td><td>NA</td><td>ADAM17</td><td>NA</td><td>NA</td><td>NA</td><td>Metallopeptidase                      </td><td>NA</td></tr>\n",
       "\t<tr><td>ADAM9 </td><td>  8754</td><td>Belongs to metallopeptidase family.                                                                                       </td><td>NA</td><td>ADAM9 </td><td>NA</td><td>NA</td><td>NA</td><td>Metallopeptidase                      </td><td>NA</td></tr>\n",
       "</tbody>\n",
       "</table>\n"
      ],
      "text/latex": [
       "A tibble: 6 x 10\n",
       "\\begin{tabular}{llllllllll}\n",
       " hgnc & entrez & description & friendly\\_name & io\\_landscape\\_name & gene\\_family & gene\\_function & immune\\_checkpoint & pathway & super\\_category\\\\\n",
       " <chr> & <int> & <chr> & <chr> & <chr> & <chr> & <chr> & <chr> & <chr> & <chr>\\\\\n",
       "\\hline\n",
       "\t ABCB5  & 340273 & A protein highly expressed by melanoma cell, and it is also in the family of ABC transporter and P-glycoprotein family.    & NA & ABCB5  & NA & NA & NA & ABC-family proteins mediated transport & NA\\\\\n",
       "\t ABCC1  &   4363 & MRP1 is a membrane transporter and it allows tumor cells to transport many chemotherapeutic compounds out of cancer cells. & NA & MRP1   & NA & NA & NA & ABC-family proteins mediated transport & NA\\\\\n",
       "\t ACKR3  &  57007 & CXCR7 is the receptor for chemokines CXCL11 and CXCL12.                                                                    & NA & CXCR7  & NA & NA & NA & Chemokine signaling pathway            & NA\\\\\n",
       "\t ACP3   &     55 & A enzyme produced by the prostate and generally is elevated in men with prostate cancer.                                   & NA & ACPP   & NA & NA & NA & Innate Immune System                   & NA\\\\\n",
       "\t ADAM17 &   6868 & Belongs to metallopeptidase family and help the maturation of TNF.                                                         & NA & ADAM17 & NA & NA & NA & Metallopeptidase                       & NA\\\\\n",
       "\t ADAM9  &   8754 & Belongs to metallopeptidase family.                                                                                        & NA & ADAM9  & NA & NA & NA & Metallopeptidase                       & NA\\\\\n",
       "\\end{tabular}\n"
      ],
      "text/markdown": [
       "\n",
       "A tibble: 6 x 10\n",
       "\n",
       "| hgnc &lt;chr&gt; | entrez &lt;int&gt; | description &lt;chr&gt; | friendly_name &lt;chr&gt; | io_landscape_name &lt;chr&gt; | gene_family &lt;chr&gt; | gene_function &lt;chr&gt; | immune_checkpoint &lt;chr&gt; | pathway &lt;chr&gt; | super_category &lt;chr&gt; |\n",
       "|---|---|---|---|---|---|---|---|---|---|\n",
       "| ABCB5  | 340273 | A protein highly expressed by melanoma cell, and it is also in the family of ABC transporter and P-glycoprotein family.    | NA | ABCB5  | NA | NA | NA | ABC-family proteins mediated transport | NA |\n",
       "| ABCC1  |   4363 | MRP1 is a membrane transporter and it allows tumor cells to transport many chemotherapeutic compounds out of cancer cells. | NA | MRP1   | NA | NA | NA | ABC-family proteins mediated transport | NA |\n",
       "| ACKR3  |  57007 | CXCR7 is the receptor for chemokines CXCL11 and CXCL12.                                                                    | NA | CXCR7  | NA | NA | NA | Chemokine signaling pathway            | NA |\n",
       "| ACP3   |     55 | A enzyme produced by the prostate and generally is elevated in men with prostate cancer.                                   | NA | ACPP   | NA | NA | NA | Innate Immune System                   | NA |\n",
       "| ADAM17 |   6868 | Belongs to metallopeptidase family and help the maturation of TNF.                                                         | NA | ADAM17 | NA | NA | NA | Metallopeptidase                       | NA |\n",
       "| ADAM9  |   8754 | Belongs to metallopeptidase family.                                                                                        | NA | ADAM9  | NA | NA | NA | Metallopeptidase                       | NA |\n",
       "\n"
      ],
      "text/plain": [
       "  hgnc   entrez\n",
       "1 ABCB5  340273\n",
       "2 ABCC1    4363\n",
       "3 ACKR3   57007\n",
       "4 ACP3       55\n",
       "5 ADAM17   6868\n",
       "6 ADAM9    8754\n",
       "  description                                                                                                               \n",
       "1 A protein highly expressed by melanoma cell, and it is also in the family of ABC transporter and P-glycoprotein family.   \n",
       "2 MRP1 is a membrane transporter and it allows tumor cells to transport many chemotherapeutic compounds out of cancer cells.\n",
       "3 CXCR7 is the receptor for chemokines CXCL11 and CXCL12.                                                                   \n",
       "4 A enzyme produced by the prostate and generally is elevated in men with prostate cancer.                                  \n",
       "5 Belongs to metallopeptidase family and help the maturation of TNF.                                                        \n",
       "6 Belongs to metallopeptidase family.                                                                                       \n",
       "  friendly_name io_landscape_name gene_family gene_function immune_checkpoint\n",
       "1 NA            ABCB5             NA          NA            NA               \n",
       "2 NA            MRP1              NA          NA            NA               \n",
       "3 NA            CXCR7             NA          NA            NA               \n",
       "4 NA            ACPP              NA          NA            NA               \n",
       "5 NA            ADAM17            NA          NA            NA               \n",
       "6 NA            ADAM9             NA          NA            NA               \n",
       "  pathway                                super_category\n",
       "1 ABC-family proteins mediated transport NA            \n",
       "2 ABC-family proteins mediated transport NA            \n",
       "3 Chemokine signaling pathway            NA            \n",
       "4 Innate Immune System                   NA            \n",
       "5 Metallopeptidase                       NA            \n",
       "6 Metallopeptidase                       NA            "
      ]
     },
     "metadata": {},
     "output_type": "display_data"
    }
   ],
   "source": [
    "#genes that we have expression data for the Bi 2021 dataset (we will query expression values in the next section)\n",
    "genes_df <- iatlasGraphQLClient::query_genes(cohorts = \"Bi_2021\")\n",
    "head(genes_df)"
   ]
  },
  {
   "cell_type": "markdown",
   "metadata": {},
   "source": [
    "# Querying the CRI iAtlas database\n",
    "\n",
    "Each type of data has a query function in `iatlasGraphQLClient`, as summarized below:\n",
    "\n",
    "- For immunefeatures for pseudobulk: `iatlasGraphQLClient::query_pseudobulk_feature_values()`\n",
    "- For gene expression data: `iatlasGraphQLClient::query_pseudobulk_expression()`\n",
    "- For clinical annotation: `iatlasGraphQLClient::query_tag_samples_parents()`\n",
    "\n",
    "To illustrate how to get the single-cell RNA-seq data from the iAtlas database, we will get the data that follows the parameters listed below:\n",
    "\n",
    "- *Dataset:* Bi 2021 - ccRCC - PD-1\n",
    "\n",
    "- *Features:* IFN-gamma Response\n",
    "\n",
    "- *Gene expression:* ADORA2A, CTLA4, EDNRB, TLR4\n",
    "\n",
    "- *Clinical Annotation:* Response, Gender."
   ]
  },
  {
   "cell_type": "code",
   "execution_count": 13,
   "metadata": {
    "vscode": {
     "languageId": "r"
    }
   },
   "outputs": [
    {
     "data": {
      "text/html": [
       "<table class=\"dataframe\">\n",
       "<caption>A tibble: 6 x 7</caption>\n",
       "<thead>\n",
       "\t<tr><th scope=col>feature_name</th><th scope=col>feature_display</th><th scope=col>feature_order</th><th scope=col>feature_class</th><th scope=col>sample_name</th><th scope=col>cell_type</th><th scope=col>value</th></tr>\n",
       "\t<tr><th scope=col>&lt;chr&gt;</th><th scope=col>&lt;chr&gt;</th><th scope=col>&lt;int&gt;</th><th scope=col>&lt;chr&gt;</th><th scope=col>&lt;chr&gt;</th><th scope=col>&lt;chr&gt;</th><th scope=col>&lt;dbl&gt;</th></tr>\n",
       "</thead>\n",
       "<tbody>\n",
       "\t<tr><td>Module3_IFN_score</td><td>IFN-gamma Response</td><td>1</td><td>Core Expression Signature</td><td>Li_ccRCC_PD45815_5739STDY8351225</td><td>NK         </td><td>0.0000000</td></tr>\n",
       "\t<tr><td>Module3_IFN_score</td><td>IFN-gamma Response</td><td>1</td><td>Core Expression Signature</td><td>Li_ccRCC_PD45814_5739STDY8351240</td><td>mast cell  </td><td>0.0000000</td></tr>\n",
       "\t<tr><td>Module3_IFN_score</td><td>IFN-gamma Response</td><td>1</td><td>Core Expression Signature</td><td>Li_ccRCC_PD47512_5739STDY9266993</td><td>mast cell  </td><td>0.0000000</td></tr>\n",
       "\t<tr><td>Module3_IFN_score</td><td>IFN-gamma Response</td><td>1</td><td>Core Expression Signature</td><td>Li_ccRCC_PD45814_5739STDY8351216</td><td>B cell     </td><td>0.0000000</td></tr>\n",
       "\t<tr><td>Module3_IFN_score</td><td>IFN-gamma Response</td><td>1</td><td>Core Expression Signature</td><td>Bi_ccRCC_P906                   </td><td>B cell     </td><td>0.9800566</td></tr>\n",
       "\t<tr><td>Module3_IFN_score</td><td>IFN-gamma Response</td><td>1</td><td>Core Expression Signature</td><td>Li_ccRCC_PD47512_5739STDY9266994</td><td>plasma cell</td><td>0.0000000</td></tr>\n",
       "</tbody>\n",
       "</table>\n"
      ],
      "text/latex": [
       "A tibble: 6 x 7\n",
       "\\begin{tabular}{lllllll}\n",
       " feature\\_name & feature\\_display & feature\\_order & feature\\_class & sample\\_name & cell\\_type & value\\\\\n",
       " <chr> & <chr> & <int> & <chr> & <chr> & <chr> & <dbl>\\\\\n",
       "\\hline\n",
       "\t Module3\\_IFN\\_score & IFN-gamma Response & 1 & Core Expression Signature & Li\\_ccRCC\\_PD45815\\_5739STDY8351225 & NK          & 0.0000000\\\\\n",
       "\t Module3\\_IFN\\_score & IFN-gamma Response & 1 & Core Expression Signature & Li\\_ccRCC\\_PD45814\\_5739STDY8351240 & mast cell   & 0.0000000\\\\\n",
       "\t Module3\\_IFN\\_score & IFN-gamma Response & 1 & Core Expression Signature & Li\\_ccRCC\\_PD47512\\_5739STDY9266993 & mast cell   & 0.0000000\\\\\n",
       "\t Module3\\_IFN\\_score & IFN-gamma Response & 1 & Core Expression Signature & Li\\_ccRCC\\_PD45814\\_5739STDY8351216 & B cell      & 0.0000000\\\\\n",
       "\t Module3\\_IFN\\_score & IFN-gamma Response & 1 & Core Expression Signature & Bi\\_ccRCC\\_P906                    & B cell      & 0.9800566\\\\\n",
       "\t Module3\\_IFN\\_score & IFN-gamma Response & 1 & Core Expression Signature & Li\\_ccRCC\\_PD47512\\_5739STDY9266994 & plasma cell & 0.0000000\\\\\n",
       "\\end{tabular}\n"
      ],
      "text/markdown": [
       "\n",
       "A tibble: 6 x 7\n",
       "\n",
       "| feature_name &lt;chr&gt; | feature_display &lt;chr&gt; | feature_order &lt;int&gt; | feature_class &lt;chr&gt; | sample_name &lt;chr&gt; | cell_type &lt;chr&gt; | value &lt;dbl&gt; |\n",
       "|---|---|---|---|---|---|---|\n",
       "| Module3_IFN_score | IFN-gamma Response | 1 | Core Expression Signature | Li_ccRCC_PD45815_5739STDY8351225 | NK          | 0.0000000 |\n",
       "| Module3_IFN_score | IFN-gamma Response | 1 | Core Expression Signature | Li_ccRCC_PD45814_5739STDY8351240 | mast cell   | 0.0000000 |\n",
       "| Module3_IFN_score | IFN-gamma Response | 1 | Core Expression Signature | Li_ccRCC_PD47512_5739STDY9266993 | mast cell   | 0.0000000 |\n",
       "| Module3_IFN_score | IFN-gamma Response | 1 | Core Expression Signature | Li_ccRCC_PD45814_5739STDY8351216 | B cell      | 0.0000000 |\n",
       "| Module3_IFN_score | IFN-gamma Response | 1 | Core Expression Signature | Bi_ccRCC_P906                    | B cell      | 0.9800566 |\n",
       "| Module3_IFN_score | IFN-gamma Response | 1 | Core Expression Signature | Li_ccRCC_PD47512_5739STDY9266994 | plasma cell | 0.0000000 |\n",
       "\n"
      ],
      "text/plain": [
       "  feature_name      feature_display    feature_order feature_class            \n",
       "1 Module3_IFN_score IFN-gamma Response 1             Core Expression Signature\n",
       "2 Module3_IFN_score IFN-gamma Response 1             Core Expression Signature\n",
       "3 Module3_IFN_score IFN-gamma Response 1             Core Expression Signature\n",
       "4 Module3_IFN_score IFN-gamma Response 1             Core Expression Signature\n",
       "5 Module3_IFN_score IFN-gamma Response 1             Core Expression Signature\n",
       "6 Module3_IFN_score IFN-gamma Response 1             Core Expression Signature\n",
       "  sample_name                      cell_type   value    \n",
       "1 Li_ccRCC_PD45815_5739STDY8351225 NK          0.0000000\n",
       "2 Li_ccRCC_PD45814_5739STDY8351240 mast cell   0.0000000\n",
       "3 Li_ccRCC_PD47512_5739STDY9266993 mast cell   0.0000000\n",
       "4 Li_ccRCC_PD45814_5739STDY8351216 B cell      0.0000000\n",
       "5 Bi_ccRCC_P906                    B cell      0.9800566\n",
       "6 Li_ccRCC_PD47512_5739STDY9266994 plasma cell 0.0000000"
      ]
     },
     "metadata": {},
     "output_type": "display_data"
    },
    {
     "data": {
      "text/html": [
       "<table class=\"dataframe\">\n",
       "<caption>A tibble: 6 x 5</caption>\n",
       "<thead>\n",
       "\t<tr><th scope=col>gene_entrez</th><th scope=col>gene_hgnc</th><th scope=col>sample_name</th><th scope=col>cell_type</th><th scope=col>single_cell_seq_sum</th></tr>\n",
       "\t<tr><th scope=col>&lt;int&gt;</th><th scope=col>&lt;chr&gt;</th><th scope=col>&lt;chr&gt;</th><th scope=col>&lt;chr&gt;</th><th scope=col>&lt;dbl&gt;</th></tr>\n",
       "</thead>\n",
       "<tbody>\n",
       "\t<tr><td>7099</td><td>TLR4</td><td>Bi_ccRCC_P55</td><td>B cell        </td><td>0.000000000</td></tr>\n",
       "\t<tr><td>7099</td><td>TLR4</td><td>Bi_ccRCC_P55</td><td>Dendritic cell</td><td>0.000000000</td></tr>\n",
       "\t<tr><td>7099</td><td>TLR4</td><td>Bi_ccRCC_P55</td><td>macrophage    </td><td>0.249042146</td></tr>\n",
       "\t<tr><td>7099</td><td>TLR4</td><td>Bi_ccRCC_P55</td><td>monocyte      </td><td>0.141509434</td></tr>\n",
       "\t<tr><td>7099</td><td>TLR4</td><td>Bi_ccRCC_P55</td><td>myeloid cell  </td><td>0.085714286</td></tr>\n",
       "\t<tr><td>7099</td><td>TLR4</td><td>Bi_ccRCC_P55</td><td>NK            </td><td>0.001618123</td></tr>\n",
       "</tbody>\n",
       "</table>\n"
      ],
      "text/latex": [
       "A tibble: 6 x 5\n",
       "\\begin{tabular}{lllll}\n",
       " gene\\_entrez & gene\\_hgnc & sample\\_name & cell\\_type & single\\_cell\\_seq\\_sum\\\\\n",
       " <int> & <chr> & <chr> & <chr> & <dbl>\\\\\n",
       "\\hline\n",
       "\t 7099 & TLR4 & Bi\\_ccRCC\\_P55 & B cell         & 0.000000000\\\\\n",
       "\t 7099 & TLR4 & Bi\\_ccRCC\\_P55 & Dendritic cell & 0.000000000\\\\\n",
       "\t 7099 & TLR4 & Bi\\_ccRCC\\_P55 & macrophage     & 0.249042146\\\\\n",
       "\t 7099 & TLR4 & Bi\\_ccRCC\\_P55 & monocyte       & 0.141509434\\\\\n",
       "\t 7099 & TLR4 & Bi\\_ccRCC\\_P55 & myeloid cell   & 0.085714286\\\\\n",
       "\t 7099 & TLR4 & Bi\\_ccRCC\\_P55 & NK             & 0.001618123\\\\\n",
       "\\end{tabular}\n"
      ],
      "text/markdown": [
       "\n",
       "A tibble: 6 x 5\n",
       "\n",
       "| gene_entrez &lt;int&gt; | gene_hgnc &lt;chr&gt; | sample_name &lt;chr&gt; | cell_type &lt;chr&gt; | single_cell_seq_sum &lt;dbl&gt; |\n",
       "|---|---|---|---|---|\n",
       "| 7099 | TLR4 | Bi_ccRCC_P55 | B cell         | 0.000000000 |\n",
       "| 7099 | TLR4 | Bi_ccRCC_P55 | Dendritic cell | 0.000000000 |\n",
       "| 7099 | TLR4 | Bi_ccRCC_P55 | macrophage     | 0.249042146 |\n",
       "| 7099 | TLR4 | Bi_ccRCC_P55 | monocyte       | 0.141509434 |\n",
       "| 7099 | TLR4 | Bi_ccRCC_P55 | myeloid cell   | 0.085714286 |\n",
       "| 7099 | TLR4 | Bi_ccRCC_P55 | NK             | 0.001618123 |\n",
       "\n"
      ],
      "text/plain": [
       "  gene_entrez gene_hgnc sample_name  cell_type      single_cell_seq_sum\n",
       "1 7099        TLR4      Bi_ccRCC_P55 B cell         0.000000000        \n",
       "2 7099        TLR4      Bi_ccRCC_P55 Dendritic cell 0.000000000        \n",
       "3 7099        TLR4      Bi_ccRCC_P55 macrophage     0.249042146        \n",
       "4 7099        TLR4      Bi_ccRCC_P55 monocyte       0.141509434        \n",
       "5 7099        TLR4      Bi_ccRCC_P55 myeloid cell   0.085714286        \n",
       "6 7099        TLR4      Bi_ccRCC_P55 NK             0.001618123        "
      ]
     },
     "metadata": {},
     "output_type": "display_data"
    },
    {
     "data": {
      "text/html": [
       "<table class=\"dataframe\">\n",
       "<caption>A tibble: 6 x 6</caption>\n",
       "<thead>\n",
       "\t<tr><th scope=col>type</th><th scope=col>count</th><th scope=col>avg_expr</th><th scope=col>perc_expr</th><th scope=col>dataset_name</th><th scope=col>gene_entrez</th></tr>\n",
       "\t<tr><th scope=col>&lt;chr&gt;</th><th scope=col>&lt;int&gt;</th><th scope=col>&lt;dbl&gt;</th><th scope=col>&lt;dbl&gt;</th><th scope=col>&lt;chr&gt;</th><th scope=col>&lt;int&gt;</th></tr>\n",
       "</thead>\n",
       "<tbody>\n",
       "\t<tr><td>fibroblast </td><td> 0</td><td>0.0000000</td><td>0.0000000000</td><td>Bi_2021</td><td>1493</td></tr>\n",
       "\t<tr><td>tumor      </td><td>72</td><td>0.9532290</td><td>0.0089552239</td><td>Bi_2021</td><td>7099</td></tr>\n",
       "\t<tr><td>T cell     </td><td> 0</td><td>0.0000000</td><td>0.0000000000</td><td>Bi_2021</td><td> 135</td></tr>\n",
       "\t<tr><td>plasma cell</td><td> 3</td><td>0.2347807</td><td>0.0064794816</td><td>Bi_2021</td><td>1493</td></tr>\n",
       "\t<tr><td>fibroblast </td><td> 8</td><td>1.9022334</td><td>0.0879120879</td><td>Bi_2021</td><td>1910</td></tr>\n",
       "\t<tr><td>macrophage </td><td> 1</td><td>0.7027845</td><td>0.0001979022</td><td>Bi_2021</td><td> 135</td></tr>\n",
       "</tbody>\n",
       "</table>\n"
      ],
      "text/latex": [
       "A tibble: 6 x 6\n",
       "\\begin{tabular}{llllll}\n",
       " type & count & avg\\_expr & perc\\_expr & dataset\\_name & gene\\_entrez\\\\\n",
       " <chr> & <int> & <dbl> & <dbl> & <chr> & <int>\\\\\n",
       "\\hline\n",
       "\t fibroblast  &  0 & 0.0000000 & 0.0000000000 & Bi\\_2021 & 1493\\\\\n",
       "\t tumor       & 72 & 0.9532290 & 0.0089552239 & Bi\\_2021 & 7099\\\\\n",
       "\t T cell      &  0 & 0.0000000 & 0.0000000000 & Bi\\_2021 &  135\\\\\n",
       "\t plasma cell &  3 & 0.2347807 & 0.0064794816 & Bi\\_2021 & 1493\\\\\n",
       "\t fibroblast  &  8 & 1.9022334 & 0.0879120879 & Bi\\_2021 & 1910\\\\\n",
       "\t macrophage  &  1 & 0.7027845 & 0.0001979022 & Bi\\_2021 &  135\\\\\n",
       "\\end{tabular}\n"
      ],
      "text/markdown": [
       "\n",
       "A tibble: 6 x 6\n",
       "\n",
       "| type &lt;chr&gt; | count &lt;int&gt; | avg_expr &lt;dbl&gt; | perc_expr &lt;dbl&gt; | dataset_name &lt;chr&gt; | gene_entrez &lt;int&gt; |\n",
       "|---|---|---|---|---|---|\n",
       "| fibroblast  |  0 | 0.0000000 | 0.0000000000 | Bi_2021 | 1493 |\n",
       "| tumor       | 72 | 0.9532290 | 0.0089552239 | Bi_2021 | 7099 |\n",
       "| T cell      |  0 | 0.0000000 | 0.0000000000 | Bi_2021 |  135 |\n",
       "| plasma cell |  3 | 0.2347807 | 0.0064794816 | Bi_2021 | 1493 |\n",
       "| fibroblast  |  8 | 1.9022334 | 0.0879120879 | Bi_2021 | 1910 |\n",
       "| macrophage  |  1 | 0.7027845 | 0.0001979022 | Bi_2021 |  135 |\n",
       "\n"
      ],
      "text/plain": [
       "  type        count avg_expr  perc_expr    dataset_name gene_entrez\n",
       "1 fibroblast   0    0.0000000 0.0000000000 Bi_2021      1493       \n",
       "2 tumor       72    0.9532290 0.0089552239 Bi_2021      7099       \n",
       "3 T cell       0    0.0000000 0.0000000000 Bi_2021       135       \n",
       "4 plasma cell  3    0.2347807 0.0064794816 Bi_2021      1493       \n",
       "5 fibroblast   8    1.9022334 0.0879120879 Bi_2021      1910       \n",
       "6 macrophage   1    0.7027845 0.0001979022 Bi_2021       135       "
      ]
     },
     "metadata": {},
     "output_type": "display_data"
    },
    {
     "data": {
      "text/html": [
       "<table class=\"dataframe\">\n",
       "<caption>A tibble: 6 x 15</caption>\n",
       "<thead>\n",
       "\t<tr><th scope=col>sample_name</th><th scope=col>parent_tag_name</th><th scope=col>parent_tag_long_display</th><th scope=col>parent_tag_short_display</th><th scope=col>parent_tag_characteristics</th><th scope=col>parent_tag_color</th><th scope=col>parent_tag_order</th><th scope=col>parent_tag_type</th><th scope=col>tag_name</th><th scope=col>tag_long_display</th><th scope=col>tag_short_display</th><th scope=col>tag_characteristics</th><th scope=col>tag_color</th><th scope=col>tag_order</th><th scope=col>tag_type</th></tr>\n",
       "\t<tr><th scope=col>&lt;chr&gt;</th><th scope=col>&lt;chr&gt;</th><th scope=col>&lt;chr&gt;</th><th scope=col>&lt;chr&gt;</th><th scope=col>&lt;chr&gt;</th><th scope=col>&lt;lgl&gt;</th><th scope=col>&lt;int&gt;</th><th scope=col>&lt;chr&gt;</th><th scope=col>&lt;chr&gt;</th><th scope=col>&lt;chr&gt;</th><th scope=col>&lt;chr&gt;</th><th scope=col>&lt;chr&gt;</th><th scope=col>&lt;chr&gt;</th><th scope=col>&lt;int&gt;</th><th scope=col>&lt;chr&gt;</th></tr>\n",
       "</thead>\n",
       "<tbody>\n",
       "\t<tr><td>Bi_ccRCC_P912</td><td>Response</td><td>mRECIST Response</td><td>mRECIST Response</td><td>Response to treatment following modified Response Evaluation Criteria in Solid Tumors (mRECIST) guidelines.</td><td>NA</td><td>1</td><td>parent_group</td><td>na_response              </td><td>Not available   </td><td>Not available   </td><td>Response information not available                                                                        </td><td>#868A88</td><td>5</td><td>group</td></tr>\n",
       "\t<tr><td>Bi_ccRCC_P90 </td><td>Response</td><td>mRECIST Response</td><td>mRECIST Response</td><td>Response to treatment following modified Response Evaluation Criteria in Solid Tumors (mRECIST) guidelines.</td><td>NA</td><td>1</td><td>parent_group</td><td>na_response              </td><td>Not available   </td><td>Not available   </td><td>Response information not available                                                                        </td><td>#868A88</td><td>5</td><td>group</td></tr>\n",
       "\t<tr><td>Bi_ccRCC_P76 </td><td>Response</td><td>mRECIST Response</td><td>mRECIST Response</td><td>Response to treatment following modified Response Evaluation Criteria in Solid Tumors (mRECIST) guidelines.</td><td>NA</td><td>1</td><td>parent_group</td><td>na_response              </td><td>Not available   </td><td>Not available   </td><td>Response information not available                                                                        </td><td>#868A88</td><td>5</td><td>group</td></tr>\n",
       "\t<tr><td>Bi_ccRCC_P916</td><td>Response</td><td>mRECIST Response</td><td>mRECIST Response</td><td>Response to treatment following modified Response Evaluation Criteria in Solid Tumors (mRECIST) guidelines.</td><td>NA</td><td>1</td><td>parent_group</td><td>na_response              </td><td>Not available   </td><td>Not available   </td><td>Response information not available                                                                        </td><td>#868A88</td><td>5</td><td>group</td></tr>\n",
       "\t<tr><td>Bi_ccRCC_P55 </td><td>Response</td><td>mRECIST Response</td><td>mRECIST Response</td><td>Response to treatment following modified Response Evaluation Criteria in Solid Tumors (mRECIST) guidelines.</td><td>NA</td><td>1</td><td>parent_group</td><td>partial_response_response</td><td>Partial Response</td><td>Partial Response</td><td>Partial Response (PR) following modified Response Evaluation Criteria in Solid Tumors (mRECIST) guidelines</td><td>#0072B2</td><td>2</td><td>group</td></tr>\n",
       "\t<tr><td>Bi_ccRCC_P915</td><td>Response</td><td>mRECIST Response</td><td>mRECIST Response</td><td>Response to treatment following modified Response Evaluation Criteria in Solid Tumors (mRECIST) guidelines.</td><td>NA</td><td>1</td><td>parent_group</td><td>partial_response_response</td><td>Partial Response</td><td>Partial Response</td><td>Partial Response (PR) following modified Response Evaluation Criteria in Solid Tumors (mRECIST) guidelines</td><td>#0072B2</td><td>2</td><td>group</td></tr>\n",
       "</tbody>\n",
       "</table>\n"
      ],
      "text/latex": [
       "A tibble: 6 x 15\n",
       "\\begin{tabular}{lllllllllllllll}\n",
       " sample\\_name & parent\\_tag\\_name & parent\\_tag\\_long\\_display & parent\\_tag\\_short\\_display & parent\\_tag\\_characteristics & parent\\_tag\\_color & parent\\_tag\\_order & parent\\_tag\\_type & tag\\_name & tag\\_long\\_display & tag\\_short\\_display & tag\\_characteristics & tag\\_color & tag\\_order & tag\\_type\\\\\n",
       " <chr> & <chr> & <chr> & <chr> & <chr> & <lgl> & <int> & <chr> & <chr> & <chr> & <chr> & <chr> & <chr> & <int> & <chr>\\\\\n",
       "\\hline\n",
       "\t Bi\\_ccRCC\\_P912 & Response & mRECIST Response & mRECIST Response & Response to treatment following modified Response Evaluation Criteria in Solid Tumors (mRECIST) guidelines. & NA & 1 & parent\\_group & na\\_response               & Not available    & Not available    & Response information not available                                                                         & \\#868A88 & 5 & group\\\\\n",
       "\t Bi\\_ccRCC\\_P90  & Response & mRECIST Response & mRECIST Response & Response to treatment following modified Response Evaluation Criteria in Solid Tumors (mRECIST) guidelines. & NA & 1 & parent\\_group & na\\_response               & Not available    & Not available    & Response information not available                                                                         & \\#868A88 & 5 & group\\\\\n",
       "\t Bi\\_ccRCC\\_P76  & Response & mRECIST Response & mRECIST Response & Response to treatment following modified Response Evaluation Criteria in Solid Tumors (mRECIST) guidelines. & NA & 1 & parent\\_group & na\\_response               & Not available    & Not available    & Response information not available                                                                         & \\#868A88 & 5 & group\\\\\n",
       "\t Bi\\_ccRCC\\_P916 & Response & mRECIST Response & mRECIST Response & Response to treatment following modified Response Evaluation Criteria in Solid Tumors (mRECIST) guidelines. & NA & 1 & parent\\_group & na\\_response               & Not available    & Not available    & Response information not available                                                                         & \\#868A88 & 5 & group\\\\\n",
       "\t Bi\\_ccRCC\\_P55  & Response & mRECIST Response & mRECIST Response & Response to treatment following modified Response Evaluation Criteria in Solid Tumors (mRECIST) guidelines. & NA & 1 & parent\\_group & partial\\_response\\_response & Partial Response & Partial Response & Partial Response (PR) following modified Response Evaluation Criteria in Solid Tumors (mRECIST) guidelines & \\#0072B2 & 2 & group\\\\\n",
       "\t Bi\\_ccRCC\\_P915 & Response & mRECIST Response & mRECIST Response & Response to treatment following modified Response Evaluation Criteria in Solid Tumors (mRECIST) guidelines. & NA & 1 & parent\\_group & partial\\_response\\_response & Partial Response & Partial Response & Partial Response (PR) following modified Response Evaluation Criteria in Solid Tumors (mRECIST) guidelines & \\#0072B2 & 2 & group\\\\\n",
       "\\end{tabular}\n"
      ],
      "text/markdown": [
       "\n",
       "A tibble: 6 x 15\n",
       "\n",
       "| sample_name &lt;chr&gt; | parent_tag_name &lt;chr&gt; | parent_tag_long_display &lt;chr&gt; | parent_tag_short_display &lt;chr&gt; | parent_tag_characteristics &lt;chr&gt; | parent_tag_color &lt;lgl&gt; | parent_tag_order &lt;int&gt; | parent_tag_type &lt;chr&gt; | tag_name &lt;chr&gt; | tag_long_display &lt;chr&gt; | tag_short_display &lt;chr&gt; | tag_characteristics &lt;chr&gt; | tag_color &lt;chr&gt; | tag_order &lt;int&gt; | tag_type &lt;chr&gt; |\n",
       "|---|---|---|---|---|---|---|---|---|---|---|---|---|---|---|\n",
       "| Bi_ccRCC_P912 | Response | mRECIST Response | mRECIST Response | Response to treatment following modified Response Evaluation Criteria in Solid Tumors (mRECIST) guidelines. | NA | 1 | parent_group | na_response               | Not available    | Not available    | Response information not available                                                                         | #868A88 | 5 | group |\n",
       "| Bi_ccRCC_P90  | Response | mRECIST Response | mRECIST Response | Response to treatment following modified Response Evaluation Criteria in Solid Tumors (mRECIST) guidelines. | NA | 1 | parent_group | na_response               | Not available    | Not available    | Response information not available                                                                         | #868A88 | 5 | group |\n",
       "| Bi_ccRCC_P76  | Response | mRECIST Response | mRECIST Response | Response to treatment following modified Response Evaluation Criteria in Solid Tumors (mRECIST) guidelines. | NA | 1 | parent_group | na_response               | Not available    | Not available    | Response information not available                                                                         | #868A88 | 5 | group |\n",
       "| Bi_ccRCC_P916 | Response | mRECIST Response | mRECIST Response | Response to treatment following modified Response Evaluation Criteria in Solid Tumors (mRECIST) guidelines. | NA | 1 | parent_group | na_response               | Not available    | Not available    | Response information not available                                                                         | #868A88 | 5 | group |\n",
       "| Bi_ccRCC_P55  | Response | mRECIST Response | mRECIST Response | Response to treatment following modified Response Evaluation Criteria in Solid Tumors (mRECIST) guidelines. | NA | 1 | parent_group | partial_response_response | Partial Response | Partial Response | Partial Response (PR) following modified Response Evaluation Criteria in Solid Tumors (mRECIST) guidelines | #0072B2 | 2 | group |\n",
       "| Bi_ccRCC_P915 | Response | mRECIST Response | mRECIST Response | Response to treatment following modified Response Evaluation Criteria in Solid Tumors (mRECIST) guidelines. | NA | 1 | parent_group | partial_response_response | Partial Response | Partial Response | Partial Response (PR) following modified Response Evaluation Criteria in Solid Tumors (mRECIST) guidelines | #0072B2 | 2 | group |\n",
       "\n"
      ],
      "text/plain": [
       "  sample_name   parent_tag_name parent_tag_long_display\n",
       "1 Bi_ccRCC_P912 Response        mRECIST Response       \n",
       "2 Bi_ccRCC_P90  Response        mRECIST Response       \n",
       "3 Bi_ccRCC_P76  Response        mRECIST Response       \n",
       "4 Bi_ccRCC_P916 Response        mRECIST Response       \n",
       "5 Bi_ccRCC_P55  Response        mRECIST Response       \n",
       "6 Bi_ccRCC_P915 Response        mRECIST Response       \n",
       "  parent_tag_short_display\n",
       "1 mRECIST Response        \n",
       "2 mRECIST Response        \n",
       "3 mRECIST Response        \n",
       "4 mRECIST Response        \n",
       "5 mRECIST Response        \n",
       "6 mRECIST Response        \n",
       "  parent_tag_characteristics                                                                                 \n",
       "1 Response to treatment following modified Response Evaluation Criteria in Solid Tumors (mRECIST) guidelines.\n",
       "2 Response to treatment following modified Response Evaluation Criteria in Solid Tumors (mRECIST) guidelines.\n",
       "3 Response to treatment following modified Response Evaluation Criteria in Solid Tumors (mRECIST) guidelines.\n",
       "4 Response to treatment following modified Response Evaluation Criteria in Solid Tumors (mRECIST) guidelines.\n",
       "5 Response to treatment following modified Response Evaluation Criteria in Solid Tumors (mRECIST) guidelines.\n",
       "6 Response to treatment following modified Response Evaluation Criteria in Solid Tumors (mRECIST) guidelines.\n",
       "  parent_tag_color parent_tag_order parent_tag_type tag_name                 \n",
       "1 NA               1                parent_group    na_response              \n",
       "2 NA               1                parent_group    na_response              \n",
       "3 NA               1                parent_group    na_response              \n",
       "4 NA               1                parent_group    na_response              \n",
       "5 NA               1                parent_group    partial_response_response\n",
       "6 NA               1                parent_group    partial_response_response\n",
       "  tag_long_display tag_short_display\n",
       "1 Not available    Not available    \n",
       "2 Not available    Not available    \n",
       "3 Not available    Not available    \n",
       "4 Not available    Not available    \n",
       "5 Partial Response Partial Response \n",
       "6 Partial Response Partial Response \n",
       "  tag_characteristics                                                                                       \n",
       "1 Response information not available                                                                        \n",
       "2 Response information not available                                                                        \n",
       "3 Response information not available                                                                        \n",
       "4 Response information not available                                                                        \n",
       "5 Partial Response (PR) following modified Response Evaluation Criteria in Solid Tumors (mRECIST) guidelines\n",
       "6 Partial Response (PR) following modified Response Evaluation Criteria in Solid Tumors (mRECIST) guidelines\n",
       "  tag_color tag_order tag_type\n",
       "1 #868A88   5         group   \n",
       "2 #868A88   5         group   \n",
       "3 #868A88   5         group   \n",
       "4 #868A88   5         group   \n",
       "5 #0072B2   2         group   \n",
       "6 #0072B2   2         group   "
      ]
     },
     "metadata": {},
     "output_type": "display_data"
    }
   ],
   "source": [
    "#For immune features, use names from features_df$name\n",
    "features   <- iatlasGraphQLClient::query_pseudobulk_feature_values(cohorts = \"Bi_2021\", \n",
    "                                                      features = \"Module3_IFN_score\") \n",
    "\n",
    "#For gene expression, we need the gene Entrez ID to query the iAtlas database\n",
    "genes_entrez <- c(135,\n",
    "                1493,\n",
    "                1910,\n",
    "                7099)\n",
    "\n",
    "genes <- iatlasGraphQLClient::query_pseudobulk_expression(cohorts = \"Bi_2021\", \n",
    "                                                  entrez = na.omit(as.numeric(genes_entrez)))\n",
    "\n",
    "#The CRI iAtlas database also has precomputed statistics of frequency and average expression for genes in each cell type\n",
    "cell_stats <- iatlasGraphQLClient::query_cell_stats(entrez = na.omit(as.numeric(genes_entrez)))%>%\n",
    "                dplyr::filter(dataset_name == \"Bi_2021\")\n",
    "\n",
    "\n",
    "#For clinical annotation, use names from clinical_options$tag_name that have tag_type == \"parent_tag\"\n",
    "\n",
    "clinical_annotation  <- iatlasGraphQLClient::query_tag_samples_parents(cohorts = \"Bi_2021\", \n",
    "                                                       parent_tags = c(\"Response\", \"Gender\")) \n",
    "\n",
    "#All the tables are in the long format.\n",
    "head(features)\n",
    "head(genes)\n",
    "head(cell_stats)\n",
    "head(clinical_annotation)"
   ]
  }
 ],
 "metadata": {
  "kernelspec": {
   "display_name": "R",
   "language": "R",
   "name": "ir"
  },
  "language_info": {
   "codemirror_mode": "r",
   "file_extension": ".r",
   "mimetype": "text/x-r-source",
   "name": "R",
   "pygments_lexer": "r",
   "version": "4.2.0"
  }
 },
 "nbformat": 4,
 "nbformat_minor": 2
}
