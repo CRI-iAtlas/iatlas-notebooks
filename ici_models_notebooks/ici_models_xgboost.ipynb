{
 "cells": [
  {
   "cell_type": "markdown",
   "metadata": {},
   "source": [
    "# CRI iAtlas notebooks\n",
    "\n",
    "## Build a eXtreme Gradient Boosting (XGBoost) model with ICI data\n",
    "\n",
    "    Repo: https://github.com/CRI-iAtlas/iatlas-notebooks/ \n",
    "    Notebook: ici_models_xgboost.ipynb \n",
    "    Date: November 22, 2021 \n",
    "    Author: Carolina Heimann"
   ]
  },
  {
   "cell_type": "markdown",
   "metadata": {},
   "source": [
    "---\n",
    "\n",
    "notebook repo: https://github.com/CRI-iAtlas/iatlas-notebooks\n",
    "\n",
    "landing page: https://www.cri-iatlas.org/\n",
    "\n",
    "portal: https://isb-cgc.shinyapps.io/iatlas/\n",
    "\n",
    "email: support@cri-iatlas.org\n",
    "\n",
    "---"
   ]
  },
  {
   "cell_type": "markdown",
   "metadata": {},
   "source": [
    "Welcome to the CRI iAtlas notebooks. With these notebooks you'll be able to recreate many of our figures and modules found in the web portal, but with your own data or configuration. In this case, you will be able to reproduce the workflow implemented in the ICI Machine Learning module to build models with data from Immune Checkpoint Inhibitor (ICI) datasets, and adapt it to your preferred modeling strategy.\n",
    "\n",
    "This is a jupyter notebook running R. The fastest way to get started is to open the notebook using Jupyter lab in MyBinder, it's free and works great.\n",
    "\n",
    "If you want to run this on your local environment, you'll need Jupyter and an R kernel to use it.<br>\n",
    "See [this conda guide](https://docs.anaconda.com/anaconda/navigator/tutorials/r-lang/) or [this datacamp guide](https://www.datacamp.com/community/blog/jupyter-notebook-r) to get started.<br>"
   ]
  },
  {
   "cell_type": "markdown",
   "metadata": {},
   "source": [
    "## Getting started"
   ]
  },
  {
   "cell_type": "code",
   "execution_count": 1,
   "metadata": {},
   "outputs": [
    {
     "name": "stderr",
     "output_type": "stream",
     "text": [
      "Loading required package: magrittr\n",
      "\n",
      "Loading required package: wrapr\n",
      "\n",
      "Loading required package: dplyr\n",
      "\n",
      "\n",
      "Attaching package: ‘dplyr’\n",
      "\n",
      "\n",
      "The following object is masked from ‘package:wrapr’:\n",
      "\n",
      "    coalesce\n",
      "\n",
      "\n",
      "The following objects are masked from ‘package:stats’:\n",
      "\n",
      "    filter, lag\n",
      "\n",
      "\n",
      "The following objects are masked from ‘package:base’:\n",
      "\n",
      "    intersect, setdiff, setequal, union\n",
      "\n",
      "\n",
      "Loading required package: tidyr\n",
      "\n",
      "\n",
      "Attaching package: ‘tidyr’\n",
      "\n",
      "\n",
      "The following objects are masked from ‘package:wrapr’:\n",
      "\n",
      "    pack, unpack\n",
      "\n",
      "\n",
      "The following object is masked from ‘package:magrittr’:\n",
      "\n",
      "    extract\n",
      "\n",
      "\n",
      "Loading required package: plotly\n",
      "\n",
      "Loading required package: ggplot2\n",
      "\n",
      "\n",
      "Attaching package: ‘plotly’\n",
      "\n",
      "\n",
      "The following object is masked from ‘package:ggplot2’:\n",
      "\n",
      "    last_plot\n",
      "\n",
      "\n",
      "The following object is masked from ‘package:stats’:\n",
      "\n",
      "    filter\n",
      "\n",
      "\n",
      "The following object is masked from ‘package:graphics’:\n",
      "\n",
      "    layout\n",
      "\n",
      "\n",
      "Loading required package: caret\n",
      "\n",
      "Loading required package: lattice\n",
      "\n",
      "Loading required package: glmnet\n",
      "\n",
      "Loading required package: Matrix\n",
      "\n",
      "\n",
      "Attaching package: ‘Matrix’\n",
      "\n",
      "\n",
      "The following objects are masked from ‘package:tidyr’:\n",
      "\n",
      "    expand, pack, unpack\n",
      "\n",
      "\n",
      "The following objects are masked from ‘package:wrapr’:\n",
      "\n",
      "    pack, unpack\n",
      "\n",
      "\n",
      "Loaded glmnet 4.1-4\n",
      "\n",
      "Loading required package: survminer\n",
      "\n",
      "Loading required package: ggpubr\n",
      "\n",
      "Loading required package: pROC\n",
      "\n",
      "Type 'citation(\"pROC\")' for a citation.\n",
      "\n",
      "\n",
      "Attaching package: ‘pROC’\n",
      "\n",
      "\n",
      "The following objects are masked from ‘package:stats’:\n",
      "\n",
      "    cov, smooth, var\n",
      "\n",
      "\n",
      "Loading required package: knitr\n",
      "\n",
      "Loading required package: ggfortify\n",
      "\n",
      "Loading required package: iatlasGraphQLClient\n",
      "\n",
      "Loading required package: iatlas.modules\n",
      "\n"
     ]
    }
   ],
   "source": [
    "# We have a few libraries to install.\n",
    "try({\n",
    "    packages = c(\"magrittr\", \"wrapr\", \"dplyr\", \"tidyr\", \"plotly\", \"caret\", \"glmnet\", \"survminer\", \n",
    "                 \"dplyr\", \"ggplot2\", \"pROC\", \"knitr\", \"ggfortify\", \"iatlasGraphQLClient\")\n",
    "\n",
    "    sapply(packages, function(x) {\n",
    "      if (!require(x,character.only = TRUE))\n",
    "        install.packages(x)\n",
    "        suppressPackageStartupMessages(library(x,character.only = TRUE))\n",
    "    })\n",
    "\n",
    "    # and our iatlas package from github\n",
    "    if (!require(iatlas.modules)) {\n",
    "      devtools::install_github(\"CRI-iAtlas/iatlas.modules\")\n",
    "      suppressPackageStartupMessages(library(iatlas.modules))\n",
    "    }},\n",
    "    silent=TRUE \n",
    ")"
   ]
  },
  {
   "cell_type": "markdown",
   "metadata": {},
   "source": [
    "Next we need to read our collection of helper functions found in the 'notebook_functions.R' file.\n",
    "\n",
    "We have a function that organizes the output of queries to the iAtlas database into the format that is required to run training functions in the `caret` package.\n",
    "\n",
    "Here we'll use source to bring them in."
   ]
  },
  {
   "cell_type": "code",
   "execution_count": 2,
   "metadata": {
    "lines_to_next_cell": 2
   },
   "outputs": [],
   "source": [
    "# git clone the notebook repo to get this file #\n",
    "# or see: https://github.com/CRI-iAtlas/iatlas-notebooks/blob/main/functions/notebook_functions.R\n",
    "source('functions/notebook_functions.R')"
   ]
  },
  {
   "cell_type": "markdown",
   "metadata": {},
   "source": [
    "---\n",
    "---"
   ]
  },
  {
   "cell_type": "markdown",
   "metadata": {},
   "source": [
    "# Exploring the ICI datasets and available predictors\n",
    "\n",
    "This portion of the notebook will explore the ICI data available in iAtlas for modeling.\n",
    "\n",
    "The iAtlas ICI data is stored in a database that can be queried with functions from the `iatlasGraphQLClient` package. \n",
    "We have clinical data, immune features, scores of predictors of response to immunotherapy, and quantile normalized gene expression.\n",
    "\n",
    "You can get more information in iAtlas on [immune features and predictors of response to ICI](https://isb-cgc.shinyapps.io/iatlas/?module=datainfo), and our annotation of [immunomodulators](https://isb-cgc.shinyapps.io/iatlas/?module=immunomodulators) genes. You can access more information about these datasets in [iAtlas - ICI Datasets Overview](https://isb-cgc.shinyapps.io/iatlas/?module=ioresponse_overview) module.\n",
    "\n",
    "As a first step, let's take a look at the available datasets and features. We will query values for samples of interest in the next section."
   ]
  },
  {
   "cell_type": "code",
   "execution_count": 3,
   "metadata": {
    "scrolled": true
   },
   "outputs": [
    {
     "data": {
      "text/html": [
       "<table class=\"dataframe\">\n",
       "<caption>A tibble: 15 × 3</caption>\n",
       "<thead>\n",
       "\t<tr><th scope=col>display</th><th scope=col>name</th><th scope=col>type</th></tr>\n",
       "\t<tr><th scope=col>&lt;chr&gt;</th><th scope=col>&lt;chr&gt;</th><th scope=col>&lt;chr&gt;</th></tr>\n",
       "</thead>\n",
       "<tbody>\n",
       "\t<tr><td>Chen 2016 - SKCM, Anti-CTLA4                 </td><td>Chen_CanDisc_2016      </td><td>ici</td></tr>\n",
       "\t<tr><td>Choueiri 2016 - KIRC, PD-1                   </td><td>Choueiri_CCR_2016      </td><td>ici</td></tr>\n",
       "\t<tr><td>Gide 2019 - SKCM, PD-1 +/- CTLA4             </td><td>Gide_Cell_2019         </td><td>ici</td></tr>\n",
       "\t<tr><td>Hugo 2016 - SKCM, PD-1                       </td><td>HugoLo_IPRES_2016      </td><td>ici</td></tr>\n",
       "\t<tr><td>IMmotion150 - KIRC, PD-L1                    </td><td>IMmotion150            </td><td>ici</td></tr>\n",
       "\t<tr><td>IMVigor210 - BLCA, PD-L1                     </td><td>IMVigor210             </td><td>ici</td></tr>\n",
       "\t<tr><td>Kim 2018 - STAD, PD-1                        </td><td>Kim_NatMed_2018        </td><td>ici</td></tr>\n",
       "\t<tr><td>Liu 2019 - SKCM, PD-1                        </td><td>Liu_NatMed_2019        </td><td>ici</td></tr>\n",
       "\t<tr><td>Melero 2019 - GBM, Anti-PD-1                 </td><td>Melero_GBM_2019        </td><td>ici</td></tr>\n",
       "\t<tr><td>Miao 2018 - KIRC, PD-1 +/- CTLA4, PD-L1      </td><td>Miao_Science_2018      </td><td>ici</td></tr>\n",
       "\t<tr><td>Prat 2017 - HNSC, LUAD, LUSC, SKCM, Anti-PD-1</td><td>Prat_CanRes_2017       </td><td>ici</td></tr>\n",
       "\t<tr><td>Prins 2019 - GBM, PD-1                       </td><td>Prins_GBM_2019         </td><td>ici</td></tr>\n",
       "\t<tr><td>Riaz 2017 - SKCM, PD-1                       </td><td>Riaz_Nivolumab_2017    </td><td>ici</td></tr>\n",
       "\t<tr><td>Van Allen 2015 - SKCM, CTLA-4                </td><td>VanAllen_antiCTLA4_2015</td><td>ici</td></tr>\n",
       "\t<tr><td>Zhao 2019 - GBM, PD-1                        </td><td>Zhao_NatMed_2019       </td><td>ici</td></tr>\n",
       "</tbody>\n",
       "</table>\n"
      ],
      "text/latex": [
       "A tibble: 15 × 3\n",
       "\\begin{tabular}{lll}\n",
       " display & name & type\\\\\n",
       " <chr> & <chr> & <chr>\\\\\n",
       "\\hline\n",
       "\t Chen 2016 - SKCM, Anti-CTLA4                  & Chen\\_CanDisc\\_2016       & ici\\\\\n",
       "\t Choueiri 2016 - KIRC, PD-1                    & Choueiri\\_CCR\\_2016       & ici\\\\\n",
       "\t Gide 2019 - SKCM, PD-1 +/- CTLA4              & Gide\\_Cell\\_2019          & ici\\\\\n",
       "\t Hugo 2016 - SKCM, PD-1                        & HugoLo\\_IPRES\\_2016       & ici\\\\\n",
       "\t IMmotion150 - KIRC, PD-L1                     & IMmotion150             & ici\\\\\n",
       "\t IMVigor210 - BLCA, PD-L1                      & IMVigor210              & ici\\\\\n",
       "\t Kim 2018 - STAD, PD-1                         & Kim\\_NatMed\\_2018         & ici\\\\\n",
       "\t Liu 2019 - SKCM, PD-1                         & Liu\\_NatMed\\_2019         & ici\\\\\n",
       "\t Melero 2019 - GBM, Anti-PD-1                  & Melero\\_GBM\\_2019         & ici\\\\\n",
       "\t Miao 2018 - KIRC, PD-1 +/- CTLA4, PD-L1       & Miao\\_Science\\_2018       & ici\\\\\n",
       "\t Prat 2017 - HNSC, LUAD, LUSC, SKCM, Anti-PD-1 & Prat\\_CanRes\\_2017        & ici\\\\\n",
       "\t Prins 2019 - GBM, PD-1                        & Prins\\_GBM\\_2019          & ici\\\\\n",
       "\t Riaz 2017 - SKCM, PD-1                        & Riaz\\_Nivolumab\\_2017     & ici\\\\\n",
       "\t Van Allen 2015 - SKCM, CTLA-4                 & VanAllen\\_antiCTLA4\\_2015 & ici\\\\\n",
       "\t Zhao 2019 - GBM, PD-1                         & Zhao\\_NatMed\\_2019        & ici\\\\\n",
       "\\end{tabular}\n"
      ],
      "text/markdown": [
       "\n",
       "A tibble: 15 × 3\n",
       "\n",
       "| display &lt;chr&gt; | name &lt;chr&gt; | type &lt;chr&gt; |\n",
       "|---|---|---|\n",
       "| Chen 2016 - SKCM, Anti-CTLA4                  | Chen_CanDisc_2016       | ici |\n",
       "| Choueiri 2016 - KIRC, PD-1                    | Choueiri_CCR_2016       | ici |\n",
       "| Gide 2019 - SKCM, PD-1 +/- CTLA4              | Gide_Cell_2019          | ici |\n",
       "| Hugo 2016 - SKCM, PD-1                        | HugoLo_IPRES_2016       | ici |\n",
       "| IMmotion150 - KIRC, PD-L1                     | IMmotion150             | ici |\n",
       "| IMVigor210 - BLCA, PD-L1                      | IMVigor210              | ici |\n",
       "| Kim 2018 - STAD, PD-1                         | Kim_NatMed_2018         | ici |\n",
       "| Liu 2019 - SKCM, PD-1                         | Liu_NatMed_2019         | ici |\n",
       "| Melero 2019 - GBM, Anti-PD-1                  | Melero_GBM_2019         | ici |\n",
       "| Miao 2018 - KIRC, PD-1 +/- CTLA4, PD-L1       | Miao_Science_2018       | ici |\n",
       "| Prat 2017 - HNSC, LUAD, LUSC, SKCM, Anti-PD-1 | Prat_CanRes_2017        | ici |\n",
       "| Prins 2019 - GBM, PD-1                        | Prins_GBM_2019          | ici |\n",
       "| Riaz 2017 - SKCM, PD-1                        | Riaz_Nivolumab_2017     | ici |\n",
       "| Van Allen 2015 - SKCM, CTLA-4                 | VanAllen_antiCTLA4_2015 | ici |\n",
       "| Zhao 2019 - GBM, PD-1                         | Zhao_NatMed_2019        | ici |\n",
       "\n"
      ],
      "text/plain": [
       "   display                                       name                    type\n",
       "1  Chen 2016 - SKCM, Anti-CTLA4                  Chen_CanDisc_2016       ici \n",
       "2  Choueiri 2016 - KIRC, PD-1                    Choueiri_CCR_2016       ici \n",
       "3  Gide 2019 - SKCM, PD-1 +/- CTLA4              Gide_Cell_2019          ici \n",
       "4  Hugo 2016 - SKCM, PD-1                        HugoLo_IPRES_2016       ici \n",
       "5  IMmotion150 - KIRC, PD-L1                     IMmotion150             ici \n",
       "6  IMVigor210 - BLCA, PD-L1                      IMVigor210              ici \n",
       "7  Kim 2018 - STAD, PD-1                         Kim_NatMed_2018         ici \n",
       "8  Liu 2019 - SKCM, PD-1                         Liu_NatMed_2019         ici \n",
       "9  Melero 2019 - GBM, Anti-PD-1                  Melero_GBM_2019         ici \n",
       "10 Miao 2018 - KIRC, PD-1 +/- CTLA4, PD-L1       Miao_Science_2018       ici \n",
       "11 Prat 2017 - HNSC, LUAD, LUSC, SKCM, Anti-PD-1 Prat_CanRes_2017        ici \n",
       "12 Prins 2019 - GBM, PD-1                        Prins_GBM_2019          ici \n",
       "13 Riaz 2017 - SKCM, PD-1                        Riaz_Nivolumab_2017     ici \n",
       "14 Van Allen 2015 - SKCM, CTLA-4                 VanAllen_antiCTLA4_2015 ici \n",
       "15 Zhao 2019 - GBM, PD-1                         Zhao_NatMed_2019        ici "
      ]
     },
     "metadata": {},
     "output_type": "display_data"
    }
   ],
   "source": [
    "#getting ICI data\n",
    "#datasets that we have in the iAtlas database\n",
    "ici_datasets <- iatlasGraphQLClient::query_datasets(types = \"ici\")\n",
    "ici_datasets"
   ]
  },
  {
   "cell_type": "markdown",
   "metadata": {},
   "source": [
    "The display name of the datasets makes reference to the publication associated with the data, and also summarises the tumor type and ICI target involved in the study."
   ]
  },
  {
   "cell_type": "code",
   "execution_count": 4,
   "metadata": {
    "lines_to_next_cell": 2,
    "scrolled": true
   },
   "outputs": [
    {
     "data": {
      "text/html": [
       "<table class=\"dataframe\">\n",
       "<caption>A tibble: 6 × 6</caption>\n",
       "<thead>\n",
       "\t<tr><th scope=col>name</th><th scope=col>display</th><th scope=col>class</th><th scope=col>order</th><th scope=col>unit</th><th scope=col>method_tag</th></tr>\n",
       "\t<tr><th scope=col>&lt;chr&gt;</th><th scope=col>&lt;chr&gt;</th><th scope=col>&lt;chr&gt;</th><th scope=col>&lt;int&gt;</th><th scope=col>&lt;chr&gt;</th><th scope=col>&lt;chr&gt;</th></tr>\n",
       "</thead>\n",
       "<tbody>\n",
       "\t<tr><td>B_cells_Aggregate2               </td><td>B Cells        </td><td>Immune Cell Proportion - Common Lymphoid and Myeloid Cell Derivative Class        </td><td> 3</td><td>Fraction</td><td>CIBERSORT</td></tr>\n",
       "\t<tr><td>B_cells_Aggregate3               </td><td>B Cells        </td><td>Immune Cell Proportion - Differentiated Lymphoid and Myeloid Cell Derivative Class</td><td> 4</td><td>Fraction</td><td>CIBERSORT</td></tr>\n",
       "\t<tr><td>B_cells_memory                   </td><td>B Cells Memory </td><td>Immune Cell Proportion - Original                                                 </td><td> 9</td><td>Fraction</td><td>CIBERSORT</td></tr>\n",
       "\t<tr><td>B_cells_naive                    </td><td>B Cells Naive  </td><td>Immune Cell Proportion - Original                                                 </td><td> 8</td><td>Fraction</td><td>CIBERSORT</td></tr>\n",
       "\t<tr><td>BIOCARTA_CTLA4_V_Bindea_Th1_Cells</td><td>CTLA4 vs Th1   </td><td>Predictor of Response to Immune Checkpoint Treatment                              </td><td>NA</td><td>Fraction</td><td>NA       </td></tr>\n",
       "\t<tr><td>Cytolytic_Score                  </td><td>Cytolytic Score</td><td>Predictor of Response to Immune Checkpoint Treatment                              </td><td>NA</td><td>Score   </td><td>NA       </td></tr>\n",
       "</tbody>\n",
       "</table>\n"
      ],
      "text/latex": [
       "A tibble: 6 × 6\n",
       "\\begin{tabular}{llllll}\n",
       " name & display & class & order & unit & method\\_tag\\\\\n",
       " <chr> & <chr> & <chr> & <int> & <chr> & <chr>\\\\\n",
       "\\hline\n",
       "\t B\\_cells\\_Aggregate2                & B Cells         & Immune Cell Proportion - Common Lymphoid and Myeloid Cell Derivative Class         &  3 & Fraction & CIBERSORT\\\\\n",
       "\t B\\_cells\\_Aggregate3                & B Cells         & Immune Cell Proportion - Differentiated Lymphoid and Myeloid Cell Derivative Class &  4 & Fraction & CIBERSORT\\\\\n",
       "\t B\\_cells\\_memory                    & B Cells Memory  & Immune Cell Proportion - Original                                                  &  9 & Fraction & CIBERSORT\\\\\n",
       "\t B\\_cells\\_naive                     & B Cells Naive   & Immune Cell Proportion - Original                                                  &  8 & Fraction & CIBERSORT\\\\\n",
       "\t BIOCARTA\\_CTLA4\\_V\\_Bindea\\_Th1\\_Cells & CTLA4 vs Th1    & Predictor of Response to Immune Checkpoint Treatment                               & NA & Fraction & NA       \\\\\n",
       "\t Cytolytic\\_Score                   & Cytolytic Score & Predictor of Response to Immune Checkpoint Treatment                               & NA & Score    & NA       \\\\\n",
       "\\end{tabular}\n"
      ],
      "text/markdown": [
       "\n",
       "A tibble: 6 × 6\n",
       "\n",
       "| name &lt;chr&gt; | display &lt;chr&gt; | class &lt;chr&gt; | order &lt;int&gt; | unit &lt;chr&gt; | method_tag &lt;chr&gt; |\n",
       "|---|---|---|---|---|---|\n",
       "| B_cells_Aggregate2                | B Cells         | Immune Cell Proportion - Common Lymphoid and Myeloid Cell Derivative Class         |  3 | Fraction | CIBERSORT |\n",
       "| B_cells_Aggregate3                | B Cells         | Immune Cell Proportion - Differentiated Lymphoid and Myeloid Cell Derivative Class |  4 | Fraction | CIBERSORT |\n",
       "| B_cells_memory                    | B Cells Memory  | Immune Cell Proportion - Original                                                  |  9 | Fraction | CIBERSORT |\n",
       "| B_cells_naive                     | B Cells Naive   | Immune Cell Proportion - Original                                                  |  8 | Fraction | CIBERSORT |\n",
       "| BIOCARTA_CTLA4_V_Bindea_Th1_Cells | CTLA4 vs Th1    | Predictor of Response to Immune Checkpoint Treatment                               | NA | Fraction | NA        |\n",
       "| Cytolytic_Score                   | Cytolytic Score | Predictor of Response to Immune Checkpoint Treatment                               | NA | Score    | NA        |\n",
       "\n"
      ],
      "text/plain": [
       "  name                              display        \n",
       "1 B_cells_Aggregate2                B Cells        \n",
       "2 B_cells_Aggregate3                B Cells        \n",
       "3 B_cells_memory                    B Cells Memory \n",
       "4 B_cells_naive                     B Cells Naive  \n",
       "5 BIOCARTA_CTLA4_V_Bindea_Th1_Cells CTLA4 vs Th1   \n",
       "6 Cytolytic_Score                   Cytolytic Score\n",
       "  class                                                                             \n",
       "1 Immune Cell Proportion - Common Lymphoid and Myeloid Cell Derivative Class        \n",
       "2 Immune Cell Proportion - Differentiated Lymphoid and Myeloid Cell Derivative Class\n",
       "3 Immune Cell Proportion - Original                                                 \n",
       "4 Immune Cell Proportion - Original                                                 \n",
       "5 Predictor of Response to Immune Checkpoint Treatment                              \n",
       "6 Predictor of Response to Immune Checkpoint Treatment                              \n",
       "  order unit     method_tag\n",
       "1  3    Fraction CIBERSORT \n",
       "2  4    Fraction CIBERSORT \n",
       "3  9    Fraction CIBERSORT \n",
       "4  8    Fraction CIBERSORT \n",
       "5 NA    Fraction NA        \n",
       "6 NA    Score    NA        "
      ]
     },
     "metadata": {},
     "output_type": "display_data"
    }
   ],
   "source": [
    "#immune features of all samples in the ici datasets\n",
    "features_df <- iatlasGraphQLClient::query_features(cohorts = ici_datasets$name)\n",
    "head(features_df)"
   ]
  },
  {
   "cell_type": "code",
   "execution_count": 5,
   "metadata": {},
   "outputs": [
    {
     "data": {
      "text/html": [
       "<table class=\"dataframe\">\n",
       "<caption>A tibble: 6 × 7</caption>\n",
       "<thead>\n",
       "\t<tr><th scope=col>tag_name</th><th scope=col>tag_long_display</th><th scope=col>tag_short_display</th><th scope=col>tag_characteristics</th><th scope=col>tag_color</th><th scope=col>tag_order</th><th scope=col>tag_type</th></tr>\n",
       "\t<tr><th scope=col>&lt;chr&gt;</th><th scope=col>&lt;chr&gt;</th><th scope=col>&lt;chr&gt;</th><th scope=col>&lt;chr&gt;</th><th scope=col>&lt;lgl&gt;</th><th scope=col>&lt;int&gt;</th><th scope=col>&lt;chr&gt;</th></tr>\n",
       "</thead>\n",
       "<tbody>\n",
       "\t<tr><td>Biopsy_Site     </td><td>Biopsy Site     </td><td>Biopsy Site     </td><td>Site where sample was collected from.                                                      </td><td>NA</td><td>18</td><td>parent_group</td></tr>\n",
       "\t<tr><td>Cancer_Tissue   </td><td>Cancer Tissue   </td><td>Cancer Tissue   </td><td>Original tumor tissue.                                                                     </td><td>NA</td><td>14</td><td>parent_group</td></tr>\n",
       "\t<tr><td>Clinical_Benefit</td><td>Clinical Benefit</td><td>Clinical Benefit</td><td>Patients have clinical benefit when mRECIST response is different than Progressive Disease.</td><td>NA</td><td> 4</td><td>parent_group</td></tr>\n",
       "\t<tr><td>Clinical_Stage  </td><td>Clinical Stage  </td><td>Clinical Stage  </td><td>Clinical stage of cancer.                                                                  </td><td>NA</td><td>17</td><td>parent_group</td></tr>\n",
       "\t<tr><td>FFPE            </td><td>FFPE Samples    </td><td>FFPE Samples    </td><td>Indicates whether the sample is FFPE or not.                                               </td><td>NA</td><td>20</td><td>parent_group</td></tr>\n",
       "\t<tr><td>gender          </td><td>Gender          </td><td>Gender          </td><td>NA                                                                                         </td><td>NA</td><td>NA</td><td>parent_group</td></tr>\n",
       "</tbody>\n",
       "</table>\n"
      ],
      "text/latex": [
       "A tibble: 6 × 7\n",
       "\\begin{tabular}{lllllll}\n",
       " tag\\_name & tag\\_long\\_display & tag\\_short\\_display & tag\\_characteristics & tag\\_color & tag\\_order & tag\\_type\\\\\n",
       " <chr> & <chr> & <chr> & <chr> & <lgl> & <int> & <chr>\\\\\n",
       "\\hline\n",
       "\t Biopsy\\_Site      & Biopsy Site      & Biopsy Site      & Site where sample was collected from.                                                       & NA & 18 & parent\\_group\\\\\n",
       "\t Cancer\\_Tissue    & Cancer Tissue    & Cancer Tissue    & Original tumor tissue.                                                                      & NA & 14 & parent\\_group\\\\\n",
       "\t Clinical\\_Benefit & Clinical Benefit & Clinical Benefit & Patients have clinical benefit when mRECIST response is different than Progressive Disease. & NA &  4 & parent\\_group\\\\\n",
       "\t Clinical\\_Stage   & Clinical Stage   & Clinical Stage   & Clinical stage of cancer.                                                                   & NA & 17 & parent\\_group\\\\\n",
       "\t FFPE             & FFPE Samples     & FFPE Samples     & Indicates whether the sample is FFPE or not.                                                & NA & 20 & parent\\_group\\\\\n",
       "\t gender           & Gender           & Gender           & NA                                                                                          & NA & NA & parent\\_group\\\\\n",
       "\\end{tabular}\n"
      ],
      "text/markdown": [
       "\n",
       "A tibble: 6 × 7\n",
       "\n",
       "| tag_name &lt;chr&gt; | tag_long_display &lt;chr&gt; | tag_short_display &lt;chr&gt; | tag_characteristics &lt;chr&gt; | tag_color &lt;lgl&gt; | tag_order &lt;int&gt; | tag_type &lt;chr&gt; |\n",
       "|---|---|---|---|---|---|---|\n",
       "| Biopsy_Site      | Biopsy Site      | Biopsy Site      | Site where sample was collected from.                                                       | NA | 18 | parent_group |\n",
       "| Cancer_Tissue    | Cancer Tissue    | Cancer Tissue    | Original tumor tissue.                                                                      | NA | 14 | parent_group |\n",
       "| Clinical_Benefit | Clinical Benefit | Clinical Benefit | Patients have clinical benefit when mRECIST response is different than Progressive Disease. | NA |  4 | parent_group |\n",
       "| Clinical_Stage   | Clinical Stage   | Clinical Stage   | Clinical stage of cancer.                                                                   | NA | 17 | parent_group |\n",
       "| FFPE             | FFPE Samples     | FFPE Samples     | Indicates whether the sample is FFPE or not.                                                | NA | 20 | parent_group |\n",
       "| gender           | Gender           | Gender           | NA                                                                                          | NA | NA | parent_group |\n",
       "\n"
      ],
      "text/plain": [
       "  tag_name         tag_long_display tag_short_display\n",
       "1 Biopsy_Site      Biopsy Site      Biopsy Site      \n",
       "2 Cancer_Tissue    Cancer Tissue    Cancer Tissue    \n",
       "3 Clinical_Benefit Clinical Benefit Clinical Benefit \n",
       "4 Clinical_Stage   Clinical Stage   Clinical Stage   \n",
       "5 FFPE             FFPE Samples     FFPE Samples     \n",
       "6 gender           Gender           Gender           \n",
       "  tag_characteristics                                                                        \n",
       "1 Site where sample was collected from.                                                      \n",
       "2 Original tumor tissue.                                                                     \n",
       "3 Patients have clinical benefit when mRECIST response is different than Progressive Disease.\n",
       "4 Clinical stage of cancer.                                                                  \n",
       "5 Indicates whether the sample is FFPE or not.                                               \n",
       "6 NA                                                                                         \n",
       "  tag_color tag_order tag_type    \n",
       "1 NA        18        parent_group\n",
       "2 NA        14        parent_group\n",
       "3 NA         4        parent_group\n",
       "4 NA        17        parent_group\n",
       "5 NA        20        parent_group\n",
       "6 NA        NA        parent_group"
      ]
     },
     "metadata": {},
     "output_type": "display_data"
    }
   ],
   "source": [
    "#clinical annotation that is available for the ici datasets\n",
    "clinical_options <- iatlasGraphQLClient::query_tags(datasets = ici_datasets$name)\n",
    "head(clinical_options)"
   ]
  },
  {
   "cell_type": "code",
   "execution_count": 6,
   "metadata": {},
   "outputs": [
    {
     "data": {
      "text/html": [
       "<table class=\"dataframe\">\n",
       "<caption>A tibble: 6 × 10</caption>\n",
       "<thead>\n",
       "\t<tr><th scope=col>hgnc</th><th scope=col>entrez</th><th scope=col>description</th><th scope=col>friendly_name</th><th scope=col>io_landscape_name</th><th scope=col>gene_family</th><th scope=col>gene_function</th><th scope=col>immune_checkpoint</th><th scope=col>pathway</th><th scope=col>super_category</th></tr>\n",
       "\t<tr><th scope=col>&lt;chr&gt;</th><th scope=col>&lt;int&gt;</th><th scope=col>&lt;chr&gt;</th><th scope=col>&lt;chr&gt;</th><th scope=col>&lt;chr&gt;</th><th scope=col>&lt;chr&gt;</th><th scope=col>&lt;chr&gt;</th><th scope=col>&lt;chr&gt;</th><th scope=col>&lt;chr&gt;</th><th scope=col>&lt;chr&gt;</th></tr>\n",
       "</thead>\n",
       "<tbody>\n",
       "\t<tr><td>A1BG    </td><td>     1</td><td>NA</td><td>NA</td><td>NA</td><td>NA</td><td>NA</td><td>NA</td><td>NA</td><td>NA</td></tr>\n",
       "\t<tr><td>A1BG-AS1</td><td>503538</td><td>NA</td><td>NA</td><td>NA</td><td>NA</td><td>NA</td><td>NA</td><td>NA</td><td>NA</td></tr>\n",
       "\t<tr><td>A1CF    </td><td> 29974</td><td>NA</td><td>NA</td><td>NA</td><td>NA</td><td>NA</td><td>NA</td><td>NA</td><td>NA</td></tr>\n",
       "\t<tr><td>A2M     </td><td>     2</td><td>NA</td><td>NA</td><td>NA</td><td>NA</td><td>NA</td><td>NA</td><td>NA</td><td>NA</td></tr>\n",
       "\t<tr><td>A2M-AS1 </td><td>144571</td><td>NA</td><td>NA</td><td>NA</td><td>NA</td><td>NA</td><td>NA</td><td>NA</td><td>NA</td></tr>\n",
       "\t<tr><td>A2ML1   </td><td>144568</td><td>NA</td><td>NA</td><td>NA</td><td>NA</td><td>NA</td><td>NA</td><td>NA</td><td>NA</td></tr>\n",
       "</tbody>\n",
       "</table>\n"
      ],
      "text/latex": [
       "A tibble: 6 × 10\n",
       "\\begin{tabular}{llllllllll}\n",
       " hgnc & entrez & description & friendly\\_name & io\\_landscape\\_name & gene\\_family & gene\\_function & immune\\_checkpoint & pathway & super\\_category\\\\\n",
       " <chr> & <int> & <chr> & <chr> & <chr> & <chr> & <chr> & <chr> & <chr> & <chr>\\\\\n",
       "\\hline\n",
       "\t A1BG     &      1 & NA & NA & NA & NA & NA & NA & NA & NA\\\\\n",
       "\t A1BG-AS1 & 503538 & NA & NA & NA & NA & NA & NA & NA & NA\\\\\n",
       "\t A1CF     &  29974 & NA & NA & NA & NA & NA & NA & NA & NA\\\\\n",
       "\t A2M      &      2 & NA & NA & NA & NA & NA & NA & NA & NA\\\\\n",
       "\t A2M-AS1  & 144571 & NA & NA & NA & NA & NA & NA & NA & NA\\\\\n",
       "\t A2ML1    & 144568 & NA & NA & NA & NA & NA & NA & NA & NA\\\\\n",
       "\\end{tabular}\n"
      ],
      "text/markdown": [
       "\n",
       "A tibble: 6 × 10\n",
       "\n",
       "| hgnc &lt;chr&gt; | entrez &lt;int&gt; | description &lt;chr&gt; | friendly_name &lt;chr&gt; | io_landscape_name &lt;chr&gt; | gene_family &lt;chr&gt; | gene_function &lt;chr&gt; | immune_checkpoint &lt;chr&gt; | pathway &lt;chr&gt; | super_category &lt;chr&gt; |\n",
       "|---|---|---|---|---|---|---|---|---|---|\n",
       "| A1BG     |      1 | NA | NA | NA | NA | NA | NA | NA | NA |\n",
       "| A1BG-AS1 | 503538 | NA | NA | NA | NA | NA | NA | NA | NA |\n",
       "| A1CF     |  29974 | NA | NA | NA | NA | NA | NA | NA | NA |\n",
       "| A2M      |      2 | NA | NA | NA | NA | NA | NA | NA | NA |\n",
       "| A2M-AS1  | 144571 | NA | NA | NA | NA | NA | NA | NA | NA |\n",
       "| A2ML1    | 144568 | NA | NA | NA | NA | NA | NA | NA | NA |\n",
       "\n"
      ],
      "text/plain": [
       "  hgnc     entrez description friendly_name io_landscape_name gene_family\n",
       "1 A1BG          1 NA          NA            NA                NA         \n",
       "2 A1BG-AS1 503538 NA          NA            NA                NA         \n",
       "3 A1CF      29974 NA          NA            NA                NA         \n",
       "4 A2M           2 NA          NA            NA                NA         \n",
       "5 A2M-AS1  144571 NA          NA            NA                NA         \n",
       "6 A2ML1    144568 NA          NA            NA                NA         \n",
       "  gene_function immune_checkpoint pathway super_category\n",
       "1 NA            NA                NA      NA            \n",
       "2 NA            NA                NA      NA            \n",
       "3 NA            NA                NA      NA            \n",
       "4 NA            NA                NA      NA            \n",
       "5 NA            NA                NA      NA            \n",
       "6 NA            NA                NA      NA            "
      ]
     },
     "metadata": {},
     "output_type": "display_data"
    }
   ],
   "source": [
    "#genes that we have expression data for all samples in the ici datasets (we will query expression values in the next section)\n",
    "genes_df <- iatlasGraphQLClient::query_genes(cohorts = ici_datasets$name)\n",
    "head(genes_df)"
   ]
  },
  {
   "cell_type": "markdown",
   "metadata": {},
   "source": [
    "The independent variable to be used in the model corresponds to how a patient responds to immunotherapy. The response to therapy with Immune Checkpoint Inhitbitor is originally annotated following the guidelines of mRECIST, and has 4 different levels."
   ]
  },
  {
   "cell_type": "code",
   "execution_count": 7,
   "metadata": {},
   "outputs": [
    {
     "data": {
      "text/html": [
       "<table class=\"dataframe\">\n",
       "<caption>A tibble: 5 × 7</caption>\n",
       "<thead>\n",
       "\t<tr><th scope=col>tag_name</th><th scope=col>tag_long_display</th><th scope=col>tag_short_display</th><th scope=col>tag_characteristics</th><th scope=col>tag_color</th><th scope=col>tag_order</th><th scope=col>tag_type</th></tr>\n",
       "\t<tr><th scope=col>&lt;chr&gt;</th><th scope=col>&lt;chr&gt;</th><th scope=col>&lt;chr&gt;</th><th scope=col>&lt;chr&gt;</th><th scope=col>&lt;chr&gt;</th><th scope=col>&lt;int&gt;</th><th scope=col>&lt;chr&gt;</th></tr>\n",
       "</thead>\n",
       "<tbody>\n",
       "\t<tr><td>complete_response_response  </td><td>Complete Response  </td><td>Complete Response  </td><td>Complete Response (CR) following modified Response Evaluation Criteria in Solid Tumors (mRECIST) guidelines  </td><td>#009E73</td><td>1</td><td>group</td></tr>\n",
       "\t<tr><td>partial_response_response   </td><td>Partial Response   </td><td>Partial Response   </td><td>Partial Response (PR) following modified Response Evaluation Criteria in Solid Tumors (mRECIST) guidelines   </td><td>#0072B2</td><td>2</td><td>group</td></tr>\n",
       "\t<tr><td>stable_disease_response     </td><td>Stable Disease     </td><td>Stable Disease     </td><td>Stable Disease (SD) following modified Response Evaluation Criteria in Solid Tumors (mRECIST) guidelines     </td><td>#F0E442</td><td>3</td><td>group</td></tr>\n",
       "\t<tr><td>progressive_disease_response</td><td>Progressive Disease</td><td>Progressive Disease</td><td>Progressive Disease (PD) following modified Response Evaluation Criteria in Solid Tumors (mRECIST) guidelines</td><td>#D55E00</td><td>4</td><td>group</td></tr>\n",
       "\t<tr><td>na_response                 </td><td>Not available      </td><td>Not available      </td><td>Response information not available                                                                           </td><td>#868A88</td><td>5</td><td>group</td></tr>\n",
       "</tbody>\n",
       "</table>\n"
      ],
      "text/latex": [
       "A tibble: 5 × 7\n",
       "\\begin{tabular}{lllllll}\n",
       " tag\\_name & tag\\_long\\_display & tag\\_short\\_display & tag\\_characteristics & tag\\_color & tag\\_order & tag\\_type\\\\\n",
       " <chr> & <chr> & <chr> & <chr> & <chr> & <int> & <chr>\\\\\n",
       "\\hline\n",
       "\t complete\\_response\\_response   & Complete Response   & Complete Response   & Complete Response (CR) following modified Response Evaluation Criteria in Solid Tumors (mRECIST) guidelines   & \\#009E73 & 1 & group\\\\\n",
       "\t partial\\_response\\_response    & Partial Response    & Partial Response    & Partial Response (PR) following modified Response Evaluation Criteria in Solid Tumors (mRECIST) guidelines    & \\#0072B2 & 2 & group\\\\\n",
       "\t stable\\_disease\\_response      & Stable Disease      & Stable Disease      & Stable Disease (SD) following modified Response Evaluation Criteria in Solid Tumors (mRECIST) guidelines      & \\#F0E442 & 3 & group\\\\\n",
       "\t progressive\\_disease\\_response & Progressive Disease & Progressive Disease & Progressive Disease (PD) following modified Response Evaluation Criteria in Solid Tumors (mRECIST) guidelines & \\#D55E00 & 4 & group\\\\\n",
       "\t na\\_response                  & Not available       & Not available       & Response information not available                                                                            & \\#868A88 & 5 & group\\\\\n",
       "\\end{tabular}\n"
      ],
      "text/markdown": [
       "\n",
       "A tibble: 5 × 7\n",
       "\n",
       "| tag_name &lt;chr&gt; | tag_long_display &lt;chr&gt; | tag_short_display &lt;chr&gt; | tag_characteristics &lt;chr&gt; | tag_color &lt;chr&gt; | tag_order &lt;int&gt; | tag_type &lt;chr&gt; |\n",
       "|---|---|---|---|---|---|---|\n",
       "| complete_response_response   | Complete Response   | Complete Response   | Complete Response (CR) following modified Response Evaluation Criteria in Solid Tumors (mRECIST) guidelines   | #009E73 | 1 | group |\n",
       "| partial_response_response    | Partial Response    | Partial Response    | Partial Response (PR) following modified Response Evaluation Criteria in Solid Tumors (mRECIST) guidelines    | #0072B2 | 2 | group |\n",
       "| stable_disease_response      | Stable Disease      | Stable Disease      | Stable Disease (SD) following modified Response Evaluation Criteria in Solid Tumors (mRECIST) guidelines      | #F0E442 | 3 | group |\n",
       "| progressive_disease_response | Progressive Disease | Progressive Disease | Progressive Disease (PD) following modified Response Evaluation Criteria in Solid Tumors (mRECIST) guidelines | #D55E00 | 4 | group |\n",
       "| na_response                  | Not available       | Not available       | Response information not available                                                                            | #868A88 | 5 | group |\n",
       "\n"
      ],
      "text/plain": [
       "  tag_name                     tag_long_display    tag_short_display  \n",
       "1 complete_response_response   Complete Response   Complete Response  \n",
       "2 partial_response_response    Partial Response    Partial Response   \n",
       "3 stable_disease_response      Stable Disease      Stable Disease     \n",
       "4 progressive_disease_response Progressive Disease Progressive Disease\n",
       "5 na_response                  Not available       Not available      \n",
       "  tag_characteristics                                                                                          \n",
       "1 Complete Response (CR) following modified Response Evaluation Criteria in Solid Tumors (mRECIST) guidelines  \n",
       "2 Partial Response (PR) following modified Response Evaluation Criteria in Solid Tumors (mRECIST) guidelines   \n",
       "3 Stable Disease (SD) following modified Response Evaluation Criteria in Solid Tumors (mRECIST) guidelines     \n",
       "4 Progressive Disease (PD) following modified Response Evaluation Criteria in Solid Tumors (mRECIST) guidelines\n",
       "5 Response information not available                                                                           \n",
       "  tag_color tag_order tag_type\n",
       "1 #009E73   1         group   \n",
       "2 #0072B2   2         group   \n",
       "3 #F0E442   3         group   \n",
       "4 #D55E00   4         group   \n",
       "5 #868A88   5         group   "
      ]
     },
     "metadata": {},
     "output_type": "display_data"
    }
   ],
   "source": [
    "iatlasGraphQLClient::query_tags(parent_tags = \"Response\") %>% \n",
    "    dplyr::arrange(tag_order)"
   ]
  },
  {
   "cell_type": "markdown",
   "metadata": {},
   "source": [
    "We will use as possible outcome variable Responder, Clinical Benefit and Progressor, which consist in grouping different levels of mRECIST into two categories."
   ]
  },
  {
   "cell_type": "code",
   "execution_count": 8,
   "metadata": {},
   "outputs": [
    {
     "data": {
      "text/html": [
       "<table class=\"dataframe\">\n",
       "<caption>A tibble: 9 × 5</caption>\n",
       "<thead>\n",
       "\t<tr><th scope=col>parent_tag_name</th><th scope=col>parent_tag_characteristics</th><th scope=col>tag_name</th><th scope=col>tag_short_display</th><th scope=col>tag_characteristics</th></tr>\n",
       "\t<tr><th scope=col>&lt;chr&gt;</th><th scope=col>&lt;chr&gt;</th><th scope=col>&lt;chr&gt;</th><th scope=col>&lt;chr&gt;</th><th scope=col>&lt;chr&gt;</th></tr>\n",
       "</thead>\n",
       "<tbody>\n",
       "\t<tr><td>Clinical_Benefit</td><td>Patients have clinical benefit when mRECIST response is different than Progressive Disease.                                                                           </td><td>false_clinical_benefit</td><td>No Clinical Benefit</td><td>Patient with mRECIST of Progressive Disease                                   </td></tr>\n",
       "\t<tr><td>Clinical_Benefit</td><td>Patients have clinical benefit when mRECIST response is different than Progressive Disease.                                                                           </td><td>na_clinical_benefit   </td><td>Not available      </td><td>Clinical Benefit information not available                                    </td></tr>\n",
       "\t<tr><td>Clinical_Benefit</td><td>Patients have clinical benefit when mRECIST response is different than Progressive Disease.                                                                           </td><td>true_clinical_benefit </td><td>Clinical Benefit   </td><td>Patient with mRECIST of Complete Response, Partial Response, or Stable Disease</td></tr>\n",
       "\t<tr><td>Progression     </td><td>Progressors are defined as patients with mRECIST of Progressive Disease.                                                                                              </td><td>false_progression     </td><td>Non-Progressor     </td><td>Patient with mRECIST of Complete Response, Partial Response, or Stable Disease</td></tr>\n",
       "\t<tr><td>Progression     </td><td>Progressors are defined as patients with mRECIST of Progressive Disease.                                                                                              </td><td>na_progression        </td><td>Not available      </td><td>Progression information not available                                         </td></tr>\n",
       "\t<tr><td>Progression     </td><td>Progressors are defined as patients with mRECIST of Progressive Disease.                                                                                              </td><td>true_progression      </td><td>Progressor         </td><td>Patient with mRECIST of Progressive Disease                                   </td></tr>\n",
       "\t<tr><td>Responder       </td><td>Responders are defined as patients with mRECIST of Partial Response or Complete Response, whereas Non-Responders are those with Progressive Disease or Stable Disease.</td><td>false_responder       </td><td>Non-Responder      </td><td>Patient with mRECIST of Progressive Disease or Stable Disease                 </td></tr>\n",
       "\t<tr><td>Responder       </td><td>Responders are defined as patients with mRECIST of Partial Response or Complete Response, whereas Non-Responders are those with Progressive Disease or Stable Disease.</td><td>na_responder          </td><td>Not available      </td><td>Responder information not available                                           </td></tr>\n",
       "\t<tr><td>Responder       </td><td>Responders are defined as patients with mRECIST of Partial Response or Complete Response, whereas Non-Responders are those with Progressive Disease or Stable Disease.</td><td>true_responder        </td><td>Responder          </td><td>Patient with mRECIST of Partial Response or Complete Response                 </td></tr>\n",
       "</tbody>\n",
       "</table>\n"
      ],
      "text/latex": [
       "A tibble: 9 × 5\n",
       "\\begin{tabular}{lllll}\n",
       " parent\\_tag\\_name & parent\\_tag\\_characteristics & tag\\_name & tag\\_short\\_display & tag\\_characteristics\\\\\n",
       " <chr> & <chr> & <chr> & <chr> & <chr>\\\\\n",
       "\\hline\n",
       "\t Clinical\\_Benefit & Patients have clinical benefit when mRECIST response is different than Progressive Disease.                                                                            & false\\_clinical\\_benefit & No Clinical Benefit & Patient with mRECIST of Progressive Disease                                   \\\\\n",
       "\t Clinical\\_Benefit & Patients have clinical benefit when mRECIST response is different than Progressive Disease.                                                                            & na\\_clinical\\_benefit    & Not available       & Clinical Benefit information not available                                    \\\\\n",
       "\t Clinical\\_Benefit & Patients have clinical benefit when mRECIST response is different than Progressive Disease.                                                                            & true\\_clinical\\_benefit  & Clinical Benefit    & Patient with mRECIST of Complete Response, Partial Response, or Stable Disease\\\\\n",
       "\t Progression      & Progressors are defined as patients with mRECIST of Progressive Disease.                                                                                               & false\\_progression      & Non-Progressor      & Patient with mRECIST of Complete Response, Partial Response, or Stable Disease\\\\\n",
       "\t Progression      & Progressors are defined as patients with mRECIST of Progressive Disease.                                                                                               & na\\_progression         & Not available       & Progression information not available                                         \\\\\n",
       "\t Progression      & Progressors are defined as patients with mRECIST of Progressive Disease.                                                                                               & true\\_progression       & Progressor          & Patient with mRECIST of Progressive Disease                                   \\\\\n",
       "\t Responder        & Responders are defined as patients with mRECIST of Partial Response or Complete Response, whereas Non-Responders are those with Progressive Disease or Stable Disease. & false\\_responder        & Non-Responder       & Patient with mRECIST of Progressive Disease or Stable Disease                 \\\\\n",
       "\t Responder        & Responders are defined as patients with mRECIST of Partial Response or Complete Response, whereas Non-Responders are those with Progressive Disease or Stable Disease. & na\\_responder           & Not available       & Responder information not available                                           \\\\\n",
       "\t Responder        & Responders are defined as patients with mRECIST of Partial Response or Complete Response, whereas Non-Responders are those with Progressive Disease or Stable Disease. & true\\_responder         & Responder           & Patient with mRECIST of Partial Response or Complete Response                 \\\\\n",
       "\\end{tabular}\n"
      ],
      "text/markdown": [
       "\n",
       "A tibble: 9 × 5\n",
       "\n",
       "| parent_tag_name &lt;chr&gt; | parent_tag_characteristics &lt;chr&gt; | tag_name &lt;chr&gt; | tag_short_display &lt;chr&gt; | tag_characteristics &lt;chr&gt; |\n",
       "|---|---|---|---|---|\n",
       "| Clinical_Benefit | Patients have clinical benefit when mRECIST response is different than Progressive Disease.                                                                            | false_clinical_benefit | No Clinical Benefit | Patient with mRECIST of Progressive Disease                                    |\n",
       "| Clinical_Benefit | Patients have clinical benefit when mRECIST response is different than Progressive Disease.                                                                            | na_clinical_benefit    | Not available       | Clinical Benefit information not available                                     |\n",
       "| Clinical_Benefit | Patients have clinical benefit when mRECIST response is different than Progressive Disease.                                                                            | true_clinical_benefit  | Clinical Benefit    | Patient with mRECIST of Complete Response, Partial Response, or Stable Disease |\n",
       "| Progression      | Progressors are defined as patients with mRECIST of Progressive Disease.                                                                                               | false_progression      | Non-Progressor      | Patient with mRECIST of Complete Response, Partial Response, or Stable Disease |\n",
       "| Progression      | Progressors are defined as patients with mRECIST of Progressive Disease.                                                                                               | na_progression         | Not available       | Progression information not available                                          |\n",
       "| Progression      | Progressors are defined as patients with mRECIST of Progressive Disease.                                                                                               | true_progression       | Progressor          | Patient with mRECIST of Progressive Disease                                    |\n",
       "| Responder        | Responders are defined as patients with mRECIST of Partial Response or Complete Response, whereas Non-Responders are those with Progressive Disease or Stable Disease. | false_responder        | Non-Responder       | Patient with mRECIST of Progressive Disease or Stable Disease                  |\n",
       "| Responder        | Responders are defined as patients with mRECIST of Partial Response or Complete Response, whereas Non-Responders are those with Progressive Disease or Stable Disease. | na_responder           | Not available       | Responder information not available                                            |\n",
       "| Responder        | Responders are defined as patients with mRECIST of Partial Response or Complete Response, whereas Non-Responders are those with Progressive Disease or Stable Disease. | true_responder         | Responder           | Patient with mRECIST of Partial Response or Complete Response                  |\n",
       "\n"
      ],
      "text/plain": [
       "  parent_tag_name \n",
       "1 Clinical_Benefit\n",
       "2 Clinical_Benefit\n",
       "3 Clinical_Benefit\n",
       "4 Progression     \n",
       "5 Progression     \n",
       "6 Progression     \n",
       "7 Responder       \n",
       "8 Responder       \n",
       "9 Responder       \n",
       "  parent_tag_characteristics                                                                                                                                            \n",
       "1 Patients have clinical benefit when mRECIST response is different than Progressive Disease.                                                                           \n",
       "2 Patients have clinical benefit when mRECIST response is different than Progressive Disease.                                                                           \n",
       "3 Patients have clinical benefit when mRECIST response is different than Progressive Disease.                                                                           \n",
       "4 Progressors are defined as patients with mRECIST of Progressive Disease.                                                                                              \n",
       "5 Progressors are defined as patients with mRECIST of Progressive Disease.                                                                                              \n",
       "6 Progressors are defined as patients with mRECIST of Progressive Disease.                                                                                              \n",
       "7 Responders are defined as patients with mRECIST of Partial Response or Complete Response, whereas Non-Responders are those with Progressive Disease or Stable Disease.\n",
       "8 Responders are defined as patients with mRECIST of Partial Response or Complete Response, whereas Non-Responders are those with Progressive Disease or Stable Disease.\n",
       "9 Responders are defined as patients with mRECIST of Partial Response or Complete Response, whereas Non-Responders are those with Progressive Disease or Stable Disease.\n",
       "  tag_name               tag_short_display  \n",
       "1 false_clinical_benefit No Clinical Benefit\n",
       "2 na_clinical_benefit    Not available      \n",
       "3 true_clinical_benefit  Clinical Benefit   \n",
       "4 false_progression      Non-Progressor     \n",
       "5 na_progression         Not available      \n",
       "6 true_progression       Progressor         \n",
       "7 false_responder        Non-Responder      \n",
       "8 na_responder           Not available      \n",
       "9 true_responder         Responder          \n",
       "  tag_characteristics                                                           \n",
       "1 Patient with mRECIST of Progressive Disease                                   \n",
       "2 Clinical Benefit information not available                                    \n",
       "3 Patient with mRECIST of Complete Response, Partial Response, or Stable Disease\n",
       "4 Patient with mRECIST of Complete Response, Partial Response, or Stable Disease\n",
       "5 Progression information not available                                         \n",
       "6 Patient with mRECIST of Progressive Disease                                   \n",
       "7 Patient with mRECIST of Progressive Disease or Stable Disease                 \n",
       "8 Responder information not available                                           \n",
       "9 Patient with mRECIST of Partial Response or Complete Response                 "
      ]
     },
     "metadata": {},
     "output_type": "display_data"
    }
   ],
   "source": [
    "outcome_variables  <- c(\"Responder\", \"Clinical_Benefit\", \"Progression\")\n",
    "iatlasGraphQLClient::query_tags_with_parent_tags(parent_tags = outcome_variables) %>%\n",
    "    dplyr::select(parent_tag_name, parent_tag_characteristics, tag_name, tag_short_display, tag_characteristics) %>% \n",
    "    dplyr::arrange(parent_tag_name)"
   ]
  },
  {
   "cell_type": "markdown",
   "metadata": {},
   "source": [
    "Now, let's take a closer look at the ICI datasets that we have available. First, we will query our database and organize the results to see the TCGA Study and drug administered at each one of the studies:"
   ]
  },
  {
   "cell_type": "code",
   "execution_count": 9,
   "metadata": {},
   "outputs": [
    {
     "data": {
      "text/html": [
       "<table class=\"dataframe\">\n",
       "<caption>A tibble: 20 × 5</caption>\n",
       "<thead>\n",
       "\t<tr><th scope=col>dataset_display</th><th scope=col>TCGA_Study</th><th scope=col>ICI_Rx</th><th scope=col>n_patients</th><th scope=col>n_samples</th></tr>\n",
       "\t<tr><th scope=col>&lt;chr&gt;</th><th scope=col>&lt;chr&gt;</th><th scope=col>&lt;chr&gt;</th><th scope=col>&lt;int&gt;</th><th scope=col>&lt;int&gt;</th></tr>\n",
       "</thead>\n",
       "<tbody>\n",
       "\t<tr><td>Choueiri 2016 - KIRC, PD-1             </td><td>KIRC</td><td>nivolumab               </td><td> 16</td><td> 16</td></tr>\n",
       "\t<tr><td>Gide 2019 - SKCM, PD-1 +/- CTLA4       </td><td>SKCM</td><td>ipilimumab_nivolumab    </td><td>  8</td><td>  9</td></tr>\n",
       "\t<tr><td>Gide 2019 - SKCM, PD-1 +/- CTLA4       </td><td>SKCM</td><td>ipilimumab_pembrolizumab</td><td> 26</td><td> 32</td></tr>\n",
       "\t<tr><td>Gide 2019 - SKCM, PD-1 +/- CTLA4       </td><td>SKCM</td><td>nivolumab               </td><td>  9</td><td> 11</td></tr>\n",
       "\t<tr><td>Gide 2019 - SKCM, PD-1 +/- CTLA4       </td><td>SKCM</td><td>pembro_ici_rx           </td><td> 32</td><td> 39</td></tr>\n",
       "\t<tr><td>Hugo 2016 - SKCM, PD-1                 </td><td>SKCM</td><td>pembro_ici_rx           </td><td> 27</td><td> 27</td></tr>\n",
       "\t<tr><td>IMmotion150 - KIRC, PD-L1              </td><td>KIRC</td><td>atezolizumab            </td><td>174</td><td>174</td></tr>\n",
       "\t<tr><td>IMmotion150 - KIRC, PD-L1              </td><td>KIRC</td><td>none_ICI_Rx             </td><td> 89</td><td> 89</td></tr>\n",
       "\t<tr><td>IMVigor210 - BLCA, PD-L1               </td><td>BLCA</td><td>atezolizumab            </td><td>348</td><td>348</td></tr>\n",
       "\t<tr><td>Kim 2018 - STAD, PD-1                  </td><td>STAD</td><td>pembro_ici_rx           </td><td> 45</td><td> 45</td></tr>\n",
       "\t<tr><td>Liu 2019 - SKCM, PD-1                  </td><td>SKCM</td><td>nivolumab               </td><td> 51</td><td> 51</td></tr>\n",
       "\t<tr><td>Liu 2019 - SKCM, PD-1                  </td><td>SKCM</td><td>pembro_ici_rx           </td><td> 71</td><td> 71</td></tr>\n",
       "\t<tr><td>Miao 2018 - KIRC, PD-1 +/- CTLA4, PD-L1</td><td>KIRC</td><td>atezolizumab            </td><td>  2</td><td>  2</td></tr>\n",
       "\t<tr><td>Miao 2018 - KIRC, PD-1 +/- CTLA4, PD-L1</td><td>KIRC</td><td>ipilimumab_nivolumab    </td><td>  4</td><td>  4</td></tr>\n",
       "\t<tr><td>Miao 2018 - KIRC, PD-1 +/- CTLA4, PD-L1</td><td>KIRC</td><td>nivolumab               </td><td> 11</td><td> 11</td></tr>\n",
       "\t<tr><td>Prins 2019 - GBM, PD-1                 </td><td>GBM </td><td>pembro_ici_rx           </td><td> 30</td><td> 30</td></tr>\n",
       "\t<tr><td>Riaz 2017 - SKCM, PD-1                 </td><td>SKCM</td><td>nivolumab               </td><td> 64</td><td>107</td></tr>\n",
       "\t<tr><td>Van Allen 2015 - SKCM, CTLA-4          </td><td>SKCM</td><td>ipilimumab              </td><td> 41</td><td> 42</td></tr>\n",
       "\t<tr><td>Zhao 2019 - GBM, PD-1                  </td><td>GBM </td><td>nivolumab               </td><td> 13</td><td> 28</td></tr>\n",
       "\t<tr><td>Zhao 2019 - GBM, PD-1                  </td><td>GBM </td><td>pembro_ici_rx           </td><td>  4</td><td>  6</td></tr>\n",
       "</tbody>\n",
       "</table>\n"
      ],
      "text/latex": [
       "A tibble: 20 × 5\n",
       "\\begin{tabular}{lllll}\n",
       " dataset\\_display & TCGA\\_Study & ICI\\_Rx & n\\_patients & n\\_samples\\\\\n",
       " <chr> & <chr> & <chr> & <int> & <int>\\\\\n",
       "\\hline\n",
       "\t Choueiri 2016 - KIRC, PD-1              & KIRC & nivolumab                &  16 &  16\\\\\n",
       "\t Gide 2019 - SKCM, PD-1 +/- CTLA4        & SKCM & ipilimumab\\_nivolumab     &   8 &   9\\\\\n",
       "\t Gide 2019 - SKCM, PD-1 +/- CTLA4        & SKCM & ipilimumab\\_pembrolizumab &  26 &  32\\\\\n",
       "\t Gide 2019 - SKCM, PD-1 +/- CTLA4        & SKCM & nivolumab                &   9 &  11\\\\\n",
       "\t Gide 2019 - SKCM, PD-1 +/- CTLA4        & SKCM & pembro\\_ici\\_rx            &  32 &  39\\\\\n",
       "\t Hugo 2016 - SKCM, PD-1                  & SKCM & pembro\\_ici\\_rx            &  27 &  27\\\\\n",
       "\t IMmotion150 - KIRC, PD-L1               & KIRC & atezolizumab             & 174 & 174\\\\\n",
       "\t IMmotion150 - KIRC, PD-L1               & KIRC & none\\_ICI\\_Rx              &  89 &  89\\\\\n",
       "\t IMVigor210 - BLCA, PD-L1                & BLCA & atezolizumab             & 348 & 348\\\\\n",
       "\t Kim 2018 - STAD, PD-1                   & STAD & pembro\\_ici\\_rx            &  45 &  45\\\\\n",
       "\t Liu 2019 - SKCM, PD-1                   & SKCM & nivolumab                &  51 &  51\\\\\n",
       "\t Liu 2019 - SKCM, PD-1                   & SKCM & pembro\\_ici\\_rx            &  71 &  71\\\\\n",
       "\t Miao 2018 - KIRC, PD-1 +/- CTLA4, PD-L1 & KIRC & atezolizumab             &   2 &   2\\\\\n",
       "\t Miao 2018 - KIRC, PD-1 +/- CTLA4, PD-L1 & KIRC & ipilimumab\\_nivolumab     &   4 &   4\\\\\n",
       "\t Miao 2018 - KIRC, PD-1 +/- CTLA4, PD-L1 & KIRC & nivolumab                &  11 &  11\\\\\n",
       "\t Prins 2019 - GBM, PD-1                  & GBM  & pembro\\_ici\\_rx            &  30 &  30\\\\\n",
       "\t Riaz 2017 - SKCM, PD-1                  & SKCM & nivolumab                &  64 & 107\\\\\n",
       "\t Van Allen 2015 - SKCM, CTLA-4           & SKCM & ipilimumab               &  41 &  42\\\\\n",
       "\t Zhao 2019 - GBM, PD-1                   & GBM  & nivolumab                &  13 &  28\\\\\n",
       "\t Zhao 2019 - GBM, PD-1                   & GBM  & pembro\\_ici\\_rx            &   4 &   6\\\\\n",
       "\\end{tabular}\n"
      ],
      "text/markdown": [
       "\n",
       "A tibble: 20 × 5\n",
       "\n",
       "| dataset_display &lt;chr&gt; | TCGA_Study &lt;chr&gt; | ICI_Rx &lt;chr&gt; | n_patients &lt;int&gt; | n_samples &lt;int&gt; |\n",
       "|---|---|---|---|---|\n",
       "| Choueiri 2016 - KIRC, PD-1              | KIRC | nivolumab                |  16 |  16 |\n",
       "| Gide 2019 - SKCM, PD-1 +/- CTLA4        | SKCM | ipilimumab_nivolumab     |   8 |   9 |\n",
       "| Gide 2019 - SKCM, PD-1 +/- CTLA4        | SKCM | ipilimumab_pembrolizumab |  26 |  32 |\n",
       "| Gide 2019 - SKCM, PD-1 +/- CTLA4        | SKCM | nivolumab                |   9 |  11 |\n",
       "| Gide 2019 - SKCM, PD-1 +/- CTLA4        | SKCM | pembro_ici_rx            |  32 |  39 |\n",
       "| Hugo 2016 - SKCM, PD-1                  | SKCM | pembro_ici_rx            |  27 |  27 |\n",
       "| IMmotion150 - KIRC, PD-L1               | KIRC | atezolizumab             | 174 | 174 |\n",
       "| IMmotion150 - KIRC, PD-L1               | KIRC | none_ICI_Rx              |  89 |  89 |\n",
       "| IMVigor210 - BLCA, PD-L1                | BLCA | atezolizumab             | 348 | 348 |\n",
       "| Kim 2018 - STAD, PD-1                   | STAD | pembro_ici_rx            |  45 |  45 |\n",
       "| Liu 2019 - SKCM, PD-1                   | SKCM | nivolumab                |  51 |  51 |\n",
       "| Liu 2019 - SKCM, PD-1                   | SKCM | pembro_ici_rx            |  71 |  71 |\n",
       "| Miao 2018 - KIRC, PD-1 +/- CTLA4, PD-L1 | KIRC | atezolizumab             |   2 |   2 |\n",
       "| Miao 2018 - KIRC, PD-1 +/- CTLA4, PD-L1 | KIRC | ipilimumab_nivolumab     |   4 |   4 |\n",
       "| Miao 2018 - KIRC, PD-1 +/- CTLA4, PD-L1 | KIRC | nivolumab                |  11 |  11 |\n",
       "| Prins 2019 - GBM, PD-1                  | GBM  | pembro_ici_rx            |  30 |  30 |\n",
       "| Riaz 2017 - SKCM, PD-1                  | SKCM | nivolumab                |  64 | 107 |\n",
       "| Van Allen 2015 - SKCM, CTLA-4           | SKCM | ipilimumab               |  41 |  42 |\n",
       "| Zhao 2019 - GBM, PD-1                   | GBM  | nivolumab                |  13 |  28 |\n",
       "| Zhao 2019 - GBM, PD-1                   | GBM  | pembro_ici_rx            |   4 |   6 |\n",
       "\n"
      ],
      "text/plain": [
       "   dataset_display                         TCGA_Study ICI_Rx                  \n",
       "1  Choueiri 2016 - KIRC, PD-1              KIRC       nivolumab               \n",
       "2  Gide 2019 - SKCM, PD-1 +/- CTLA4        SKCM       ipilimumab_nivolumab    \n",
       "3  Gide 2019 - SKCM, PD-1 +/- CTLA4        SKCM       ipilimumab_pembrolizumab\n",
       "4  Gide 2019 - SKCM, PD-1 +/- CTLA4        SKCM       nivolumab               \n",
       "5  Gide 2019 - SKCM, PD-1 +/- CTLA4        SKCM       pembro_ici_rx           \n",
       "6  Hugo 2016 - SKCM, PD-1                  SKCM       pembro_ici_rx           \n",
       "7  IMmotion150 - KIRC, PD-L1               KIRC       atezolizumab            \n",
       "8  IMmotion150 - KIRC, PD-L1               KIRC       none_ICI_Rx             \n",
       "9  IMVigor210 - BLCA, PD-L1                BLCA       atezolizumab            \n",
       "10 Kim 2018 - STAD, PD-1                   STAD       pembro_ici_rx           \n",
       "11 Liu 2019 - SKCM, PD-1                   SKCM       nivolumab               \n",
       "12 Liu 2019 - SKCM, PD-1                   SKCM       pembro_ici_rx           \n",
       "13 Miao 2018 - KIRC, PD-1 +/- CTLA4, PD-L1 KIRC       atezolizumab            \n",
       "14 Miao 2018 - KIRC, PD-1 +/- CTLA4, PD-L1 KIRC       ipilimumab_nivolumab    \n",
       "15 Miao 2018 - KIRC, PD-1 +/- CTLA4, PD-L1 KIRC       nivolumab               \n",
       "16 Prins 2019 - GBM, PD-1                  GBM        pembro_ici_rx           \n",
       "17 Riaz 2017 - SKCM, PD-1                  SKCM       nivolumab               \n",
       "18 Van Allen 2015 - SKCM, CTLA-4           SKCM       ipilimumab              \n",
       "19 Zhao 2019 - GBM, PD-1                   GBM        nivolumab               \n",
       "20 Zhao 2019 - GBM, PD-1                   GBM        pembro_ici_rx           \n",
       "   n_patients n_samples\n",
       "1   16         16      \n",
       "2    8          9      \n",
       "3   26         32      \n",
       "4    9         11      \n",
       "5   32         39      \n",
       "6   27         27      \n",
       "7  174        174      \n",
       "8   89         89      \n",
       "9  348        348      \n",
       "10  45         45      \n",
       "11  51         51      \n",
       "12  71         71      \n",
       "13   2          2      \n",
       "14   4          4      \n",
       "15  11         11      \n",
       "16  30         30      \n",
       "17  64        107      \n",
       "18  41         42      \n",
       "19  13         28      \n",
       "20   4          6      "
      ]
     },
     "metadata": {},
     "output_type": "display_data"
    }
   ],
   "source": [
    "#Treatment information\n",
    "overview_treatment <- c(\"TCGA_Study\", \"ICI_Rx\") #name of the groups of interest. Check the clinical_options df for more options\n",
    "\n",
    "#Organize a dataframe with all patients IDs and samples IDs \n",
    "all_ici_patients  <- iatlasGraphQLClient::query_dataset_samples(datasets = ici_datasets$name) %>% #get samples id for the ICI datasets\n",
    "  dplyr::inner_join( #add patient id info\n",
    "    iatlasGraphQLClient::query_sample_patients(),\n",
    "    by = \"sample_name\"\n",
    "  ) \n",
    "\n",
    "all_ici_patients %>% \n",
    "  dplyr::inner_join(\n",
    "    iatlasGraphQLClient::query_tag_samples_parents(parent_tags = overview_treatment), #query the values of TCGA_Study and ICI_Rx for each sample\n",
    "    by = \"sample_name\") %>% \n",
    "  get_wide_df(., #this function converts the dataframe from a long to a wide format\n",
    "              names_from_column = \"parent_tag_name\", \n",
    "              values_from_column = \"tag_name\", \n",
    "              columns_to_keep = c(\"patient_name\", \"sample_name\", \"dataset_display\")) %>% \n",
    "  dplyr::group_by(dataset_display, dplyr::across(dplyr::all_of(overview_treatment))) %>%\n",
    "  dplyr::summarise(\n",
    "    n_patients = n_distinct(patient_name),\n",
    "    n_samples = dplyr::n_distinct(sample_name),\n",
    "  .groups = \"drop\")"
   ]
  },
  {
   "cell_type": "markdown",
   "metadata": {},
   "source": [
    "Some of these datasets have more than one sample per patient - in those studies, some patients had samples collected before (`pre_sample_treatment`) and during (`on_sample_treatment`) ICI therapy. "
   ]
  },
  {
   "cell_type": "code",
   "execution_count": 10,
   "metadata": {},
   "outputs": [
    {
     "data": {
      "text/html": [
       "<table class=\"dataframe\">\n",
       "<caption>A tibble: 23 × 4</caption>\n",
       "<thead>\n",
       "\t<tr><th scope=col>dataset_display</th><th scope=col>Sample_Treatment</th><th scope=col>n_patients</th><th scope=col>n_samples</th></tr>\n",
       "\t<tr><th scope=col>&lt;chr&gt;</th><th scope=col>&lt;chr&gt;</th><th scope=col>&lt;int&gt;</th><th scope=col>&lt;int&gt;</th></tr>\n",
       "</thead>\n",
       "<tbody>\n",
       "\t<tr><td>Chen 2016 - SKCM, Anti-CTLA4                 </td><td>on_sample_treatment  </td><td> 15</td><td> 15</td></tr>\n",
       "\t<tr><td>Chen 2016 - SKCM, Anti-CTLA4                 </td><td>post_sample_treatment</td><td>  7</td><td>  7</td></tr>\n",
       "\t<tr><td>Chen 2016 - SKCM, Anti-CTLA4                 </td><td>pre_sample_treatment </td><td> 31</td><td> 32</td></tr>\n",
       "\t<tr><td>Choueiri 2016 - KIRC, PD-1                   </td><td>pre_sample_treatment </td><td> 16</td><td> 16</td></tr>\n",
       "\t<tr><td>Gide 2019 - SKCM, PD-1 +/- CTLA4             </td><td>on_sample_treatment  </td><td> 18</td><td> 18</td></tr>\n",
       "\t<tr><td>Gide 2019 - SKCM, PD-1 +/- CTLA4             </td><td>pre_sample_treatment </td><td> 73</td><td> 73</td></tr>\n",
       "\t<tr><td>Hugo 2016 - SKCM, PD-1                       </td><td>on_sample_treatment  </td><td>  1</td><td>  1</td></tr>\n",
       "\t<tr><td>Hugo 2016 - SKCM, PD-1                       </td><td>pre_sample_treatment </td><td> 26</td><td> 26</td></tr>\n",
       "\t<tr><td>IMmotion150 - KIRC, PD-L1                    </td><td>pre_sample_treatment </td><td>263</td><td>263</td></tr>\n",
       "\t<tr><td>IMVigor210 - BLCA, PD-L1                     </td><td>pre_sample_treatment </td><td>348</td><td>348</td></tr>\n",
       "\t<tr><td>Kim 2018 - STAD, PD-1                        </td><td>pre_sample_treatment </td><td> 45</td><td> 45</td></tr>\n",
       "\t<tr><td>Liu 2019 - SKCM, PD-1                        </td><td>pre_sample_treatment </td><td>122</td><td>122</td></tr>\n",
       "\t<tr><td>Melero 2019 - GBM, Anti-PD-1                 </td><td>on_sample_treatment  </td><td> 30</td><td> 30</td></tr>\n",
       "\t<tr><td>Melero 2019 - GBM, Anti-PD-1                 </td><td>pre_sample_treatment </td><td> 30</td><td> 30</td></tr>\n",
       "\t<tr><td>Miao 2018 - KIRC, PD-1 +/- CTLA4, PD-L1      </td><td>pre_sample_treatment </td><td> 17</td><td> 17</td></tr>\n",
       "\t<tr><td>Prat 2017 - HNSC, LUAD, LUSC, SKCM, Anti-PD-1</td><td>pre_sample_treatment </td><td> 65</td><td> 65</td></tr>\n",
       "\t<tr><td>Prins 2019 - GBM, PD-1                       </td><td>on_sample_treatment  </td><td> 15</td><td> 30</td></tr>\n",
       "\t<tr><td>Prins 2019 - GBM, PD-1                       </td><td>pre_sample_treatment </td><td> 15</td><td> 30</td></tr>\n",
       "\t<tr><td>Riaz 2017 - SKCM, PD-1                       </td><td>on_sample_treatment  </td><td> 56</td><td> 56</td></tr>\n",
       "\t<tr><td>Riaz 2017 - SKCM, PD-1                       </td><td>pre_sample_treatment </td><td> 51</td><td> 51</td></tr>\n",
       "\t<tr><td>Van Allen 2015 - SKCM, CTLA-4                </td><td>pre_sample_treatment </td><td> 41</td><td> 42</td></tr>\n",
       "\t<tr><td>Zhao 2019 - GBM, PD-1                        </td><td>on_sample_treatment  </td><td>  7</td><td>  9</td></tr>\n",
       "\t<tr><td>Zhao 2019 - GBM, PD-1                        </td><td>pre_sample_treatment </td><td> 16</td><td> 25</td></tr>\n",
       "</tbody>\n",
       "</table>\n"
      ],
      "text/latex": [
       "A tibble: 23 × 4\n",
       "\\begin{tabular}{llll}\n",
       " dataset\\_display & Sample\\_Treatment & n\\_patients & n\\_samples\\\\\n",
       " <chr> & <chr> & <int> & <int>\\\\\n",
       "\\hline\n",
       "\t Chen 2016 - SKCM, Anti-CTLA4                  & on\\_sample\\_treatment   &  15 &  15\\\\\n",
       "\t Chen 2016 - SKCM, Anti-CTLA4                  & post\\_sample\\_treatment &   7 &   7\\\\\n",
       "\t Chen 2016 - SKCM, Anti-CTLA4                  & pre\\_sample\\_treatment  &  31 &  32\\\\\n",
       "\t Choueiri 2016 - KIRC, PD-1                    & pre\\_sample\\_treatment  &  16 &  16\\\\\n",
       "\t Gide 2019 - SKCM, PD-1 +/- CTLA4              & on\\_sample\\_treatment   &  18 &  18\\\\\n",
       "\t Gide 2019 - SKCM, PD-1 +/- CTLA4              & pre\\_sample\\_treatment  &  73 &  73\\\\\n",
       "\t Hugo 2016 - SKCM, PD-1                        & on\\_sample\\_treatment   &   1 &   1\\\\\n",
       "\t Hugo 2016 - SKCM, PD-1                        & pre\\_sample\\_treatment  &  26 &  26\\\\\n",
       "\t IMmotion150 - KIRC, PD-L1                     & pre\\_sample\\_treatment  & 263 & 263\\\\\n",
       "\t IMVigor210 - BLCA, PD-L1                      & pre\\_sample\\_treatment  & 348 & 348\\\\\n",
       "\t Kim 2018 - STAD, PD-1                         & pre\\_sample\\_treatment  &  45 &  45\\\\\n",
       "\t Liu 2019 - SKCM, PD-1                         & pre\\_sample\\_treatment  & 122 & 122\\\\\n",
       "\t Melero 2019 - GBM, Anti-PD-1                  & on\\_sample\\_treatment   &  30 &  30\\\\\n",
       "\t Melero 2019 - GBM, Anti-PD-1                  & pre\\_sample\\_treatment  &  30 &  30\\\\\n",
       "\t Miao 2018 - KIRC, PD-1 +/- CTLA4, PD-L1       & pre\\_sample\\_treatment  &  17 &  17\\\\\n",
       "\t Prat 2017 - HNSC, LUAD, LUSC, SKCM, Anti-PD-1 & pre\\_sample\\_treatment  &  65 &  65\\\\\n",
       "\t Prins 2019 - GBM, PD-1                        & on\\_sample\\_treatment   &  15 &  30\\\\\n",
       "\t Prins 2019 - GBM, PD-1                        & pre\\_sample\\_treatment  &  15 &  30\\\\\n",
       "\t Riaz 2017 - SKCM, PD-1                        & on\\_sample\\_treatment   &  56 &  56\\\\\n",
       "\t Riaz 2017 - SKCM, PD-1                        & pre\\_sample\\_treatment  &  51 &  51\\\\\n",
       "\t Van Allen 2015 - SKCM, CTLA-4                 & pre\\_sample\\_treatment  &  41 &  42\\\\\n",
       "\t Zhao 2019 - GBM, PD-1                         & on\\_sample\\_treatment   &   7 &   9\\\\\n",
       "\t Zhao 2019 - GBM, PD-1                         & pre\\_sample\\_treatment  &  16 &  25\\\\\n",
       "\\end{tabular}\n"
      ],
      "text/markdown": [
       "\n",
       "A tibble: 23 × 4\n",
       "\n",
       "| dataset_display &lt;chr&gt; | Sample_Treatment &lt;chr&gt; | n_patients &lt;int&gt; | n_samples &lt;int&gt; |\n",
       "|---|---|---|---|\n",
       "| Chen 2016 - SKCM, Anti-CTLA4                  | on_sample_treatment   |  15 |  15 |\n",
       "| Chen 2016 - SKCM, Anti-CTLA4                  | post_sample_treatment |   7 |   7 |\n",
       "| Chen 2016 - SKCM, Anti-CTLA4                  | pre_sample_treatment  |  31 |  32 |\n",
       "| Choueiri 2016 - KIRC, PD-1                    | pre_sample_treatment  |  16 |  16 |\n",
       "| Gide 2019 - SKCM, PD-1 +/- CTLA4              | on_sample_treatment   |  18 |  18 |\n",
       "| Gide 2019 - SKCM, PD-1 +/- CTLA4              | pre_sample_treatment  |  73 |  73 |\n",
       "| Hugo 2016 - SKCM, PD-1                        | on_sample_treatment   |   1 |   1 |\n",
       "| Hugo 2016 - SKCM, PD-1                        | pre_sample_treatment  |  26 |  26 |\n",
       "| IMmotion150 - KIRC, PD-L1                     | pre_sample_treatment  | 263 | 263 |\n",
       "| IMVigor210 - BLCA, PD-L1                      | pre_sample_treatment  | 348 | 348 |\n",
       "| Kim 2018 - STAD, PD-1                         | pre_sample_treatment  |  45 |  45 |\n",
       "| Liu 2019 - SKCM, PD-1                         | pre_sample_treatment  | 122 | 122 |\n",
       "| Melero 2019 - GBM, Anti-PD-1                  | on_sample_treatment   |  30 |  30 |\n",
       "| Melero 2019 - GBM, Anti-PD-1                  | pre_sample_treatment  |  30 |  30 |\n",
       "| Miao 2018 - KIRC, PD-1 +/- CTLA4, PD-L1       | pre_sample_treatment  |  17 |  17 |\n",
       "| Prat 2017 - HNSC, LUAD, LUSC, SKCM, Anti-PD-1 | pre_sample_treatment  |  65 |  65 |\n",
       "| Prins 2019 - GBM, PD-1                        | on_sample_treatment   |  15 |  30 |\n",
       "| Prins 2019 - GBM, PD-1                        | pre_sample_treatment  |  15 |  30 |\n",
       "| Riaz 2017 - SKCM, PD-1                        | on_sample_treatment   |  56 |  56 |\n",
       "| Riaz 2017 - SKCM, PD-1                        | pre_sample_treatment  |  51 |  51 |\n",
       "| Van Allen 2015 - SKCM, CTLA-4                 | pre_sample_treatment  |  41 |  42 |\n",
       "| Zhao 2019 - GBM, PD-1                         | on_sample_treatment   |   7 |   9 |\n",
       "| Zhao 2019 - GBM, PD-1                         | pre_sample_treatment  |  16 |  25 |\n",
       "\n"
      ],
      "text/plain": [
       "   dataset_display                               Sample_Treatment     \n",
       "1  Chen 2016 - SKCM, Anti-CTLA4                  on_sample_treatment  \n",
       "2  Chen 2016 - SKCM, Anti-CTLA4                  post_sample_treatment\n",
       "3  Chen 2016 - SKCM, Anti-CTLA4                  pre_sample_treatment \n",
       "4  Choueiri 2016 - KIRC, PD-1                    pre_sample_treatment \n",
       "5  Gide 2019 - SKCM, PD-1 +/- CTLA4              on_sample_treatment  \n",
       "6  Gide 2019 - SKCM, PD-1 +/- CTLA4              pre_sample_treatment \n",
       "7  Hugo 2016 - SKCM, PD-1                        on_sample_treatment  \n",
       "8  Hugo 2016 - SKCM, PD-1                        pre_sample_treatment \n",
       "9  IMmotion150 - KIRC, PD-L1                     pre_sample_treatment \n",
       "10 IMVigor210 - BLCA, PD-L1                      pre_sample_treatment \n",
       "11 Kim 2018 - STAD, PD-1                         pre_sample_treatment \n",
       "12 Liu 2019 - SKCM, PD-1                         pre_sample_treatment \n",
       "13 Melero 2019 - GBM, Anti-PD-1                  on_sample_treatment  \n",
       "14 Melero 2019 - GBM, Anti-PD-1                  pre_sample_treatment \n",
       "15 Miao 2018 - KIRC, PD-1 +/- CTLA4, PD-L1       pre_sample_treatment \n",
       "16 Prat 2017 - HNSC, LUAD, LUSC, SKCM, Anti-PD-1 pre_sample_treatment \n",
       "17 Prins 2019 - GBM, PD-1                        on_sample_treatment  \n",
       "18 Prins 2019 - GBM, PD-1                        pre_sample_treatment \n",
       "19 Riaz 2017 - SKCM, PD-1                        on_sample_treatment  \n",
       "20 Riaz 2017 - SKCM, PD-1                        pre_sample_treatment \n",
       "21 Van Allen 2015 - SKCM, CTLA-4                 pre_sample_treatment \n",
       "22 Zhao 2019 - GBM, PD-1                         on_sample_treatment  \n",
       "23 Zhao 2019 - GBM, PD-1                         pre_sample_treatment \n",
       "   n_patients n_samples\n",
       "1   15         15      \n",
       "2    7          7      \n",
       "3   31         32      \n",
       "4   16         16      \n",
       "5   18         18      \n",
       "6   73         73      \n",
       "7    1          1      \n",
       "8   26         26      \n",
       "9  263        263      \n",
       "10 348        348      \n",
       "11  45         45      \n",
       "12 122        122      \n",
       "13  30         30      \n",
       "14  30         30      \n",
       "15  17         17      \n",
       "16  65         65      \n",
       "17  15         30      \n",
       "18  15         30      \n",
       "19  56         56      \n",
       "20  51         51      \n",
       "21  41         42      \n",
       "22   7          9      \n",
       "23  16         25      "
      ]
     },
     "metadata": {},
     "output_type": "display_data"
    }
   ],
   "source": [
    "all_ici_patients %>%\n",
    "  dplyr::inner_join(\n",
    "    iatlasGraphQLClient::query_tag_samples_parents(parent_tags = \"Sample_Treatment\"),\n",
    "    by = \"sample_name\") %>% \n",
    "  get_wide_df(., \n",
    "              names_from_column = \"parent_tag_name\", \n",
    "              values_from_column = \"tag_name\", \n",
    "              columns_to_keep = c(\"patient_name\", \"sample_name\", \"dataset_display\")) %>% \n",
    "  dplyr::group_by(dataset_display, dplyr::across(dplyr::all_of(\"Sample_Treatment\"))) %>%\n",
    "  dplyr::summarise(\n",
    "    n_patients = n_distinct(patient_name),\n",
    "    n_samples = dplyr::n_distinct(sample_name),\n",
    "  .groups = \"drop\")"
   ]
  },
  {
   "cell_type": "markdown",
   "metadata": {},
   "source": [
    "For the purposes of this notebook, we will only use samples collected **pre ICI treatment**.\n"
   ]
  },
  {
   "cell_type": "markdown",
   "metadata": {},
   "source": [
    "# 1. Selection of parameters\n",
    "\n",
    "Before we go to the regression, let's define the main parameters of the model:\n",
    "\n",
    "### 1.1. Training and testing datasets\n",
    "The training datasets will be used for discovery over cross validation.\n",
    "The testing dataset(s) will be set aside and be used after the training is completed. "
   ]
  },
  {
   "cell_type": "code",
   "execution_count": 11,
   "metadata": {
    "lines_to_next_cell": 2
   },
   "outputs": [],
   "source": [
    "train <- c(\"Gide_Cell_2019\", \"HugoLo_IPRES_2016\", \"Liu_NatMed_2019\") #use SKCM datasets for training\n",
    "#use the other two SKCM dataset for validation\n",
    "test <- c(\"Riaz_Nivolumab_2017\", \"VanAllen_antiCTLA4_2015\") \n",
    "\n",
    "#check the ici_datasets dataframe to see all dataset options"
   ]
  },
  {
   "cell_type": "markdown",
   "metadata": {},
   "source": [
    "### 1.2. Predictors and independent variable\n",
    "\n",
    "We will use the Responder annotation as an independent variable in our model.\n",
    "\n",
    "We will use the following candidate predictors for this model:\n",
    "\n",
    "1. Predictors of response: IMPRES [(Auslander et al, 2018)](https://pubmed.ncbi.nlm.nih.gov/30127394/), IPRES (Vincent lab analysis of Hugo et al data, unpublished), Cytolytic Score [(Roufas et al, 2018)](https://pubmed.ncbi.nlm.nih.gov/29515971/), CTLA4/Th1  (Nishimura, 2004; [Bindea et al., 2013](https://pubmed.ncbi.nlm.nih.gov/24138885/))\n",
    "\n",
    "2. Gene expression of immunomodulators in the Receptor gene family: ADORA2A, CTLA4, EDNRB, TLR4 \n",
    "\n",
    "3. Immune Subtype."
   ]
  },
  {
   "cell_type": "code",
   "execution_count": 12,
   "metadata": {
    "lines_to_next_cell": 0
   },
   "outputs": [
    {
     "data": {
      "text/html": [
       "9"
      ],
      "text/latex": [
       "9"
      ],
      "text/markdown": [
       "9"
      ],
      "text/plain": [
       "[1] 9"
      ]
     },
     "metadata": {},
     "output_type": "display_data"
    }
   ],
   "source": [
    "outcome_variable  <-  \"Responder\"\n",
    "# check outcome_variables for all independent variable options\n",
    "\n",
    "feature_predictors <- c(\n",
    "                \"IMPRES\", \n",
    "                \"Vincent_IPRES_NonResponder\", \n",
    "                \"Cytolytic_Score\", \n",
    "                \"BIOCARTA_CTLA4_V_Bindea_Th1_Cells\",\n",
    "                \"ADORA2A\",\n",
    "                \"CTLA4\",\n",
    "                \"EDNRB\",\n",
    "                \"TLR4\"\n",
    "                )\n",
    "#check features_df and genes_df for all immune features and gene expression options\n",
    "\n",
    "#we need the gene Entrez ID to query the iAtlas database\n",
    "genes_entrez <- c(135,\n",
    "                1493,\n",
    "                1910,\n",
    "                7099)\n",
    "  \n",
    "group_predictors <- \"Immune_Subtype\"\n",
    "#check the clinical_options dataframe for all options of clinical annotation groups\n",
    "\n",
    "#How many predictors did we select?\n",
    "length(c(feature_predictors, group_predictors))"
   ]
  },
  {
   "cell_type": "markdown",
   "metadata": {},
   "source": [
    "### 1.3. Cross Validation\n",
    "\n",
    "Define the number of folds for cross validation."
   ]
  },
  {
   "cell_type": "code",
   "execution_count": 13,
   "metadata": {},
   "outputs": [],
   "source": [
    "n_cv <- 5"
   ]
  },
  {
   "cell_type": "markdown",
   "metadata": {},
   "source": [
    "### 1.4. Querying the database\n",
    "\n",
    "As a first step, we will get all samples for the datasets selected for training and testing that were collected **pre ICI treatment** that have an annotation for the selected outcome variable (ie, we will exclude samples that have NA as the annotation of response to immunotherapy)."
   ]
  },
  {
   "cell_type": "code",
   "execution_count": 14,
   "metadata": {},
   "outputs": [
    {
     "data": {
      "text/html": [
       "<table class=\"dataframe\">\n",
       "<caption>A tibble: 5 × 2</caption>\n",
       "<thead>\n",
       "\t<tr><th scope=col>dataset_display</th><th scope=col>n_samples</th></tr>\n",
       "\t<tr><th scope=col>&lt;chr&gt;</th><th scope=col>&lt;int&gt;</th></tr>\n",
       "</thead>\n",
       "<tbody>\n",
       "\t<tr><td>Gide 2019 - SKCM, PD-1 +/- CTLA4</td><td> 73</td></tr>\n",
       "\t<tr><td>Hugo 2016 - SKCM, PD-1          </td><td> 26</td></tr>\n",
       "\t<tr><td>Liu 2019 - SKCM, PD-1           </td><td>122</td></tr>\n",
       "\t<tr><td>Riaz 2017 - SKCM, PD-1          </td><td> 49</td></tr>\n",
       "\t<tr><td>Van Allen 2015 - SKCM, CTLA-4   </td><td> 41</td></tr>\n",
       "</tbody>\n",
       "</table>\n"
      ],
      "text/latex": [
       "A tibble: 5 × 2\n",
       "\\begin{tabular}{ll}\n",
       " dataset\\_display & n\\_samples\\\\\n",
       " <chr> & <int>\\\\\n",
       "\\hline\n",
       "\t Gide 2019 - SKCM, PD-1 +/- CTLA4 &  73\\\\\n",
       "\t Hugo 2016 - SKCM, PD-1           &  26\\\\\n",
       "\t Liu 2019 - SKCM, PD-1            & 122\\\\\n",
       "\t Riaz 2017 - SKCM, PD-1           &  49\\\\\n",
       "\t Van Allen 2015 - SKCM, CTLA-4    &  41\\\\\n",
       "\\end{tabular}\n"
      ],
      "text/markdown": [
       "\n",
       "A tibble: 5 × 2\n",
       "\n",
       "| dataset_display &lt;chr&gt; | n_samples &lt;int&gt; |\n",
       "|---|---|\n",
       "| Gide 2019 - SKCM, PD-1 +/- CTLA4 |  73 |\n",
       "| Hugo 2016 - SKCM, PD-1           |  26 |\n",
       "| Liu 2019 - SKCM, PD-1            | 122 |\n",
       "| Riaz 2017 - SKCM, PD-1           |  49 |\n",
       "| Van Allen 2015 - SKCM, CTLA-4    |  41 |\n",
       "\n"
      ],
      "text/plain": [
       "  dataset_display                  n_samples\n",
       "1 Gide 2019 - SKCM, PD-1 +/- CTLA4  73      \n",
       "2 Hugo 2016 - SKCM, PD-1            26      \n",
       "3 Liu 2019 - SKCM, PD-1            122      \n",
       "4 Riaz 2017 - SKCM, PD-1            49      \n",
       "5 Van Allen 2015 - SKCM, CTLA-4     41      "
      ]
     },
     "metadata": {},
     "output_type": "display_data"
    }
   ],
   "source": [
    "outcome_annotation  <- iatlasGraphQLClient::query_tags(parent_tags = outcome_variable) %>% \n",
    "        dplyr::filter(!grepl(\"^na_\", tag_name)) %>% \n",
    "        dplyr::pull(tag_name)\n",
    "\n",
    "samples_pre <- iatlasGraphQLClient::query_dataset_samples(datasets = c(train, test)) %>% #get samples id for the ICI datasets\n",
    "  dplyr::inner_join(\n",
    "    iatlasGraphQLClient::query_tag_samples_parents(\n",
    "      tags = c(\"pre_sample_treatment\", outcome_annotation)),\n",
    "    by = \"sample_name\") %>% \n",
    "  dplyr::group_by(sample_name) %>% \n",
    "  dplyr::mutate(both = length(unique(tag_name))==2) %>% \n",
    "  dplyr::filter(both) %>% #get only samples that have a response annotation AND were collected pre treatment\n",
    "  get_wide_df(., \n",
    "              names_from_column = \"parent_tag_name\", \n",
    "              values_from_column = \"tag_name\", \n",
    "              columns_to_keep = c(\"sample_name\", \"dataset_name\", \"dataset_display\"))\n",
    "\n",
    "\n",
    "#summary of samples per dataset\n",
    "samples_pre %>% \n",
    "  dplyr::group_by(dataset_display) %>% \n",
    "  dplyr::summarise(n_samples = n_distinct(sample_name),\n",
    "                   .groups = \"drop\") "
   ]
  },
  {
   "cell_type": "markdown",
   "metadata": {},
   "source": [
    "For the selected predictors, we will need to make a query for each different category of data\n",
    "- immune features\n",
    "- gene expression\n",
    "- clinical annotation (groups)"
   ]
  },
  {
   "cell_type": "code",
   "execution_count": 15,
   "metadata": {
    "scrolled": true
   },
   "outputs": [
    {
     "data": {
      "text/html": [
       "<table class=\"dataframe\">\n",
       "<caption>A tibble: 6 × 13</caption>\n",
       "<thead>\n",
       "\t<tr><th scope=col>sample_name</th><th scope=col>dataset_name</th><th scope=col>dataset_display</th><th scope=col>Responder</th><th scope=col>BIOCARTA_CTLA4_V_Bindea_Th1_Cells</th><th scope=col>Cytolytic_Score</th><th scope=col>IMPRES</th><th scope=col>Vincent_IPRES_NonResponder</th><th scope=col>ADORA2A</th><th scope=col>CTLA4</th><th scope=col>EDNRB</th><th scope=col>TLR4</th><th scope=col>Immune_Subtype</th></tr>\n",
       "\t<tr><th scope=col>&lt;chr&gt;</th><th scope=col>&lt;chr&gt;</th><th scope=col>&lt;chr&gt;</th><th scope=col>&lt;chr&gt;</th><th scope=col>&lt;dbl&gt;</th><th scope=col>&lt;dbl&gt;</th><th scope=col>&lt;dbl&gt;</th><th scope=col>&lt;dbl&gt;</th><th scope=col>&lt;dbl&gt;</th><th scope=col>&lt;dbl&gt;</th><th scope=col>&lt;dbl&gt;</th><th scope=col>&lt;dbl&gt;</th><th scope=col>&lt;chr&gt;</th></tr>\n",
       "</thead>\n",
       "<tbody>\n",
       "\t<tr><td>Gide_Cell_2019-iP01-ar-888</td><td>Gide_Cell_2019</td><td>Gide 2019 - SKCM, PD-1 +/- CTLA4</td><td>false_responder</td><td>0.7557645</td><td>5.190401</td><td> 7</td><td>7.417445</td><td> 1.000</td><td>104.001</td><td>52215.000</td><td>1576.391</td><td>C4</td></tr>\n",
       "\t<tr><td>Gide_Cell_2019-iP02-ar-898</td><td>Gide_Cell_2019</td><td>Gide 2019 - SKCM, PD-1 +/- CTLA4</td><td>false_responder</td><td>1.0533033</td><td>6.647535</td><td>10</td><td>7.847118</td><td>17.559</td><td>130.000</td><td> 5814.001</td><td> 844.291</td><td>C4</td></tr>\n",
       "\t<tr><td>Gide_Cell_2019-iP06-ar-924</td><td>Gide_Cell_2019</td><td>Gide 2019 - SKCM, PD-1 +/- CTLA4</td><td>false_responder</td><td>1.2086946</td><td>7.500543</td><td>11</td><td>6.915053</td><td> 2.000</td><td>105.000</td><td>67049.000</td><td>1481.833</td><td>C3</td></tr>\n",
       "\t<tr><td>Gide_Cell_2019-iP07-ar-562</td><td>Gide_Cell_2019</td><td>Gide 2019 - SKCM, PD-1 +/- CTLA4</td><td>true_responder </td><td>1.1815589</td><td>7.603074</td><td> 8</td><td>6.694380</td><td> 0.000</td><td>186.000</td><td>11395.000</td><td>3867.965</td><td>C4</td></tr>\n",
       "\t<tr><td>Gide_Cell_2019-iP08-ar-926</td><td>Gide_Cell_2019</td><td>Gide 2019 - SKCM, PD-1 +/- CTLA4</td><td>false_responder</td><td>1.1773234</td><td>4.959381</td><td>10</td><td>6.177450</td><td> 0.000</td><td> 66.001</td><td> 8109.000</td><td> 348.404</td><td>C4</td></tr>\n",
       "\t<tr><td>Gide_Cell_2019-iP10-ar-889</td><td>Gide_Cell_2019</td><td>Gide 2019 - SKCM, PD-1 +/- CTLA4</td><td>false_responder</td><td>0.9842043</td><td>4.020911</td><td> 9</td><td>7.563943</td><td> 0.000</td><td>  4.000</td><td> 3046.000</td><td> 322.244</td><td>C1</td></tr>\n",
       "</tbody>\n",
       "</table>\n"
      ],
      "text/latex": [
       "A tibble: 6 × 13\n",
       "\\begin{tabular}{lllllllllllll}\n",
       " sample\\_name & dataset\\_name & dataset\\_display & Responder & BIOCARTA\\_CTLA4\\_V\\_Bindea\\_Th1\\_Cells & Cytolytic\\_Score & IMPRES & Vincent\\_IPRES\\_NonResponder & ADORA2A & CTLA4 & EDNRB & TLR4 & Immune\\_Subtype\\\\\n",
       " <chr> & <chr> & <chr> & <chr> & <dbl> & <dbl> & <dbl> & <dbl> & <dbl> & <dbl> & <dbl> & <dbl> & <chr>\\\\\n",
       "\\hline\n",
       "\t Gide\\_Cell\\_2019-iP01-ar-888 & Gide\\_Cell\\_2019 & Gide 2019 - SKCM, PD-1 +/- CTLA4 & false\\_responder & 0.7557645 & 5.190401 &  7 & 7.417445 &  1.000 & 104.001 & 52215.000 & 1576.391 & C4\\\\\n",
       "\t Gide\\_Cell\\_2019-iP02-ar-898 & Gide\\_Cell\\_2019 & Gide 2019 - SKCM, PD-1 +/- CTLA4 & false\\_responder & 1.0533033 & 6.647535 & 10 & 7.847118 & 17.559 & 130.000 &  5814.001 &  844.291 & C4\\\\\n",
       "\t Gide\\_Cell\\_2019-iP06-ar-924 & Gide\\_Cell\\_2019 & Gide 2019 - SKCM, PD-1 +/- CTLA4 & false\\_responder & 1.2086946 & 7.500543 & 11 & 6.915053 &  2.000 & 105.000 & 67049.000 & 1481.833 & C3\\\\\n",
       "\t Gide\\_Cell\\_2019-iP07-ar-562 & Gide\\_Cell\\_2019 & Gide 2019 - SKCM, PD-1 +/- CTLA4 & true\\_responder  & 1.1815589 & 7.603074 &  8 & 6.694380 &  0.000 & 186.000 & 11395.000 & 3867.965 & C4\\\\\n",
       "\t Gide\\_Cell\\_2019-iP08-ar-926 & Gide\\_Cell\\_2019 & Gide 2019 - SKCM, PD-1 +/- CTLA4 & false\\_responder & 1.1773234 & 4.959381 & 10 & 6.177450 &  0.000 &  66.001 &  8109.000 &  348.404 & C4\\\\\n",
       "\t Gide\\_Cell\\_2019-iP10-ar-889 & Gide\\_Cell\\_2019 & Gide 2019 - SKCM, PD-1 +/- CTLA4 & false\\_responder & 0.9842043 & 4.020911 &  9 & 7.563943 &  0.000 &   4.000 &  3046.000 &  322.244 & C1\\\\\n",
       "\\end{tabular}\n"
      ],
      "text/markdown": [
       "\n",
       "A tibble: 6 × 13\n",
       "\n",
       "| sample_name &lt;chr&gt; | dataset_name &lt;chr&gt; | dataset_display &lt;chr&gt; | Responder &lt;chr&gt; | BIOCARTA_CTLA4_V_Bindea_Th1_Cells &lt;dbl&gt; | Cytolytic_Score &lt;dbl&gt; | IMPRES &lt;dbl&gt; | Vincent_IPRES_NonResponder &lt;dbl&gt; | ADORA2A &lt;dbl&gt; | CTLA4 &lt;dbl&gt; | EDNRB &lt;dbl&gt; | TLR4 &lt;dbl&gt; | Immune_Subtype &lt;chr&gt; |\n",
       "|---|---|---|---|---|---|---|---|---|---|---|---|---|\n",
       "| Gide_Cell_2019-iP01-ar-888 | Gide_Cell_2019 | Gide 2019 - SKCM, PD-1 +/- CTLA4 | false_responder | 0.7557645 | 5.190401 |  7 | 7.417445 |  1.000 | 104.001 | 52215.000 | 1576.391 | C4 |\n",
       "| Gide_Cell_2019-iP02-ar-898 | Gide_Cell_2019 | Gide 2019 - SKCM, PD-1 +/- CTLA4 | false_responder | 1.0533033 | 6.647535 | 10 | 7.847118 | 17.559 | 130.000 |  5814.001 |  844.291 | C4 |\n",
       "| Gide_Cell_2019-iP06-ar-924 | Gide_Cell_2019 | Gide 2019 - SKCM, PD-1 +/- CTLA4 | false_responder | 1.2086946 | 7.500543 | 11 | 6.915053 |  2.000 | 105.000 | 67049.000 | 1481.833 | C3 |\n",
       "| Gide_Cell_2019-iP07-ar-562 | Gide_Cell_2019 | Gide 2019 - SKCM, PD-1 +/- CTLA4 | true_responder  | 1.1815589 | 7.603074 |  8 | 6.694380 |  0.000 | 186.000 | 11395.000 | 3867.965 | C4 |\n",
       "| Gide_Cell_2019-iP08-ar-926 | Gide_Cell_2019 | Gide 2019 - SKCM, PD-1 +/- CTLA4 | false_responder | 1.1773234 | 4.959381 | 10 | 6.177450 |  0.000 |  66.001 |  8109.000 |  348.404 | C4 |\n",
       "| Gide_Cell_2019-iP10-ar-889 | Gide_Cell_2019 | Gide 2019 - SKCM, PD-1 +/- CTLA4 | false_responder | 0.9842043 | 4.020911 |  9 | 7.563943 |  0.000 |   4.000 |  3046.000 |  322.244 | C1 |\n",
       "\n"
      ],
      "text/plain": [
       "  sample_name                dataset_name   dataset_display                 \n",
       "1 Gide_Cell_2019-iP01-ar-888 Gide_Cell_2019 Gide 2019 - SKCM, PD-1 +/- CTLA4\n",
       "2 Gide_Cell_2019-iP02-ar-898 Gide_Cell_2019 Gide 2019 - SKCM, PD-1 +/- CTLA4\n",
       "3 Gide_Cell_2019-iP06-ar-924 Gide_Cell_2019 Gide 2019 - SKCM, PD-1 +/- CTLA4\n",
       "4 Gide_Cell_2019-iP07-ar-562 Gide_Cell_2019 Gide 2019 - SKCM, PD-1 +/- CTLA4\n",
       "5 Gide_Cell_2019-iP08-ar-926 Gide_Cell_2019 Gide 2019 - SKCM, PD-1 +/- CTLA4\n",
       "6 Gide_Cell_2019-iP10-ar-889 Gide_Cell_2019 Gide 2019 - SKCM, PD-1 +/- CTLA4\n",
       "  Responder       BIOCARTA_CTLA4_V_Bindea_Th1_Cells Cytolytic_Score IMPRES\n",
       "1 false_responder 0.7557645                         5.190401         7    \n",
       "2 false_responder 1.0533033                         6.647535        10    \n",
       "3 false_responder 1.2086946                         7.500543        11    \n",
       "4 true_responder  1.1815589                         7.603074         8    \n",
       "5 false_responder 1.1773234                         4.959381        10    \n",
       "6 false_responder 0.9842043                         4.020911         9    \n",
       "  Vincent_IPRES_NonResponder ADORA2A CTLA4   EDNRB     TLR4     Immune_Subtype\n",
       "1 7.417445                    1.000  104.001 52215.000 1576.391 C4            \n",
       "2 7.847118                   17.559  130.000  5814.001  844.291 C4            \n",
       "3 6.915053                    2.000  105.000 67049.000 1481.833 C3            \n",
       "4 6.694380                    0.000  186.000 11395.000 3867.965 C4            \n",
       "5 6.177450                    0.000   66.001  8109.000  348.404 C4            \n",
       "6 7.563943                    0.000    4.000  3046.000  322.244 C1            "
      ]
     },
     "metadata": {},
     "output_type": "display_data"
    }
   ],
   "source": [
    "features <- iatlasGraphQLClient::query_feature_values(\n",
    "  cohorts = c(train, test), features = feature_predictors) %>% \n",
    "                  dplyr::select(sample, name = feature_name, display = feature_display, value = feature_value)\n",
    "\n",
    "genes <- iatlasGraphQLClient::query_gene_expression(\n",
    "  cohorts = c(train, test), entrez = na.omit(as.numeric(genes_entrez)))%>%\n",
    "                  dplyr::select(sample, name = hgnc, display = hgnc, value = rna_seq_expr)\n",
    "\n",
    "tags <- iatlasGraphQLClient::query_tag_samples_parents(\n",
    "  cohorts = c(train, test), parent_tags = group_predictors) %>% \n",
    "                  dplyr::select(sample = sample_name, name = parent_tag_name, display = tag_short_display, value = tag_name)\n",
    "\n",
    "#Now, we join the features, genes and tags with the dataframe that has all the samples collected pre treatment\n",
    "fmx_pre <-  samples_pre %>% \n",
    "  dplyr::inner_join(rbind(features, genes, tags),\n",
    "                    by = c(\"sample_name\" = \"sample\")) %>% \n",
    "  get_wide_df(., names_from_column = \"name\", \n",
    "              values_from_column = \"value\", \n",
    "              columns_to_keep = c(\"sample_name\", \"dataset_name\", \"dataset_display\", outcome_variable)) %>% \n",
    "  dplyr::mutate(dplyr::across(dplyr::all_of(feature_predictors), as.numeric)) %>% \n",
    "  dplyr::ungroup()\n",
    "head(fmx_pre)"
   ]
  },
  {
   "cell_type": "markdown",
   "metadata": {},
   "source": [
    "# 2. Normalizing datasets\n",
    "\n",
    "It is reasonable to assume that the dataset information is a huge confounding - let's inspect the numeric data to observe if that is happening. After that, we will proceed with normalization of the numerical features in the training dataset."
   ]
  },
  {
   "cell_type": "code",
   "execution_count": 16,
   "metadata": {},
   "outputs": [
    {
     "data": {
      "image/png": "[encoded data removed]",
      "text/plain": [
       "plot without title"
      ]
     },
     "metadata": {
      "image/png": {
       "height": 420,
       "width": 420
      }
     },
     "output_type": "display_data"
    }
   ],
   "source": [
    "#Let's store the variable names that need to be normalized\n",
    "variables_to_transf <- feature_predictors\n",
    "\n",
    "#Generate a matrix with numerical values in the training datasets\n",
    "train_data <- fmx_pre %>%\n",
    "  dplyr::filter(dataset_name %in% train) %>%\n",
    "  dplyr::select(dplyr::any_of(variables_to_transf)) %>% \n",
    "  dplyr::mutate(dplyr::across(dplyr::all_of(variables_to_transf), as.numeric))\n",
    "\n",
    "#a PCA plot, colored by dataset\n",
    "pca_train <- prcomp(train_data, scale. = TRUE)\n",
    "autoplot(pca_train, data = fmx_pre %>% filter(dataset_name %in% train), colour = \"dataset_name\")"
   ]
  },
  {
   "cell_type": "markdown",
   "metadata": {},
   "source": [
    "Now, let's normalize this data and see if we can reduce batch effects.\n",
    "\n",
    "## 2.1. Training data\n",
    "\n",
    "\n",
    "First we standardize the training set, and then we standardize the validation set based on the mean and standard deviation of the training set."
   ]
  },
  {
   "cell_type": "code",
   "execution_count": 17,
   "metadata": {
    "lines_to_next_cell": 2
   },
   "outputs": [
    {
     "data": {
      "text/html": [
       "<table class=\"dataframe\">\n",
       "<caption>A data.frame: 6 × 12</caption>\n",
       "<thead>\n",
       "\t<tr><th></th><th scope=col>sample_name</th><th scope=col>dataset_name</th><th scope=col>Responder</th><th scope=col>IMPRES</th><th scope=col>Vincent_IPRES_NonResponder</th><th scope=col>Cytolytic_Score</th><th scope=col>BIOCARTA_CTLA4_V_Bindea_Th1_Cells</th><th scope=col>ADORA2A</th><th scope=col>CTLA4</th><th scope=col>EDNRB</th><th scope=col>TLR4</th><th scope=col>Immune_Subtype</th></tr>\n",
       "\t<tr><th></th><th scope=col>&lt;chr&gt;</th><th scope=col>&lt;chr&gt;</th><th scope=col>&lt;chr&gt;</th><th scope=col>&lt;dbl&gt;</th><th scope=col>&lt;dbl&gt;</th><th scope=col>&lt;dbl&gt;</th><th scope=col>&lt;dbl&gt;</th><th scope=col>&lt;dbl&gt;</th><th scope=col>&lt;dbl&gt;</th><th scope=col>&lt;dbl&gt;</th><th scope=col>&lt;dbl&gt;</th><th scope=col>&lt;chr&gt;</th></tr>\n",
       "</thead>\n",
       "<tbody>\n",
       "\t<tr><th scope=row>1</th><td>Gide_Cell_2019-iP01-ar-888</td><td>Gide_Cell_2019</td><td>false_responder</td><td>-2.1926598</td><td> 0.1299035</td><td>-1.1527049</td><td>-2.5639541</td><td>-0.1467975</td><td>-0.3561842</td><td> 1.8664159</td><td>-0.4640567</td><td>C4</td></tr>\n",
       "\t<tr><th scope=row>2</th><td>Gide_Cell_2019-iP02-ar-898</td><td>Gide_Cell_2019</td><td>false_responder</td><td>-0.3457656</td><td> 0.8875015</td><td>-0.3494564</td><td>-0.5537269</td><td> 0.3994827</td><td>-0.3019728</td><td>-0.3895282</td><td>-0.8176223</td><td>C4</td></tr>\n",
       "\t<tr><th scope=row>3</th><td>Gide_Cell_2019-iP06-ar-924</td><td>Gide_Cell_2019</td><td>false_responder</td><td> 0.2698658</td><td>-0.7559113</td><td> 0.1207664</td><td> 0.4961255</td><td>-0.1138076</td><td>-0.3541011</td><td> 2.5876218</td><td>-0.5097232</td><td>C3</td></tr>\n",
       "\t<tr><th scope=row>4</th><td>Gide_Cell_2019-iP07-ar-562</td><td>Gide_Cell_2019</td><td>true_responder </td><td>-1.5770284</td><td>-1.1450006</td><td> 0.1772867</td><td> 0.3127914</td><td>-0.1797874</td><td>-0.1852054</td><td>-0.1181888</td><td> 0.6426525</td><td>C4</td></tr>\n",
       "\t<tr><th scope=row>5</th><td>Gide_Cell_2019-iP08-ar-926</td><td>Gide_Cell_2019</td><td>false_responder</td><td>-0.3457656</td><td>-2.0564492</td><td>-1.2800551</td><td> 0.2841756</td><td>-0.1797874</td><td>-0.4354192</td><td>-0.2779490</td><td>-1.0571096</td><td>C4</td></tr>\n",
       "\t<tr><th scope=row>6</th><td>Gide_Cell_2019-iP10-ar-889</td><td>Gide_Cell_2019</td><td>false_responder</td><td>-0.9613970</td><td> 0.3882091</td><td>-1.7973893</td><td>-1.0205727</td><td>-0.1797874</td><td>-0.5646994</td><td>-0.5241041</td><td>-1.0697435</td><td>C1</td></tr>\n",
       "</tbody>\n",
       "</table>\n"
      ],
      "text/latex": [
       "A data.frame: 6 × 12\n",
       "\\begin{tabular}{r|llllllllllll}\n",
       "  & sample\\_name & dataset\\_name & Responder & IMPRES & Vincent\\_IPRES\\_NonResponder & Cytolytic\\_Score & BIOCARTA\\_CTLA4\\_V\\_Bindea\\_Th1\\_Cells & ADORA2A & CTLA4 & EDNRB & TLR4 & Immune\\_Subtype\\\\\n",
       "  & <chr> & <chr> & <chr> & <dbl> & <dbl> & <dbl> & <dbl> & <dbl> & <dbl> & <dbl> & <dbl> & <chr>\\\\\n",
       "\\hline\n",
       "\t1 & Gide\\_Cell\\_2019-iP01-ar-888 & Gide\\_Cell\\_2019 & false\\_responder & -2.1926598 &  0.1299035 & -1.1527049 & -2.5639541 & -0.1467975 & -0.3561842 &  1.8664159 & -0.4640567 & C4\\\\\n",
       "\t2 & Gide\\_Cell\\_2019-iP02-ar-898 & Gide\\_Cell\\_2019 & false\\_responder & -0.3457656 &  0.8875015 & -0.3494564 & -0.5537269 &  0.3994827 & -0.3019728 & -0.3895282 & -0.8176223 & C4\\\\\n",
       "\t3 & Gide\\_Cell\\_2019-iP06-ar-924 & Gide\\_Cell\\_2019 & false\\_responder &  0.2698658 & -0.7559113 &  0.1207664 &  0.4961255 & -0.1138076 & -0.3541011 &  2.5876218 & -0.5097232 & C3\\\\\n",
       "\t4 & Gide\\_Cell\\_2019-iP07-ar-562 & Gide\\_Cell\\_2019 & true\\_responder  & -1.5770284 & -1.1450006 &  0.1772867 &  0.3127914 & -0.1797874 & -0.1852054 & -0.1181888 &  0.6426525 & C4\\\\\n",
       "\t5 & Gide\\_Cell\\_2019-iP08-ar-926 & Gide\\_Cell\\_2019 & false\\_responder & -0.3457656 & -2.0564492 & -1.2800551 &  0.2841756 & -0.1797874 & -0.4354192 & -0.2779490 & -1.0571096 & C4\\\\\n",
       "\t6 & Gide\\_Cell\\_2019-iP10-ar-889 & Gide\\_Cell\\_2019 & false\\_responder & -0.9613970 &  0.3882091 & -1.7973893 & -1.0205727 & -0.1797874 & -0.5646994 & -0.5241041 & -1.0697435 & C1\\\\\n",
       "\\end{tabular}\n"
      ],
      "text/markdown": [
       "\n",
       "A data.frame: 6 × 12\n",
       "\n",
       "| <!--/--> | sample_name &lt;chr&gt; | dataset_name &lt;chr&gt; | Responder &lt;chr&gt; | IMPRES &lt;dbl&gt; | Vincent_IPRES_NonResponder &lt;dbl&gt; | Cytolytic_Score &lt;dbl&gt; | BIOCARTA_CTLA4_V_Bindea_Th1_Cells &lt;dbl&gt; | ADORA2A &lt;dbl&gt; | CTLA4 &lt;dbl&gt; | EDNRB &lt;dbl&gt; | TLR4 &lt;dbl&gt; | Immune_Subtype &lt;chr&gt; |\n",
       "|---|---|---|---|---|---|---|---|---|---|---|---|---|\n",
       "| 1 | Gide_Cell_2019-iP01-ar-888 | Gide_Cell_2019 | false_responder | -2.1926598 |  0.1299035 | -1.1527049 | -2.5639541 | -0.1467975 | -0.3561842 |  1.8664159 | -0.4640567 | C4 |\n",
       "| 2 | Gide_Cell_2019-iP02-ar-898 | Gide_Cell_2019 | false_responder | -0.3457656 |  0.8875015 | -0.3494564 | -0.5537269 |  0.3994827 | -0.3019728 | -0.3895282 | -0.8176223 | C4 |\n",
       "| 3 | Gide_Cell_2019-iP06-ar-924 | Gide_Cell_2019 | false_responder |  0.2698658 | -0.7559113 |  0.1207664 |  0.4961255 | -0.1138076 | -0.3541011 |  2.5876218 | -0.5097232 | C3 |\n",
       "| 4 | Gide_Cell_2019-iP07-ar-562 | Gide_Cell_2019 | true_responder  | -1.5770284 | -1.1450006 |  0.1772867 |  0.3127914 | -0.1797874 | -0.1852054 | -0.1181888 |  0.6426525 | C4 |\n",
       "| 5 | Gide_Cell_2019-iP08-ar-926 | Gide_Cell_2019 | false_responder | -0.3457656 | -2.0564492 | -1.2800551 |  0.2841756 | -0.1797874 | -0.4354192 | -0.2779490 | -1.0571096 | C4 |\n",
       "| 6 | Gide_Cell_2019-iP10-ar-889 | Gide_Cell_2019 | false_responder | -0.9613970 |  0.3882091 | -1.7973893 | -1.0205727 | -0.1797874 | -0.5646994 | -0.5241041 | -1.0697435 | C1 |\n",
       "\n"
      ],
      "text/plain": [
       "  sample_name                dataset_name   Responder       IMPRES    \n",
       "1 Gide_Cell_2019-iP01-ar-888 Gide_Cell_2019 false_responder -2.1926598\n",
       "2 Gide_Cell_2019-iP02-ar-898 Gide_Cell_2019 false_responder -0.3457656\n",
       "3 Gide_Cell_2019-iP06-ar-924 Gide_Cell_2019 false_responder  0.2698658\n",
       "4 Gide_Cell_2019-iP07-ar-562 Gide_Cell_2019 true_responder  -1.5770284\n",
       "5 Gide_Cell_2019-iP08-ar-926 Gide_Cell_2019 false_responder -0.3457656\n",
       "6 Gide_Cell_2019-iP10-ar-889 Gide_Cell_2019 false_responder -0.9613970\n",
       "  Vincent_IPRES_NonResponder Cytolytic_Score BIOCARTA_CTLA4_V_Bindea_Th1_Cells\n",
       "1  0.1299035                 -1.1527049      -2.5639541                       \n",
       "2  0.8875015                 -0.3494564      -0.5537269                       \n",
       "3 -0.7559113                  0.1207664       0.4961255                       \n",
       "4 -1.1450006                  0.1772867       0.3127914                       \n",
       "5 -2.0564492                 -1.2800551       0.2841756                       \n",
       "6  0.3882091                 -1.7973893      -1.0205727                       \n",
       "  ADORA2A    CTLA4      EDNRB      TLR4       Immune_Subtype\n",
       "1 -0.1467975 -0.3561842  1.8664159 -0.4640567 C4            \n",
       "2  0.3994827 -0.3019728 -0.3895282 -0.8176223 C4            \n",
       "3 -0.1138076 -0.3541011  2.5876218 -0.5097232 C3            \n",
       "4 -0.1797874 -0.1852054 -0.1181888  0.6426525 C4            \n",
       "5 -0.1797874 -0.4354192 -0.2779490 -1.0571096 C4            \n",
       "6 -0.1797874 -0.5646994 -0.5241041 -1.0697435 C1            "
      ]
     },
     "metadata": {},
     "output_type": "display_data"
    }
   ],
   "source": [
    "#Standardize the training set, on the dataset level\n",
    "#before we proceed, let's write a function to normalize the data, \n",
    "#considering whether the data will be used for training or testing\n",
    "norm_datasets <- function(x, test = FALSE, mean_train = NULL, sd_train = NULL){\n",
    "  x <- as.numeric(x)\n",
    "  if(test == FALSE){\n",
    "    if(min(x) == 0 & max(x) == 0) return(NA_integer_) #flag in case all values are 0\n",
    "    else (x - mean(x))/sd(x)\n",
    "  }else{ #if we are normalizing validation data, use the average and sd from the training set\n",
    "    (x - mean_train)/sd_train\n",
    "  }\n",
    "}\n",
    "\n",
    "\n",
    "fmx_train <- data.frame(fmx_pre %>%\n",
    "  dplyr::filter(dataset_name %in% train) %>%\n",
    "  dplyr::group_by(dataset_name) %>% #samples will be normalized using the average and sd from the their dataset \n",
    "  dplyr::mutate(dplyr::across(dplyr::all_of(variables_to_transf), norm_datasets)) %>% #\n",
    "  dplyr::ungroup() %>%\n",
    "  dplyr::select(sample_name, \"dataset_name\", dplyr::all_of(c(outcome_variable, feature_predictors, group_predictors)))\n",
    "  )\n",
    "#in case a dataset has all gene measurements = 0, exclude it\n",
    "fmx_train <- fmx_train[, colSums(is.na(fmx_train)) == 0] \n",
    "\n",
    "head(fmx_train)"
   ]
  },
  {
   "cell_type": "markdown",
   "metadata": {},
   "source": [
    "Now that we have a normalized training dataset, let's take a look of heatmaps of the data."
   ]
  },
  {
   "cell_type": "code",
   "execution_count": 18,
   "metadata": {
    "lines_to_next_cell": 2
   },
   "outputs": [
    {
     "data": {
      "image/png": "[encoded data removed]",
      "text/plain": [
       "plot without title"
      ]
     },
     "metadata": {
      "image/png": {
       "height": 420,
       "width": 420
      }
     },
     "output_type": "display_data"
    }
   ],
   "source": [
    "#Generate a matrix with numerical values in the normalized training datasets\n",
    "norm_train_data <- fmx_train %>%\n",
    "  dplyr::filter(dataset_name %in% train) %>%\n",
    "  dplyr::select(dplyr::any_of(variables_to_transf)) %>% \n",
    "  dplyr::mutate(across(dplyr::all_of(variables_to_transf), as.numeric))\n",
    "\n",
    "#a PCA plot, colored by dataset\n",
    "pca_train <- prcomp(norm_train_data, scale. = TRUE)\n",
    "autoplot(pca_train, data = fmx_train %>% filter(dataset_name %in% train), colour = \"dataset_name\")"
   ]
  },
  {
   "cell_type": "markdown",
   "metadata": {},
   "source": [
    "We can see that the normalization reduced potential batch effects, so we are going to use the fmx_train dataframe for training. \n",
    "\n",
    "## 2.2. Testing data\n",
    "\n",
    "Now that we processed the training dataset, we can adjust the validation dataset. We will use the mean and standard deviation of the training data to normalize the validation data."
   ]
  },
  {
   "cell_type": "code",
   "execution_count": 19,
   "metadata": {
    "lines_to_next_cell": 0
   },
   "outputs": [],
   "source": [
    "#first: computing the mean and sd for gene expression data in the training dataset\n",
    "train_mean <- colMeans((fmx_pre %>% filter(dataset_name %in% train))[,variables_to_transf])\n",
    "train_sd <- apply((fmx_pre %>% filter(dataset_name %in% train))[,variables_to_transf], 2, sd)\n",
    "\n",
    "fmx_test <- data.frame(fmx_pre %>%\n",
    "  filter(dataset_name %in% test) %>%\n",
    "  mutate(across(all_of(variables_to_transf), \n",
    "                ~norm_datasets(.x, \n",
    "                             test = TRUE, \n",
    "                             mean_train = train_mean[cur_column()], \n",
    "                             sd_train = train_sd[cur_column()]))) %>%\n",
    "  select(sample_name, Responder, dataset_name, all_of(c(feature_predictors, group_predictors)))\n",
    "  )"
   ]
  },
  {
   "cell_type": "markdown",
   "metadata": {},
   "source": [
    "# 3. XGBoost\n",
    "\n",
    "## 3.1. Training\n",
    "\n",
    "We will run the `train` function from the `caret` R package:"
   ]
  },
  {
   "cell_type": "code",
   "execution_count": 20,
   "metadata": {},
   "outputs": [
    {
     "ename": "ERROR",
     "evalue": "Error: Required packages are missing: xgboost\n",
     "output_type": "error",
     "traceback": [
      "Error: Required packages are missing: xgboost\nTraceback:\n",
      "1. train(parameters, data = fmx_train %>% select(!c(sample_name, \n .     dataset_name)), method = \"xgbTree\", trControl = trainControl(index = cvIndex, \n .     \"cv\", number = n_cv), tuneLength = 5)",
      "2. train.formula(parameters, data = fmx_train %>% select(!c(sample_name, \n .     dataset_name)), method = \"xgbTree\", trControl = trainControl(index = cvIndex, \n .     \"cv\", number = n_cv), tuneLength = 5)",
      "3. train(x, y, weights = w, ...)",
      "4. train.default(x, y, weights = w, ...)",
      "5. checkInstall(models$library)",
      "6. stop(\"Required packages are missing: \", pkList, call. = FALSE)"
     ]
    }
   ],
   "source": [
    "set.seed(42)\n",
    "# the following will split the k-folds selected in a way that each fold has a similar proportion \n",
    "#of responders as in the complete training dataset\n",
    "cvIndex <- caret::createFolds(y = factor(fmx_train[[outcome_variable]]), k = n_cv, returnTrain = TRUE)\n",
    "\n",
    "#formatting the formula for the training function\n",
    "parameters <- as.formula(paste(outcome_variable, \"~ \", paste0(sprintf(\"`%s`\", c(feature_predictors, group_predictors)), collapse = \"+\")))\n",
    "#training\n",
    "en_model <- train(\n",
    "  parameters, data = fmx_train %>% select(!c(sample_name, dataset_name)), method = \"xgbTree\",\n",
    "  trControl = trainControl(index = cvIndex, \"cv\", number = n_cv),\n",
    "  tuneLength = 5\n",
    ")"
   ]
  },
  {
   "cell_type": "markdown",
   "metadata": {},
   "source": [
    "Elastic net regression involves the use of two parameters, alpha and lambda, and the training of the model involves testing different values for these parameters. We will use the model that had the best accuracy performance (you might have a different idea on how to select the best values for these parameters, so make any adjustments in this step that you find necessary).  "
   ]
  },
  {
   "cell_type": "code",
   "execution_count": null,
   "metadata": {},
   "outputs": [],
   "source": [
    "# What is the accuracy of the model with the best parameter tune?\n",
    "en_model$results[rownames(en_model$bestTune),]"
   ]
  },
  {
   "cell_type": "markdown",
   "metadata": {},
   "source": [
    "If you are happy with this accuracy, let's proceed and take a closer look at the coefficients of the model. (If you're not, make any adjustments that you think might be useful)."
   ]
  },
  {
   "cell_type": "code",
   "execution_count": null,
   "metadata": {},
   "outputs": [],
   "source": [
    "var_importance <- caret::varImp(en_model)\n",
    "var_importance"
   ]
  },
  {
   "cell_type": "markdown",
   "metadata": {},
   "source": [
    "A plot with the coefficients might be more useful to get a better sense of the coefficients."
   ]
  },
  {
   "cell_type": "code",
   "execution_count": null,
   "metadata": {
    "scrolled": true
   },
   "outputs": [],
   "source": [
    "ggplot(var_importance, aes(x, y = reorder(y, x)))+\n",
    "  geom_bar(stat = 'identity')"
   ]
  },
  {
   "cell_type": "markdown",
   "metadata": {},
   "source": [
    "## 3.2. Testing\n",
    "\n",
    "We set aside two datasets for testing the selected model. Let's take a look at the predicted response in these datasets using the model developed in the previous section:"
   ]
  },
  {
   "cell_type": "code",
   "execution_count": null,
   "metadata": {},
   "outputs": [],
   "source": [
    "fmx_pred <- purrr::map(.x = test, function(x){\n",
    "  df <- fmx_test %>% filter(dataset_name == x)\n",
    "  df$prediction <- predict(en_model, newdata = df)\n",
    "  df\n",
    "})\n",
    "names(fmx_pred) <- test\n",
    "  \n",
    "lapply(fmx_pred, function(x) caret::confusionMatrix(x$prediction, as.factor(x[[outcome_variable]]), positive = outcome_annotation[2]))"
   ]
  },
  {
   "cell_type": "code",
   "execution_count": null,
   "metadata": {},
   "outputs": [],
   "source": [
    "#Let's take a look at the ROC curve\n",
    "purrr::map(fmx_pred, function(x){\n",
    "  rplot <- pROC::roc(\n",
    "  response = factor(x[[outcome_variable]],  ordered = TRUE),\n",
    "  predictor = factor(x$prediction, ordered = TRUE),\n",
    "  levels = outcome_annotation,\n",
    "  quiet = TRUE,\n",
    "  auc = TRUE\n",
    "  )\n",
    "  plot(rplot, print.auc = TRUE, main = unique(x$dataset_name))\n",
    "})"
   ]
  },
  {
   "cell_type": "markdown",
   "metadata": {},
   "source": [
    "### 3.2.1. KM Plots \n",
    "\n",
    "Lastly, let's use the predicted response as a criteria in a KM plot, with Overall Survival (OS) as endpoint."
   ]
  },
  {
   "cell_type": "code",
   "execution_count": null,
   "metadata": {},
   "outputs": [],
   "source": [
    "purrr::map(.x = fmx_pred, function(x){\n",
    "  #get OS data\n",
    "  km_df <- x %>% \n",
    "            inner_join(iatlasGraphQLClient::query_feature_values(features = c(\"OS\", \"OS_time\")), \n",
    "                       by = c(\"sample_name\" = \"sample\"))%>% \n",
    "            get_wide_df(., \n",
    "                        names_from_column = \"feature_name\", \n",
    "                        values_from_column = \"feature_value\", \n",
    "                        columns_to_keep = c(\"sample_name\", \"dataset_name\", \"prediction\")) %>% \n",
    "            mutate(across(all_of(c(\"OS\", \"OS_time\")), as.numeric))\n",
    "\n",
    " #Format data \n",
    "  survival_df <- build_survival_df(km_df, var_column = \"prediction\", time_column = \"OS_time\", \n",
    "                                   status_column = \"OS\", div_method = \"group\")\n",
    "    \n",
    "  #Build and plot survival curves\n",
    "  fit <- survival::survfit(survival::Surv(time, status) ~ variable, data = survival_df)\n",
    "  survminer::ggsurvplot(\n",
    "        fit,\n",
    "        data = survival_df,\n",
    "        conf.int = TRUE,\n",
    "        risk.table = TRUE,\n",
    "        title = unique(x$dataset_name),\n",
    "        pval = TRUE\n",
    "  )\n",
    "})"
   ]
  },
  {
   "cell_type": "markdown",
   "metadata": {},
   "source": [
    "### We would love to hear from you!\n",
    "\n",
    "That concludes the notebook demonstrating how you can build a XGBoost model using the ICI data in the iAtlas database.\n",
    "\n",
    "notebook repo: https://github.com/CRI-iAtlas/iatlas-notebooks\n",
    "\n",
    "landing page:  https://www.cri-iatlas.org/\n",
    "\n",
    "portal: https://isb-cgc.shinyapps.io/shiny-iatlas/\n",
    "\n",
    "email:  support@cri-iatlas.org"
   ]
  },
  {
   "cell_type": "markdown",
   "metadata": {},
   "source": [
    "\n"
   ]
  }
 ],
 "metadata": {
  "jupytext": {
   "cell_metadata_filter": "-all",
   "notebook_metadata_filter": "-all",
   "text_representation": {
    "extension": ".Rmd",
    "format_name": "rmarkdown"
   }
  },
  "kernelspec": {
   "display_name": "R",
   "language": "R",
   "name": "ir"
  },
  "language_info": {
   "codemirror_mode": "r",
   "file_extension": ".r",
   "mimetype": "text/x-r-source",
   "name": "R",
   "pygments_lexer": "r",
   "version": "4.2.0"
  }
 },
 "nbformat": 4,
 "nbformat_minor": 4
}
