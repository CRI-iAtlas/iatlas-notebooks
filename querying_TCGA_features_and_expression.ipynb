{
 "cells": [
  {
   "cell_type": "markdown",
   "metadata": {},
   "source": [
    "The data hosted by iAtlas is available through an API.\n",
    "\n"
   ]
  },
  {
   "cell_type": "code",
   "execution_count": null,
   "metadata": {},
   "outputs": [],
   "source": [
    "# git clone the notebook repo to get this file #\n",
    "source('https://raw.githubusercontent.com/CRI-iAtlas/iatlas-notebooks/general_db_query/functions/notebook_functions.R')\n",
    "# or if you have the iatlas notebooks repo locally, you can source('functions/notebook_functions.R')\n",
    "library_setup()"
   ]
  },
  {
   "cell_type": "markdown",
   "metadata": {},
   "source": [
    "Exploring the datasets and features\n",
    "\n",
    "The iAtlas data is stored in a database that can be queried with functions from the\n",
    "iatlasGraphQLClient package. We have clinical data, immune features, scores of\n",
    "predictors of response to immunotherapy, and quantile normalized gene expression.\n",
    "\n",
    "You can get more information in iAtlas on immune features, and our annotation of\n",
    "immunomodulators genes. You can access more information about these datasets in iAtlas.\n",
    "\n",
    "As a first step, let’s take a look at the available datasets.\n"
   ]
  },
  {
   "cell_type": "code",
   "execution_count": null,
   "metadata": {},
   "outputs": [],
   "source": [
    "# datasets that we have in the iAtlas database\n",
    "datasets <- iatlasGraphQLClient::query_datasets()\n",
    "datasets\n"
   ]
  },
  {
   "cell_type": "markdown",
   "metadata": {},
   "source": [
    "Let's count the datasets by type.\n",
    "\n"
   ]
  },
  {
   "cell_type": "code",
   "execution_count": null,
   "metadata": {},
   "outputs": [],
   "source": [
    "table(datasets$type)\n",
    "\n"
   ]
  },
  {
   "cell_type": "markdown",
   "metadata": {},
   "source": [
    "Currently there are three types: analysis, ici, and other. Analysis data sets include TCGA and PCAWG data while ici\n",
    "datasets relate to immune checkpoint inhibitor studies. Currently, there is only one 'other' type:\n",
    "the Genotype-Tissue Expression (GTEx) project which is a resource aimed at healthy normal tissue expression.\n",
    "\n",
    "Data can be tagged with different descriptive terms which help in finding appropriate data given a particular interest.\n",
    "\n",
    "Suppose, we're interested in the analysis data sets.\n"
   ]
  },
  {
   "cell_type": "code",
   "execution_count": null,
   "metadata": {},
   "outputs": [],
   "source": [
    "tcga_studies <- iatlasGraphQLClient::query_tags_with_parent_tags(parent_tags = \"TCGA_Study\")\n",
    "tcga_studies$tag_name\n"
   ]
  },
  {
   "cell_type": "markdown",
   "metadata": {},
   "source": [
    "From that list, we might be interested in a particular dataset, for instance \n",
    "Kidney Chromophobe which is shortened to KICH.\n",
    "\n",
    "In order to get the sample IDs associated with that dataset, we use the \n",
    "query_dataset_samples function.\n"
   ]
  },
  {
   "cell_type": "code",
   "execution_count": null,
   "metadata": {},
   "outputs": [],
   "source": [
    "kich_samples <- iatlasGraphQLClient::query_tag_samples(parent_tags = \"TCGA_Study\",tags= c(tag_name = \"KICH\"))\n",
    "\n",
    "kich_sampleids <- kich_samples$sample_name\n",
    "\n",
    "length(kich_sampleids)\n",
    "\n",
    "head(kich_sampleids)\n"
   ]
  },
  {
   "cell_type": "markdown",
   "metadata": {},
   "source": [
    "With that query, we see the dataset contains 65 samples.\n",
    "\n",
    "To get a list of available features, we can visit the web portal, or make a query for them.\n"
   ]
  },
  {
   "cell_type": "code",
   "execution_count": null,
   "metadata": {},
   "outputs": [],
   "source": [
    "# running this function with no parameters will return the entire table.\n",
    "available_features <- iatlasGraphQLClient::query_features(samples=kich_sampleids)\n",
    "\n",
    "available_features\n"
   ]
  },
  {
   "cell_type": "markdown",
   "metadata": {},
   "source": [
    "The features table includes:\n",
    "  \n",
    "  'name' is the computer-readable name.\n",
    "  'display' is the human-readable name.\n",
    "  'class' is the type of feature, Clinical, Immune cell proportions etc.\n",
    "  'order' \n",
    "  'unit' describes the form of the feature values, Fractions, Counts etc.\n",
    "  'method_tag' indicates what method was used to generate the values.\n",
    "\n",
    "\n",
    "In order to access the feature values, we'll use the following query-function.\n",
    "To get a table of clinical values, we'll use the 'feature_classes' parameter.\n"
   ]
  },
  {
   "cell_type": "code",
   "execution_count": null,
   "metadata": {},
   "outputs": [],
   "source": [
    "epic_cafs <- iatlasGraphQLClient::query_feature_values(samples = dataset_samples$sample_name, features = 'EPIC_CAFs')\n",
    "\n"
   ]
  },
  {
   "cell_type": "markdown",
   "metadata": {},
   "source": [
    "OK, so we've collected the \"EPIC CAFs\" (display name) of class \"EPIC\", a method\n",
    "for estimating cell content from bulk samples.\n",
    "\n",
    "To learn more about these features, the portal contains a Data Description,\n",
    "located at the bottom of the right hand side.\n",
    "\n",
    "Let's compare these scores to gene expression. To start with, let's look at the list of immunomodulator genes,\n",
    "and genes by gene set name.\n"
   ]
  },
  {
   "cell_type": "code",
   "execution_count": null,
   "metadata": {},
   "outputs": [],
   "source": [
    "immunomodulators <- iatlasGraphQLClient::query_immunomodulators()\n",
    "head(immunomodulators)\n"
   ]
  },
  {
   "cell_type": "markdown",
   "metadata": {},
   "source": [
    "\n"
   ]
  },
  {
   "cell_type": "code",
   "execution_count": null,
   "metadata": {},
   "outputs": [],
   "source": [
    "gene_sets <- iatlasGraphQLClient::query_genes_by_gene_types()\n",
    "\n",
    "head(table(gene_sets$gene_type_name)) # the list is long!\n"
   ]
  },
  {
   "cell_type": "markdown",
   "metadata": {},
   "source": [
    "Now to access some of the gene expression values for analysis.\n",
    "\n"
   ]
  },
  {
   "cell_type": "code",
   "execution_count": null,
   "metadata": {},
   "outputs": [],
   "source": [
    "gene_vals <- iatlasGraphQLClient::query_gene_expression(samples = kich_sampleids, entrez = immunomodulators$entrez[1:5])\n",
    "\n"
   ]
  },
  {
   "cell_type": "markdown",
   "metadata": {},
   "source": [
    "The results are long tables, in order to format them to a wide table, that could \n",
    "be used to join to other data values, we can use the tidyverse \n"
   ]
  },
  {
   "cell_type": "code",
   "execution_count": null,
   "metadata": {},
   "outputs": [],
   "source": [
    "gene_vals_wide <- tidyr::pivot_wider(data=gene_vals, id_cols = 'sample', names_from = 'hgnc', values_from = 'rna_seq_expr', )\n",
    "\n"
   ]
  },
  {
   "cell_type": "markdown",
   "metadata": {},
   "source": [
    "We can use dplyr to join these tables by their sample IDs.\n",
    "\n"
   ]
  },
  {
   "cell_type": "code",
   "execution_count": null,
   "metadata": {},
   "outputs": [],
   "source": [
    "df <- dplyr::inner_join(epic_cafs, gene_vals_wide)\n",
    "\n",
    "head(df)\n"
   ]
  },
  {
   "cell_type": "markdown",
   "metadata": {},
   "source": [
    "Now we can make plots using the data table.\n",
    "\n"
   ]
  },
  {
   "cell_type": "code",
   "execution_count": null,
   "metadata": {},
   "outputs": [],
   "source": [
    "hist(df$ARG1, main = \"ARG1 Expression in KICH\", xlab = \"Expression level\")\n",
    "\n"
   ]
  },
  {
   "cell_type": "markdown",
   "metadata": {},
   "source": [
    "And we can fit models associating the feature values to gene expression.\n",
    "\n"
   ]
  },
  {
   "cell_type": "code",
   "execution_count": null,
   "metadata": {},
   "outputs": [],
   "source": [
    "m1 <- lm(feature_value ~ ADORA2A + ARG1 + BTN3A2 + BTN3A1 + BTLA, data=df)\n",
    "\n",
    "m1\n"
   ]
  },
  {
   "cell_type": "markdown",
   "metadata": {},
   "source": [
    "We can plot the model diagnostics.\n",
    "\n"
   ]
  },
  {
   "cell_type": "code",
   "execution_count": null,
   "metadata": {},
   "outputs": [],
   "source": [
    "plot(m1)\n",
    "\n"
   ]
  },
  {
   "cell_type": "markdown",
   "metadata": {},
   "source": [
    "\n",
    "\n"
   ]
  },
  {
   "cell_type": "code",
   "execution_count": null,
   "metadata": {},
   "outputs": [],
   "source": [
    "summary(m1)\n",
    "\n"
   ]
  },
  {
   "cell_type": "markdown",
   "metadata": {},
   "source": [
    "And we can plot (potentially) interesting variable relations.\n",
    "\n"
   ]
  },
  {
   "cell_type": "code",
   "execution_count": null,
   "metadata": {},
   "outputs": [],
   "source": [
    "plot(x=df$ARG1, y=df$feature_value, xlab=\"ARG1\", ylab=\"EPIC CAFs\")\n",
    "\n"
   ]
  },
  {
   "cell_type": "markdown",
   "metadata": {},
   "source": [
    "Please see https://cri-iatlas.org and let us know if we can help!\n",
    "\n"
   ]
  }
 ],
 "metadata": {
  "anaconda-cloud": "",
  "kernelspec": {
   "display_name": "Python 3 (ipykernel)",
   "language": "python",
   "name": "python3"
  },
  "language_info": {
   "codemirror_mode": {
    "name": "ipython",
    "version": 3
   },
   "file_extension": ".py",
   "mimetype": "text/x-python",
   "name": "python",
   "nbconvert_exporter": "python",
   "pygments_lexer": "ipython3",
   "version": "3.10.6"
  }
 },
 "nbformat": 4,
 "nbformat_minor": 4
}
