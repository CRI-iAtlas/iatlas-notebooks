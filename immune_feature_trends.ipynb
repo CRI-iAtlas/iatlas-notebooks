{
 "cells": [
  {
   "cell_type": "markdown",
   "metadata": {},
   "source": [
    "# CRI iAtlas notebooks\n",
    "\n",
    "## Working with immune feature trends.\n",
    "\n",
    "    Repo: https://github.com/CRI-iAtlas/iatlas-notebooks/ \n",
    "    Notebook: immune_feature_trends.ipynb \n",
    "    Date: August 16, 2021 \n",
    "    Author: David L Gibbs "
   ]
  },
  {
   "cell_type": "markdown",
   "metadata": {},
   "source": [
    "# Immune Feature Trends Module\n",
    "\n",
    "This is an [R Markdown](http://rmarkdown.rstudio.com) Notebook. When you execute code within the notebook, the results appear beneath the code. \n",
    "Try executing this chunk by clicking the *Run* button within the chunk or by placing your cursor inside it and pressing *Ctrl+Shift+Enter*. \n",
    "First we are going to install the iAtlas-modules package to gain access to plotting functions."
   ]
  },
  {
   "cell_type": "code",
   "execution_count": null,
   "metadata": {},
   "outputs": [],
   "source": [
    "packages = c(\"magrittr\", \"wrapr\", \"dplyr\", \"feather\", \"tidyr\")\n",
    "\n",
    "sapply(packages, function(x) {\n",
    "  if (!require(x,character.only = TRUE))\n",
    "    install.packages(x)\n",
    "    library(x,character.only = TRUE)\n",
    "})\n",
    "\n",
    "# and our iatlas package from github\n",
    "if (!require(iatlas.modules)) {\n",
    "  devtools::install_github(\"CRI-iAtlas/iatlas.modules\")\n",
    "  library(iatlas.modules)\n",
    "}\n"
   ]
  },
  {
   "cell_type": "markdown",
   "metadata": {},
   "source": [
    "We have a collection of helper functions in the 'notebook_functions.R' file.\n",
    "\n",
    "The main plotting function we're using here is called 'plotly_violin'.\n",
    "You can get help with '?plotly_bar'.\n",
    "\n",
    "Here we'll use source to bring them in."
   ]
  },
  {
   "cell_type": "code",
   "execution_count": null,
   "metadata": {
    "lines_to_next_cell": 2
   },
   "outputs": [],
   "source": [
    "library(iatlas.modules)\n",
    "source('functions/notebook_functions.R')"
   ]
  },
  {
   "cell_type": "markdown",
   "metadata": {},
   "source": [
    "# Distributions\n",
    "\n",
    "# Tissue compartment fractions barplot\n",
    "\n",
    "In this case we'll assume you have some immune features computed\n",
    "for each sample.\n",
    "\n",
    "We'll need a data.frame with the following columns in order:\n",
    "\n",
    "Group         ## (could be anything, but immune subytpe is a good choice.)\n",
    "fraction_type ## c(leukocyte_fraction, Tumor_fraction, Stromal_fraction)\n",
    "fraction      ## a numeric value.\n",
    "\n",
    "Here's a example simulation."
   ]
  },
  {
   "cell_type": "code",
   "execution_count": null,
   "metadata": {
    "lines_to_next_cell": 2
   },
   "outputs": [],
   "source": [
    "\n",
    "df <- data.frame(\n",
    "  GROUP = sample(x=c('A1','A2','A3','A4','A5','A6'), size=100, replace=T),\n",
    "  fraction_type = sample( c('leukocyte_fraction', 'Wound Healing'), size=100, replace=T),\n",
    "  fraction=rnorm(n=100, mean = 0.5, sd = 0.2)\n",
    ")\n",
    "\n",
    "head(df)"
   ]
  },
  {
   "cell_type": "markdown",
   "metadata": {},
   "source": [
    "The violin function takes a very specific format, so we'll transform the \n",
    "data.frame from above using the 'build_cellcontent_barplot_df2' function.\n",
    "It essentially gives it a tidy format with generic column names.\n",
    "\n",
    "# How to use the function\n",
    "\n",
    "Parameters available:\n",
    "\n",
    "  - y_col:  what do you want to plot?\n",
    "  \n",
    "  - scale_func_choice: the values can be transformed by log2, log2+1, log10, log10+1, or None (default)\n",
    "  \n",
    "  - reorder_func_choice: reorders the x-axis depending on the: mean, median, max, min, or None (default)\n",
    "  \n",
    "  - fill_colors\n",
    "  \n",
    "  - points\n",
    "  \n",
    "  - showlegend: T or F shows the legend (default is on)\n",
    "\n",
    "  - plot labels: ylab, xlab, title\n",
    "\n"
   ]
  },
  {
   "cell_type": "code",
   "execution_count": null,
   "metadata": {
    "lines_to_next_cell": 0
   },
   "outputs": [],
   "source": [
    "\n",
    "\n",
    "  notebook_violinplot(\n",
    "    data = df, \n",
    "    y_col = 'Wound Healing',        # plot this feature\n",
    "    scale_func_choice = 'Log2 + 1', # how to scale the feature\n",
    "    reorder_func_choice = \"Mean\",   # how to reorder the feature\n",
    "    fill_colors = NULL,             # color scheme\n",
    "    points = F,                     # show outliers\n",
    "    showlegend = T,  # T or F       # show legend\n",
    "    ylab = 'Wound Healing',             \n",
    "    xlab = 'Immune Subtype',\n",
    "    title = 'Leukocyte Fraction by Immune Subtype')\n"
   ]
  },
  {
   "cell_type": "markdown",
   "metadata": {},
   "source": [
    "\n"
   ]
  },
  {
   "cell_type": "code",
   "execution_count": null,
   "metadata": {
    "lines_to_next_cell": 2
   },
   "outputs": [],
   "source": [
    "\n",
    "  notebook_boxplot(\n",
    "    data = df, \n",
    "    y_col = 'leukocyte_fraction',  # filter to this feature\n",
    "    scale_func_choice = 'None', # how to scale the feature\n",
    "    reorder_func_choice = \"Mean\",   # how to reorder the feature\n",
    "    fill_colors = NULL,\n",
    "    ylab = 'Leukocyte Fraction', \n",
    "    xlab = 'Immune Subtype',\n",
    "    title = 'Leukocyte Fraction by Immune Subtype')\n"
   ]
  },
  {
   "cell_type": "markdown",
   "metadata": {},
   "source": [
    "# Plot your results with iAtlas results.\n"
   ]
  },
  {
   "cell_type": "markdown",
   "metadata": {},
   "source": [
    "Let us then create a new data.frame that can be merged with the simulated data above.\n",
    "Since we're grouping the barplots, we want to make sure the iatlas groups have\n",
    "different names compared to your groups... even if they represent fundementaly\n",
    "the same thing (i.e. C2)."
   ]
  },
  {
   "cell_type": "code",
   "execution_count": null,
   "metadata": {
    "lines_to_next_cell": 0
   },
   "outputs": [],
   "source": [
    "\n",
    "iatlas_df <- get_iatlas_feature(group='Subtype_Immune_Model_Based', \n",
    "                                group_filter=c('C1', 'C2'),\n",
    "                                group_mod = 'iAtlas_',\n",
    "                                feature_name = 'leukocyte_fraction',\n",
    "                                fraction_format = T)\n",
    "\n",
    "\n",
    "# and we can merge in our data from above\n",
    "new_df <- rbind(df, iatlas_df)\n",
    "\n",
    "new_df"
   ]
  },
  {
   "cell_type": "markdown",
   "metadata": {},
   "source": [
    "\n"
   ]
  },
  {
   "cell_type": "code",
   "execution_count": null,
   "metadata": {
    "lines_to_next_cell": 0
   },
   "outputs": [],
   "source": [
    "\n",
    "  notebook_boxplot(\n",
    "    new_df, \n",
    "    y_col = 'leukocyte_fraction',  # filter to this feature\n",
    "    scale_func_choice = 'None', # how to scale the feature\n",
    "    reorder_func_choice = \"Mean\",   # how to reorder the feature\n",
    "    fill_colors = NULL,\n",
    "    ylab = 'Leukocyte Fraction', \n",
    "    xlab = 'Groups',\n",
    "    title = 'Leukocyte Fraction by Immune Subtype')\n"
   ]
  },
  {
   "cell_type": "markdown",
   "metadata": {},
   "source": []
  },
  {
   "cell_type": "markdown",
   "metadata": {},
   "source": [
    "Or by study:"
   ]
  },
  {
   "cell_type": "code",
   "execution_count": null,
   "metadata": {
    "lines_to_next_cell": 2
   },
   "outputs": [],
   "source": [
    "\n",
    "iatlas_df <- get_iatlas_feature(group='Study', \n",
    "                                group_filter=c('KICH', 'KIRC'),\n",
    "                                group_mod = 'iAtlas_',\n",
    "                                feature_name = 'leukocyte_fraction',\n",
    "                                fraction_format = T)\n",
    "\n",
    "# and we can merge in our data from above\n",
    "new_df <- rbind(df, iatlas_df)\n",
    "\n",
    "notebook_boxplot(\n",
    "    new_df, \n",
    "    y_col = 'leukocyte_fraction',  # filter to this feature\n",
    "    scale_func_choice = 'None', # how to scale the feature\n",
    "    reorder_func_choice = \"Mean\",   # how to reorder the feature\n",
    "    fill_colors = NULL,\n",
    "    ylab = 'Leukocyte Fraction', \n",
    "    xlab = 'Groups',\n",
    "    title = 'Leukocyte Fraction by Immune Subtype')\n"
   ]
  },
  {
   "cell_type": "markdown",
   "metadata": {},
   "source": [
    "# Correlation Heatmaps"
   ]
  },
  {
   "cell_type": "markdown",
   "metadata": {},
   "source": [
    "In this case we'll assume you have some immune features computed for each sample\n",
    "with TCGA sample IDs."
   ]
  },
  {
   "cell_type": "markdown",
   "metadata": {},
   "source": [
    "What we want:\n",
    "have some new data that's calculated from TCGA\n",
    "\n",
    "Want to correlate that with a set of vars.\n",
    "and plot"
   ]
  },
  {
   "cell_type": "code",
   "execution_count": null,
   "metadata": {
    "lines_to_next_cell": 2
   },
   "outputs": [],
   "source": [
    "# get a list of feature sets\n",
    "list_iatlas_feature_sets()\n"
   ]
  },
  {
   "cell_type": "code",
   "execution_count": null,
   "metadata": {
    "lines_to_next_cell": 0
   },
   "outputs": [],
   "source": [
    "\n",
    "# This will be the Response variable that will be correlated with a set of iatlas features\n",
    "response_df <- get_iatlas_feature(group='Study', \n",
    "                                group_filter=c('KICH', 'KIRC'),\n",
    "                                group_mod = '',\n",
    "                                feature_name = 'leukocyte_fraction',\n",
    "                                return_barcodes = T)\n",
    "\n",
    "# then we need a table of Variables\n",
    "var_df <- get_iatlas_feature_set(group='Study', \n",
    "                                group_filter=c('KICH', 'KIRC'),\n",
    "                                group_mod = '',\n",
    "                                feature_set = 'T Helper Cell Score', # feature set name # list_iatlas_feature_sets()\n",
    "                                return_barcodes = T,\n",
    "                                format = 'wide')\n",
    "\n",
    "# next we need to compute the correlations between them\n",
    "# Need to have reponse_df have GROUP first column\n",
    "# Need a column called 'value'\n",
    "# Need column called 'ParticipantBarcode' to match to TCGA\n",
    "corr_mat <- notebook_corr(response_df, var_df)\n",
    "\n",
    "# and then we can \n",
    "create_heatmap(corr_mat = corr_mat, title = 'Leukocyte fraction correlations')\n"
   ]
  },
  {
   "cell_type": "markdown",
   "metadata": {},
   "source": [
    "\n",
    "\n",
    "\n",
    "\n",
    "\n"
   ]
  }
 ],
 "metadata": {
  "jupytext": {
   "cell_metadata_filter": "-all",
   "notebook_metadata_filter": "-all",
   "text_representation": {
    "extension": ".Rmd",
    "format_name": "rmarkdown"
   }
  },
  "kernelspec": {
   "display_name": "R",
   "language": "R",
   "name": "ir"
  },
  "language_info": {
   "codemirror_mode": "r",
   "file_extension": ".r",
   "mimetype": "text/x-r-source",
   "name": "R",
   "pygments_lexer": "r",
   "version": "4.0.2"
  }
 },
 "nbformat": 4,
 "nbformat_minor": 4
}
