{
 "cells": [
  {
   "cell_type": "markdown",
   "metadata": {},
   "source": [
    "# CRI iAtlas notebooks\n",
    "\n",
    "## Working with clinical outcomes.\n",
    "\n",
    "    Repo: https://github.com/CRI-iAtlas/iatlas-notebooks/ \n",
    "    Notebook: clinical_outcomes.ipynb \n",
    "    Date: August 16, 2021 \n",
    "    Author: David L Gibbs "
   ]
  },
  {
   "cell_type": "markdown",
   "metadata": {},
   "source": [
    "This is an [R Markdown](http://rmarkdown.rstudio.com) Notebook. When you execute code within the notebook, the results appear beneath the code. \n",
    "\n",
    "Try executing this chunk by clicking the *Run* button within the chunk or by placing your cursor inside it and pressing *Ctrl+Shift+Enter*. \n",
    "\n",
    "First we are going to install the iAtlas-modules package to gain access to plotting functions."
   ]
  },
  {
   "cell_type": "code",
   "execution_count": null,
   "metadata": {
    "tags": [
     "remove_cell"
    ]
   },
   "outputs": [],
   "source": [
    "\n",
    "packages = c(\"magrittr\", \"wrapr\", \"dplyr\", \"feather\", \"tidyr\", \"survival\", \"survminer\")\n",
    "\n",
    "sapply(packages, function(x) {\n",
    "  if (!require(x,character.only = TRUE))\n",
    "    install.packages(x)\n",
    "    library(x,character.only = TRUE)\n",
    "})\n",
    "\n",
    "# and our iatlas package from github\n",
    "if (!require(iatlas.modules)) {\n",
    "  devtools::install_github(\"CRI-iAtlas/iatlas.modules\")\n",
    "  library(iatlas.modules)\n",
    "}\n"
   ]
  },
  {
   "cell_type": "markdown",
   "metadata": {},
   "source": [
    "We have a collection of helper functions in the 'notebook_functions.R' file. Let's bring it in."
   ]
  },
  {
   "cell_type": "code",
   "execution_count": null,
   "metadata": {
    "lines_to_next_cell": 2
   },
   "outputs": [],
   "source": [
    "source('functions/notebook_functions.R')"
   ]
  },
  {
   "cell_type": "markdown",
   "metadata": {},
   "source": [
    "# Survival plots\n",
    "\n",
    "These plots are used quite frequently in the cancer literature, let's learn what they express and \n",
    "how to make them, even using your own data.\n",
    "\n",
    "We'll need a data.frame with the following columns:\n",
    "\n",
    "Group         ## (could be anything, but immune subytpe is a good choice.)\n",
    "fraction_type ## c(leukocyte_fraction, Tumor_fraction, Stromal_fraction)\n",
    "fraction      ## a numeric value.\n",
    "\n",
    "Our first simulation is going to have two curves, based on group membership.\n",
    "Each simulated-sample will have a time, a censor status, and a group membership.\n",
    "The censor status lets us know if the event happened, or if the study timed out.\n",
    "It's also possible for a sample to be censored due to simply dropping out of the \n",
    "study, but we won't have that here."
   ]
  },
  {
   "cell_type": "code",
   "execution_count": null,
   "metadata": {},
   "outputs": [],
   "source": [
    "\n",
    "# We are going to simulate how long it takes before an event happens, \n",
    "# given there's a probability of it happening each time click\n",
    "# at some point, it doesn't happen. That's when the trial ends.\n",
    "\n",
    "sim_event <- function(p, time_pts) {\n",
    "  ps = runif(n=time_pts)\n",
    "  # did it happen?\n",
    "  qs <- which(ps <= p)\n",
    "  if(length( which(ps <= p) ) == 0) {\n",
    "    return(time_pts)\n",
    "  } else {\n",
    "    return(min(qs))\n",
    "  }\n",
    "}\n",
    "\n",
    "\n",
    "# our simulation parameters\n",
    "days <- 500\n",
    "p1 <- 0.01  # event probability for group 1\n",
    "p2 <- 0.10  # event probability for group 2\n",
    "\n",
    "# first simulate whether the event happened\n",
    "events1 <- sapply(1:100, function(a) sim_event(p=p1, days))\n",
    "events2 <- sapply(1:100, function(a) sim_event(p=p2, days))\n",
    "\n",
    "# then the status, depending on the given time\n",
    "# 1 if the event happened, and 0 if it's censored\n",
    "status1 <- sapply(group1, function(a) if (a >= days) {0} else {1})\n",
    "status2 <- sapply(group2, function(a) if (a >= days) {0} else {1})\n",
    "  \n",
    "\n",
    "df <- data.frame(Group=c(rep.int('group_a', 100), rep.int('group_b', 100)), \n",
    "                 Time=c(events1, events2),\n",
    "                 Status=c(status1, status2))\n",
    "\n",
    "# take a look at our dataframe\n",
    "head(df)"
   ]
  },
  {
   "cell_type": "markdown",
   "metadata": {},
   "source": [
    "First we'll format the dataframe into what's needed by iAtlas functions.\n",
    "Then we'll build the survival data.frame, fit the model, and use the iAtlas\n",
    "notebook function to plot the survival curves."
   ]
  },
  {
   "cell_type": "code",
   "execution_count": null,
   "metadata": {
    "fig.height": 7,
    "name": "fig1"
   },
   "outputs": [],
   "source": [
    "\n",
    "# \n",
    "# the build survival function takes the following arguments\n",
    "# df: the data frame \n",
    "# var_column: the variable to divide, groups or numerical\n",
    "# time_column: column name in df with times\n",
    "# status_column: column name in df with cencor statuses\n",
    "# div_method: how the var_column should be divided, choices are 'group', 'median', or 'cut'\n",
    "# k: if the div_method is 'cut', then cut into k parts.\n",
    "# group_choice = NULL, ## probably delete ## for TCGA groups\n",
    "#group_subset = NULL\n",
    "\n",
    "survival_df <- build_survival_df(df=df, var_column = 'Group', time_column = 'Time', status_column='Status', div_method = \"Group\" ) \n",
    "#head(survival_df)\n",
    "\n",
    "# then we'll fit the survival model\n",
    "fit <- survival::survfit(survival::Surv(time, status) ~ variable, data = survival_df)\n",
    "\n",
    "\n",
    "# and make a plot\n",
    "notebook_kmplot(\n",
    "   fit = fit,\n",
    "   df = survival_df,\n",
    "   confint = TRUE,\n",
    "   risktable = TRUE,\n",
    "   title = 'survival simulation plot',\n",
    "   subtitle = '',\n",
    "   group_colors = TRUE,\n",
    "   facet=TRUE)"
   ]
  },
  {
   "cell_type": "code",
   "execution_count": null,
   "metadata": {
    "lines_to_next_cell": 0
   },
   "outputs": [],
   "source": [
    "\n",
    "# and make a plot\n",
    "notebook_kmplot(\n",
    "   fit = fit,\n",
    "   df = survival_df,\n",
    "   confint = TRUE,\n",
    "   risktable = TRUE,\n",
    "   title = 'survival simulation plot',\n",
    "   subtitle = '',\n",
    "   group_colors = TRUE,\n",
    "   facet=TRUE)\n"
   ]
  },
  {
   "cell_type": "markdown",
   "metadata": {},
   "source": [
    "\n",
    "\n",
    " \n",
    "    \n",
    "\n",
    "\n"
   ]
  }
 ],
 "metadata": {
  "jupytext": {
   "cell_metadata_filter": "tags,name,fig.height,-all",
   "notebook_metadata_filter": "-all",
   "text_representation": {
    "extension": ".Rmd",
    "format_name": "rmarkdown"
   }
  },
  "kernelspec": {
   "display_name": "R",
   "language": "R",
   "name": "ir"
  },
  "language_info": {
   "codemirror_mode": "r",
   "file_extension": ".r",
   "mimetype": "text/x-r-source",
   "name": "R",
   "pygments_lexer": "r",
   "version": "4.0.2"
  }
 },
 "nbformat": 4,
 "nbformat_minor": 4
}
