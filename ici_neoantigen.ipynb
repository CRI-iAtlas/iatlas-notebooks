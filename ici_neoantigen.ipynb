{
 "cells": [
  {
   "cell_type": "markdown",
   "id": "5b2873dd",
   "metadata": {},
   "source": [
    "# CRI iAtlas notebooks\n",
    "## Exploring the neoantigen data available in iAtlas.\n",
    "\n",
    "Repo: https://github.com/CRI-iAtlas/iatlas-notebooks/ \n",
    "\n",
    "Notebook: ici_neoantigen.ipynb \n",
    "\n",
    "Date: September 14, 2023 \n",
    "\n",
    "Author: Carolina Heimann"
   ]
  },
  {
   "cell_type": "markdown",
   "id": "26a30665",
   "metadata": {},
   "source": [
    "---\n",
    "\n",
    "notebook repo: https://github.com/CRI-iAtlas/iatlas-notebooks\n",
    "\n",
    "landing page: https://www.cri-iatlas.org/\n",
    "\n",
    "portal: https://isb-cgc.shinyapps.io/iatlas/\n",
    "\n",
    "email: support@cri-iatlas.org\n",
    "\n",
    "---"
   ]
  },
  {
   "cell_type": "markdown",
   "id": "0874483b",
   "metadata": {},
   "source": [
    "# Contents\n",
    "\n",
    "- [Getting started](#Getting-started)\n",
    "- [Exploring the ICI datasets and features](#Exploring-the-ICI-datasets-and-features)\n",
    "    - [Datasets available](#Datasets-available)\n",
    "    - [Immune Features](#Immune-Features)\n",
    "    - [Clinical Annotation](#Clinical-Annotation)\n",
    "    - [Gene Expression](#Gene-Expression)\n",
    "    - [Annotation of response to immunotherapy](#Annotation-of-response-to-immunotherapy)\n",
    "    - [Samples and treatments available](#Samples-and-treatments-available)\n",
    "- [Querying the CRI iAtlas database](#Querying-the-CRI-iAtlas-database)"
   ]
  },
  {
   "cell_type": "markdown",
   "id": "685a3fc7",
   "metadata": {},
   "source": [
    "## Getting started"
   ]
  },
  {
   "cell_type": "code",
   "execution_count": 9,
   "id": "361c156d",
   "metadata": {},
   "outputs": [
    {
     "data": {
      "text/html": [
       "<table class=\"dataframe\">\n",
       "<caption>A matrix: 12 × 7 of type chr</caption>\n",
       "<thead>\n",
       "\t<tr><th scope=col>magrittr</th><th scope=col>dplyr</th><th scope=col>tidyr</th><th scope=col>dplyr</th><th scope=col>tidyr</th><th scope=col>ggplot2</th><th scope=col>iatlasGraphQLClient</th></tr>\n",
       "</thead>\n",
       "<tbody>\n",
       "\t<tr><td>iatlasGraphQLClient</td><td>iatlasGraphQLClient</td><td>iatlasGraphQLClient</td><td>iatlasGraphQLClient</td><td>iatlasGraphQLClient</td><td>iatlasGraphQLClient</td><td>iatlasGraphQLClient</td></tr>\n",
       "\t<tr><td>ggplot2            </td><td>ggplot2            </td><td>ggplot2            </td><td>ggplot2            </td><td>ggplot2            </td><td>ggplot2            </td><td>ggplot2            </td></tr>\n",
       "\t<tr><td>tidyr              </td><td>tidyr              </td><td>tidyr              </td><td>tidyr              </td><td>tidyr              </td><td>tidyr              </td><td>tidyr              </td></tr>\n",
       "\t<tr><td>dplyr              </td><td>dplyr              </td><td>dplyr              </td><td>dplyr              </td><td>dplyr              </td><td>dplyr              </td><td>dplyr              </td></tr>\n",
       "\t<tr><td>magrittr           </td><td>magrittr           </td><td>magrittr           </td><td>magrittr           </td><td>magrittr           </td><td>magrittr           </td><td>magrittr           </td></tr>\n",
       "\t<tr><td>stats              </td><td>stats              </td><td>stats              </td><td>stats              </td><td>stats              </td><td>stats              </td><td>stats              </td></tr>\n",
       "\t<tr><td>graphics           </td><td>graphics           </td><td>graphics           </td><td>graphics           </td><td>graphics           </td><td>graphics           </td><td>graphics           </td></tr>\n",
       "\t<tr><td>grDevices          </td><td>grDevices          </td><td>grDevices          </td><td>grDevices          </td><td>grDevices          </td><td>grDevices          </td><td>grDevices          </td></tr>\n",
       "\t<tr><td>utils              </td><td>utils              </td><td>utils              </td><td>utils              </td><td>utils              </td><td>utils              </td><td>utils              </td></tr>\n",
       "\t<tr><td>datasets           </td><td>datasets           </td><td>datasets           </td><td>datasets           </td><td>datasets           </td><td>datasets           </td><td>datasets           </td></tr>\n",
       "\t<tr><td>methods            </td><td>methods            </td><td>methods            </td><td>methods            </td><td>methods            </td><td>methods            </td><td>methods            </td></tr>\n",
       "\t<tr><td>base               </td><td>base               </td><td>base               </td><td>base               </td><td>base               </td><td>base               </td><td>base               </td></tr>\n",
       "</tbody>\n",
       "</table>\n"
      ],
      "text/latex": [
       "A matrix: 12 × 7 of type chr\n",
       "\\begin{tabular}{lllllll}\n",
       " magrittr & dplyr & tidyr & dplyr & tidyr & ggplot2 & iatlasGraphQLClient\\\\\n",
       "\\hline\n",
       "\t iatlasGraphQLClient & iatlasGraphQLClient & iatlasGraphQLClient & iatlasGraphQLClient & iatlasGraphQLClient & iatlasGraphQLClient & iatlasGraphQLClient\\\\\n",
       "\t ggplot2             & ggplot2             & ggplot2             & ggplot2             & ggplot2             & ggplot2             & ggplot2            \\\\\n",
       "\t tidyr               & tidyr               & tidyr               & tidyr               & tidyr               & tidyr               & tidyr              \\\\\n",
       "\t dplyr               & dplyr               & dplyr               & dplyr               & dplyr               & dplyr               & dplyr              \\\\\n",
       "\t magrittr            & magrittr            & magrittr            & magrittr            & magrittr            & magrittr            & magrittr           \\\\\n",
       "\t stats               & stats               & stats               & stats               & stats               & stats               & stats              \\\\\n",
       "\t graphics            & graphics            & graphics            & graphics            & graphics            & graphics            & graphics           \\\\\n",
       "\t grDevices           & grDevices           & grDevices           & grDevices           & grDevices           & grDevices           & grDevices          \\\\\n",
       "\t utils               & utils               & utils               & utils               & utils               & utils               & utils              \\\\\n",
       "\t datasets            & datasets            & datasets            & datasets            & datasets            & datasets            & datasets           \\\\\n",
       "\t methods             & methods             & methods             & methods             & methods             & methods             & methods            \\\\\n",
       "\t base                & base                & base                & base                & base                & base                & base               \\\\\n",
       "\\end{tabular}\n"
      ],
      "text/markdown": [
       "\n",
       "A matrix: 12 × 7 of type chr\n",
       "\n",
       "| magrittr | dplyr | tidyr | dplyr | tidyr | ggplot2 | iatlasGraphQLClient |\n",
       "|---|---|---|---|---|---|---|\n",
       "| iatlasGraphQLClient | iatlasGraphQLClient | iatlasGraphQLClient | iatlasGraphQLClient | iatlasGraphQLClient | iatlasGraphQLClient | iatlasGraphQLClient |\n",
       "| ggplot2             | ggplot2             | ggplot2             | ggplot2             | ggplot2             | ggplot2             | ggplot2             |\n",
       "| tidyr               | tidyr               | tidyr               | tidyr               | tidyr               | tidyr               | tidyr               |\n",
       "| dplyr               | dplyr               | dplyr               | dplyr               | dplyr               | dplyr               | dplyr               |\n",
       "| magrittr            | magrittr            | magrittr            | magrittr            | magrittr            | magrittr            | magrittr            |\n",
       "| stats               | stats               | stats               | stats               | stats               | stats               | stats               |\n",
       "| graphics            | graphics            | graphics            | graphics            | graphics            | graphics            | graphics            |\n",
       "| grDevices           | grDevices           | grDevices           | grDevices           | grDevices           | grDevices           | grDevices           |\n",
       "| utils               | utils               | utils               | utils               | utils               | utils               | utils               |\n",
       "| datasets            | datasets            | datasets            | datasets            | datasets            | datasets            | datasets            |\n",
       "| methods             | methods             | methods             | methods             | methods             | methods             | methods             |\n",
       "| base                | base                | base                | base                | base                | base                | base                |\n",
       "\n"
      ],
      "text/plain": [
       "      magrittr            dplyr               tidyr              \n",
       " [1,] iatlasGraphQLClient iatlasGraphQLClient iatlasGraphQLClient\n",
       " [2,] ggplot2             ggplot2             ggplot2            \n",
       " [3,] tidyr               tidyr               tidyr              \n",
       " [4,] dplyr               dplyr               dplyr              \n",
       " [5,] magrittr            magrittr            magrittr           \n",
       " [6,] stats               stats               stats              \n",
       " [7,] graphics            graphics            graphics           \n",
       " [8,] grDevices           grDevices           grDevices          \n",
       " [9,] utils               utils               utils              \n",
       "[10,] datasets            datasets            datasets           \n",
       "[11,] methods             methods             methods            \n",
       "[12,] base                base                base               \n",
       "      dplyr               tidyr               ggplot2            \n",
       " [1,] iatlasGraphQLClient iatlasGraphQLClient iatlasGraphQLClient\n",
       " [2,] ggplot2             ggplot2             ggplot2            \n",
       " [3,] tidyr               tidyr               tidyr              \n",
       " [4,] dplyr               dplyr               dplyr              \n",
       " [5,] magrittr            magrittr            magrittr           \n",
       " [6,] stats               stats               stats              \n",
       " [7,] graphics            graphics            graphics           \n",
       " [8,] grDevices           grDevices           grDevices          \n",
       " [9,] utils               utils               utils              \n",
       "[10,] datasets            datasets            datasets           \n",
       "[11,] methods             methods             methods            \n",
       "[12,] base                base                base               \n",
       "      iatlasGraphQLClient\n",
       " [1,] iatlasGraphQLClient\n",
       " [2,] ggplot2            \n",
       " [3,] tidyr              \n",
       " [4,] dplyr              \n",
       " [5,] magrittr           \n",
       " [6,] stats              \n",
       " [7,] graphics           \n",
       " [8,] grDevices          \n",
       " [9,] utils              \n",
       "[10,] datasets           \n",
       "[11,] methods            \n",
       "[12,] base               "
      ]
     },
     "metadata": {},
     "output_type": "display_data"
    }
   ],
   "source": [
    "# We have a few libraries to install.\n",
    "try({\n",
    "    packages = c(\"magrittr\", \"dplyr\", \"tidyr\", \"dplyr\", \"tidyr\", \"ggplot2\", \"iatlasGraphQLClient\")\n",
    "\n",
    "    sapply(packages, function(x) {\n",
    "      if (!require(x,character.only = TRUE))\n",
    "        install.packages(x)\n",
    "        suppressPackageStartupMessages(library(x,character.only = TRUE))\n",
    "    })},\n",
    "    silent=TRUE \n",
    ")\n",
    "\n",
    "# helper functions\n",
    "# git clone the notebook repo to get this file #\n",
    "# or see: https://github.com/CRI-iAtlas/iatlas-notebooks/blob/main/functions/notebook_functions.R\n",
    "source('functions/notebook_functions.R')"
   ]
  },
  {
   "cell_type": "markdown",
   "id": "c93e1a92",
   "metadata": {},
   "source": [
    "# Exploring the ICI datasets and features\n",
    "\n",
    "\n",
    "The iAtlas ICI data is stored in a database that can be queried with functions from the `iatlasGraphQLClient` package. \n",
    "We have clinical data, immune features, scores of predictors of response to immunotherapy, quantile normalized gene expression, and aggregated neoantigen data.\n",
    "\n",
    "You can get more information in iAtlas on [immune features and predictors of response to ICI](https://isb-cgc.shinyapps.io/iatlas/?module=datainfo), and our annotation of [immunomodulators](https://isb-cgc.shinyapps.io/iatlas/?module=immunomodulators) genes. You can access more information about these datasets in [iAtlas - ICI Datasets Overview](https://isb-cgc.shinyapps.io/iatlas/?module=ioresponse_overview) module.\n",
    "\n",
    "As a first step, let's take a look at the available datasets and features."
   ]
  },
  {
   "cell_type": "markdown",
   "id": "fae0016f",
   "metadata": {},
   "source": [
    "## Datasets available"
   ]
  },
  {
   "cell_type": "code",
   "execution_count": null,
   "id": "46221448",
   "metadata": {},
   "outputs": [],
   "source": [
    "#getting ICI data\n",
    "#datasets that we have in the iAtlas database\n",
    "ici_datasets <- iatlasGraphQLClient::query_datasets(types = \"ici\")\n",
    "ici_datasets"
   ]
  },
  {
   "cell_type": "markdown",
   "id": "3fcae77f",
   "metadata": {},
   "source": [
    "The display name of the datasets makes reference to the publication associated with the data, and also summarises the tumor type and ICI target involved in the study."
   ]
  },
  {
   "cell_type": "markdown",
   "id": "524709b7",
   "metadata": {},
   "source": [
    "## Neoantigen data"
   ]
  },
  {
   "cell_type": "markdown",
   "id": "82f2b91c",
   "metadata": {},
   "source": [
    "The neoantigen data is available in two tables, each one requiring a different query."
   ]
  },
  {
   "cell_type": "code",
   "execution_count": null,
   "id": "d9e1b7df",
   "metadata": {},
   "outputs": [],
   "source": [
    "#count of neoantigen type per patient\n",
    "neoantigen_count  <- iatlasGraphQLClient::query_feature_values(feature_classes = \"Neoantigen\")\n",
    "head(neoantigen_count)"
   ]
  },
  {
   "cell_type": "markdown",
   "id": "1cdf82cc",
   "metadata": {},
   "source": [
    "In this table, we have... ADD EXPLANATION OF TABLE\n",
    "\n"
   ]
  },
  {
   "cell_type": "code",
   "execution_count": null,
   "id": "0cb7e245",
   "metadata": {},
   "outputs": [],
   "source": [
    "## Immune Features"
   ]
  },
  {
   "cell_type": "code",
   "execution_count": 11,
   "id": "0ba8716a",
   "metadata": {},
   "outputs": [
    {
     "data": {
      "text/html": [
       "<table class=\"dataframe\">\n",
       "<caption>A tibble: 6 × 6</caption>\n",
       "<thead>\n",
       "\t<tr><th scope=col>name</th><th scope=col>display</th><th scope=col>class</th><th scope=col>order</th><th scope=col>unit</th><th scope=col>method_tag</th></tr>\n",
       "\t<tr><th scope=col>&lt;chr&gt;</th><th scope=col>&lt;chr&gt;</th><th scope=col>&lt;chr&gt;</th><th scope=col>&lt;int&gt;</th><th scope=col>&lt;chr&gt;</th><th scope=col>&lt;chr&gt;</th></tr>\n",
       "</thead>\n",
       "<tbody>\n",
       "\t<tr><td>B_cells_Aggregate2               </td><td>B Cells        </td><td>Immune Cell Proportion - Common Lymphoid and Myeloid Cell Derivative Class        </td><td> 3</td><td>Fraction</td><td>CIBERSORT</td></tr>\n",
       "\t<tr><td>B_cells_Aggregate3               </td><td>B Cells        </td><td>Immune Cell Proportion - Differentiated Lymphoid and Myeloid Cell Derivative Class</td><td> 4</td><td>Fraction</td><td>CIBERSORT</td></tr>\n",
       "\t<tr><td>B_cells_memory                   </td><td>B Cells Memory </td><td>Immune Cell Proportion - Original                                                 </td><td> 9</td><td>Fraction</td><td>CIBERSORT</td></tr>\n",
       "\t<tr><td>B_cells_naive                    </td><td>B Cells Naive  </td><td>Immune Cell Proportion - Original                                                 </td><td> 8</td><td>Fraction</td><td>CIBERSORT</td></tr>\n",
       "\t<tr><td>BIOCARTA_CTLA4_V_Bindea_Th1_Cells</td><td>CTLA4 vs Th1   </td><td>Predictor of Response to Immune Checkpoint Treatment                              </td><td>NA</td><td>Fraction</td><td>NA       </td></tr>\n",
       "\t<tr><td>Cytolytic_Score                  </td><td>Cytolytic Score</td><td>Predictor of Response to Immune Checkpoint Treatment                              </td><td>NA</td><td>Score   </td><td>NA       </td></tr>\n",
       "</tbody>\n",
       "</table>\n"
      ],
      "text/latex": [
       "A tibble: 6 × 6\n",
       "\\begin{tabular}{llllll}\n",
       " name & display & class & order & unit & method\\_tag\\\\\n",
       " <chr> & <chr> & <chr> & <int> & <chr> & <chr>\\\\\n",
       "\\hline\n",
       "\t B\\_cells\\_Aggregate2                & B Cells         & Immune Cell Proportion - Common Lymphoid and Myeloid Cell Derivative Class         &  3 & Fraction & CIBERSORT\\\\\n",
       "\t B\\_cells\\_Aggregate3                & B Cells         & Immune Cell Proportion - Differentiated Lymphoid and Myeloid Cell Derivative Class &  4 & Fraction & CIBERSORT\\\\\n",
       "\t B\\_cells\\_memory                    & B Cells Memory  & Immune Cell Proportion - Original                                                  &  9 & Fraction & CIBERSORT\\\\\n",
       "\t B\\_cells\\_naive                     & B Cells Naive   & Immune Cell Proportion - Original                                                  &  8 & Fraction & CIBERSORT\\\\\n",
       "\t BIOCARTA\\_CTLA4\\_V\\_Bindea\\_Th1\\_Cells & CTLA4 vs Th1    & Predictor of Response to Immune Checkpoint Treatment                               & NA & Fraction & NA       \\\\\n",
       "\t Cytolytic\\_Score                   & Cytolytic Score & Predictor of Response to Immune Checkpoint Treatment                               & NA & Score    & NA       \\\\\n",
       "\\end{tabular}\n"
      ],
      "text/markdown": [
       "\n",
       "A tibble: 6 × 6\n",
       "\n",
       "| name &lt;chr&gt; | display &lt;chr&gt; | class &lt;chr&gt; | order &lt;int&gt; | unit &lt;chr&gt; | method_tag &lt;chr&gt; |\n",
       "|---|---|---|---|---|---|\n",
       "| B_cells_Aggregate2                | B Cells         | Immune Cell Proportion - Common Lymphoid and Myeloid Cell Derivative Class         |  3 | Fraction | CIBERSORT |\n",
       "| B_cells_Aggregate3                | B Cells         | Immune Cell Proportion - Differentiated Lymphoid and Myeloid Cell Derivative Class |  4 | Fraction | CIBERSORT |\n",
       "| B_cells_memory                    | B Cells Memory  | Immune Cell Proportion - Original                                                  |  9 | Fraction | CIBERSORT |\n",
       "| B_cells_naive                     | B Cells Naive   | Immune Cell Proportion - Original                                                  |  8 | Fraction | CIBERSORT |\n",
       "| BIOCARTA_CTLA4_V_Bindea_Th1_Cells | CTLA4 vs Th1    | Predictor of Response to Immune Checkpoint Treatment                               | NA | Fraction | NA        |\n",
       "| Cytolytic_Score                   | Cytolytic Score | Predictor of Response to Immune Checkpoint Treatment                               | NA | Score    | NA        |\n",
       "\n"
      ],
      "text/plain": [
       "  name                              display        \n",
       "1 B_cells_Aggregate2                B Cells        \n",
       "2 B_cells_Aggregate3                B Cells        \n",
       "3 B_cells_memory                    B Cells Memory \n",
       "4 B_cells_naive                     B Cells Naive  \n",
       "5 BIOCARTA_CTLA4_V_Bindea_Th1_Cells CTLA4 vs Th1   \n",
       "6 Cytolytic_Score                   Cytolytic Score\n",
       "  class                                                                             \n",
       "1 Immune Cell Proportion - Common Lymphoid and Myeloid Cell Derivative Class        \n",
       "2 Immune Cell Proportion - Differentiated Lymphoid and Myeloid Cell Derivative Class\n",
       "3 Immune Cell Proportion - Original                                                 \n",
       "4 Immune Cell Proportion - Original                                                 \n",
       "5 Predictor of Response to Immune Checkpoint Treatment                              \n",
       "6 Predictor of Response to Immune Checkpoint Treatment                              \n",
       "  order unit     method_tag\n",
       "1  3    Fraction CIBERSORT \n",
       "2  4    Fraction CIBERSORT \n",
       "3  9    Fraction CIBERSORT \n",
       "4  8    Fraction CIBERSORT \n",
       "5 NA    Fraction NA        \n",
       "6 NA    Score    NA        "
      ]
     },
     "metadata": {},
     "output_type": "display_data"
    }
   ],
   "source": [
    "#immune features of all samples in the ici datasets\n",
    "features_df <- iatlasGraphQLClient::query_features(cohorts = ici_datasets$name)\n",
    "head(features_df)"
   ]
  },
  {
   "cell_type": "markdown",
   "id": "e4c77d03",
   "metadata": {},
   "source": [
    "## Clinical Annotation"
   ]
  },
  {
   "cell_type": "code",
   "execution_count": 12,
   "id": "5baabaaa",
   "metadata": {},
   "outputs": [
    {
     "data": {
      "text/html": [
       "<table class=\"dataframe\">\n",
       "<caption>A tibble: 6 × 7</caption>\n",
       "<thead>\n",
       "\t<tr><th scope=col>tag_name</th><th scope=col>tag_long_display</th><th scope=col>tag_short_display</th><th scope=col>tag_characteristics</th><th scope=col>tag_color</th><th scope=col>tag_order</th><th scope=col>tag_type</th></tr>\n",
       "\t<tr><th scope=col>&lt;chr&gt;</th><th scope=col>&lt;chr&gt;</th><th scope=col>&lt;chr&gt;</th><th scope=col>&lt;chr&gt;</th><th scope=col>&lt;lgl&gt;</th><th scope=col>&lt;int&gt;</th><th scope=col>&lt;chr&gt;</th></tr>\n",
       "</thead>\n",
       "<tbody>\n",
       "\t<tr><td>Biopsy_Site     </td><td>Biopsy Site     </td><td>Biopsy Site     </td><td>Site where sample was collected from.                                                      </td><td>NA</td><td>18</td><td>parent_group</td></tr>\n",
       "\t<tr><td>Cancer_Tissue   </td><td>Cancer Tissue   </td><td>Cancer Tissue   </td><td>Original tumor tissue.                                                                     </td><td>NA</td><td>14</td><td>parent_group</td></tr>\n",
       "\t<tr><td>Clinical_Benefit</td><td>Clinical Benefit</td><td>Clinical Benefit</td><td>Patients have clinical benefit when mRECIST response is different than Progressive Disease.</td><td>NA</td><td> 4</td><td>parent_group</td></tr>\n",
       "\t<tr><td>Clinical_Stage  </td><td>Clinical Stage  </td><td>Clinical Stage  </td><td>Clinical stage of cancer.                                                                  </td><td>NA</td><td>17</td><td>parent_group</td></tr>\n",
       "\t<tr><td>FFPE            </td><td>FFPE Samples    </td><td>FFPE Samples    </td><td>Indicates whether the sample is FFPE or not.                                               </td><td>NA</td><td>20</td><td>parent_group</td></tr>\n",
       "\t<tr><td>gender          </td><td>Gender          </td><td>Gender          </td><td>NA                                                                                         </td><td>NA</td><td>NA</td><td>parent_group</td></tr>\n",
       "</tbody>\n",
       "</table>\n"
      ],
      "text/latex": [
       "A tibble: 6 × 7\n",
       "\\begin{tabular}{lllllll}\n",
       " tag\\_name & tag\\_long\\_display & tag\\_short\\_display & tag\\_characteristics & tag\\_color & tag\\_order & tag\\_type\\\\\n",
       " <chr> & <chr> & <chr> & <chr> & <lgl> & <int> & <chr>\\\\\n",
       "\\hline\n",
       "\t Biopsy\\_Site      & Biopsy Site      & Biopsy Site      & Site where sample was collected from.                                                       & NA & 18 & parent\\_group\\\\\n",
       "\t Cancer\\_Tissue    & Cancer Tissue    & Cancer Tissue    & Original tumor tissue.                                                                      & NA & 14 & parent\\_group\\\\\n",
       "\t Clinical\\_Benefit & Clinical Benefit & Clinical Benefit & Patients have clinical benefit when mRECIST response is different than Progressive Disease. & NA &  4 & parent\\_group\\\\\n",
       "\t Clinical\\_Stage   & Clinical Stage   & Clinical Stage   & Clinical stage of cancer.                                                                   & NA & 17 & parent\\_group\\\\\n",
       "\t FFPE             & FFPE Samples     & FFPE Samples     & Indicates whether the sample is FFPE or not.                                                & NA & 20 & parent\\_group\\\\\n",
       "\t gender           & Gender           & Gender           & NA                                                                                          & NA & NA & parent\\_group\\\\\n",
       "\\end{tabular}\n"
      ],
      "text/markdown": [
       "\n",
       "A tibble: 6 × 7\n",
       "\n",
       "| tag_name &lt;chr&gt; | tag_long_display &lt;chr&gt; | tag_short_display &lt;chr&gt; | tag_characteristics &lt;chr&gt; | tag_color &lt;lgl&gt; | tag_order &lt;int&gt; | tag_type &lt;chr&gt; |\n",
       "|---|---|---|---|---|---|---|\n",
       "| Biopsy_Site      | Biopsy Site      | Biopsy Site      | Site where sample was collected from.                                                       | NA | 18 | parent_group |\n",
       "| Cancer_Tissue    | Cancer Tissue    | Cancer Tissue    | Original tumor tissue.                                                                      | NA | 14 | parent_group |\n",
       "| Clinical_Benefit | Clinical Benefit | Clinical Benefit | Patients have clinical benefit when mRECIST response is different than Progressive Disease. | NA |  4 | parent_group |\n",
       "| Clinical_Stage   | Clinical Stage   | Clinical Stage   | Clinical stage of cancer.                                                                   | NA | 17 | parent_group |\n",
       "| FFPE             | FFPE Samples     | FFPE Samples     | Indicates whether the sample is FFPE or not.                                                | NA | 20 | parent_group |\n",
       "| gender           | Gender           | Gender           | NA                                                                                          | NA | NA | parent_group |\n",
       "\n"
      ],
      "text/plain": [
       "  tag_name         tag_long_display tag_short_display\n",
       "1 Biopsy_Site      Biopsy Site      Biopsy Site      \n",
       "2 Cancer_Tissue    Cancer Tissue    Cancer Tissue    \n",
       "3 Clinical_Benefit Clinical Benefit Clinical Benefit \n",
       "4 Clinical_Stage   Clinical Stage   Clinical Stage   \n",
       "5 FFPE             FFPE Samples     FFPE Samples     \n",
       "6 gender           Gender           Gender           \n",
       "  tag_characteristics                                                                        \n",
       "1 Site where sample was collected from.                                                      \n",
       "2 Original tumor tissue.                                                                     \n",
       "3 Patients have clinical benefit when mRECIST response is different than Progressive Disease.\n",
       "4 Clinical stage of cancer.                                                                  \n",
       "5 Indicates whether the sample is FFPE or not.                                               \n",
       "6 NA                                                                                         \n",
       "  tag_color tag_order tag_type    \n",
       "1 NA        18        parent_group\n",
       "2 NA        14        parent_group\n",
       "3 NA         4        parent_group\n",
       "4 NA        17        parent_group\n",
       "5 NA        20        parent_group\n",
       "6 NA        NA        parent_group"
      ]
     },
     "metadata": {},
     "output_type": "display_data"
    }
   ],
   "source": [
    "#clinical annotation that is available for the ici datasets\n",
    "clinical_options <- iatlasGraphQLClient::query_tags(datasets = ici_datasets$name)\n",
    "head(clinical_options)"
   ]
  },
  {
   "cell_type": "markdown",
   "id": "9537b4d0",
   "metadata": {},
   "source": [
    "## Gene Expression"
   ]
  },
  {
   "cell_type": "code",
   "execution_count": 13,
   "id": "3d7e7a96",
   "metadata": {},
   "outputs": [
    {
     "data": {
      "text/html": [
       "<table class=\"dataframe\">\n",
       "<caption>A tibble: 6 × 10</caption>\n",
       "<thead>\n",
       "\t<tr><th scope=col>hgnc</th><th scope=col>entrez</th><th scope=col>description</th><th scope=col>friendly_name</th><th scope=col>io_landscape_name</th><th scope=col>gene_family</th><th scope=col>gene_function</th><th scope=col>immune_checkpoint</th><th scope=col>pathway</th><th scope=col>super_category</th></tr>\n",
       "\t<tr><th scope=col>&lt;chr&gt;</th><th scope=col>&lt;int&gt;</th><th scope=col>&lt;chr&gt;</th><th scope=col>&lt;chr&gt;</th><th scope=col>&lt;chr&gt;</th><th scope=col>&lt;chr&gt;</th><th scope=col>&lt;chr&gt;</th><th scope=col>&lt;chr&gt;</th><th scope=col>&lt;chr&gt;</th><th scope=col>&lt;chr&gt;</th></tr>\n",
       "</thead>\n",
       "<tbody>\n",
       "\t<tr><td>A1BG    </td><td>     1</td><td>NA</td><td>NA</td><td>NA</td><td>NA</td><td>NA</td><td>NA</td><td>NA</td><td>NA</td></tr>\n",
       "\t<tr><td>A1BG-AS1</td><td>503538</td><td>NA</td><td>NA</td><td>NA</td><td>NA</td><td>NA</td><td>NA</td><td>NA</td><td>NA</td></tr>\n",
       "\t<tr><td>A1CF    </td><td> 29974</td><td>NA</td><td>NA</td><td>NA</td><td>NA</td><td>NA</td><td>NA</td><td>NA</td><td>NA</td></tr>\n",
       "\t<tr><td>A2M     </td><td>     2</td><td>NA</td><td>NA</td><td>NA</td><td>NA</td><td>NA</td><td>NA</td><td>NA</td><td>NA</td></tr>\n",
       "\t<tr><td>A2M-AS1 </td><td>144571</td><td>NA</td><td>NA</td><td>NA</td><td>NA</td><td>NA</td><td>NA</td><td>NA</td><td>NA</td></tr>\n",
       "\t<tr><td>A2ML1   </td><td>144568</td><td>NA</td><td>NA</td><td>NA</td><td>NA</td><td>NA</td><td>NA</td><td>NA</td><td>NA</td></tr>\n",
       "</tbody>\n",
       "</table>\n"
      ],
      "text/latex": [
       "A tibble: 6 × 10\n",
       "\\begin{tabular}{llllllllll}\n",
       " hgnc & entrez & description & friendly\\_name & io\\_landscape\\_name & gene\\_family & gene\\_function & immune\\_checkpoint & pathway & super\\_category\\\\\n",
       " <chr> & <int> & <chr> & <chr> & <chr> & <chr> & <chr> & <chr> & <chr> & <chr>\\\\\n",
       "\\hline\n",
       "\t A1BG     &      1 & NA & NA & NA & NA & NA & NA & NA & NA\\\\\n",
       "\t A1BG-AS1 & 503538 & NA & NA & NA & NA & NA & NA & NA & NA\\\\\n",
       "\t A1CF     &  29974 & NA & NA & NA & NA & NA & NA & NA & NA\\\\\n",
       "\t A2M      &      2 & NA & NA & NA & NA & NA & NA & NA & NA\\\\\n",
       "\t A2M-AS1  & 144571 & NA & NA & NA & NA & NA & NA & NA & NA\\\\\n",
       "\t A2ML1    & 144568 & NA & NA & NA & NA & NA & NA & NA & NA\\\\\n",
       "\\end{tabular}\n"
      ],
      "text/markdown": [
       "\n",
       "A tibble: 6 × 10\n",
       "\n",
       "| hgnc &lt;chr&gt; | entrez &lt;int&gt; | description &lt;chr&gt; | friendly_name &lt;chr&gt; | io_landscape_name &lt;chr&gt; | gene_family &lt;chr&gt; | gene_function &lt;chr&gt; | immune_checkpoint &lt;chr&gt; | pathway &lt;chr&gt; | super_category &lt;chr&gt; |\n",
       "|---|---|---|---|---|---|---|---|---|---|\n",
       "| A1BG     |      1 | NA | NA | NA | NA | NA | NA | NA | NA |\n",
       "| A1BG-AS1 | 503538 | NA | NA | NA | NA | NA | NA | NA | NA |\n",
       "| A1CF     |  29974 | NA | NA | NA | NA | NA | NA | NA | NA |\n",
       "| A2M      |      2 | NA | NA | NA | NA | NA | NA | NA | NA |\n",
       "| A2M-AS1  | 144571 | NA | NA | NA | NA | NA | NA | NA | NA |\n",
       "| A2ML1    | 144568 | NA | NA | NA | NA | NA | NA | NA | NA |\n",
       "\n"
      ],
      "text/plain": [
       "  hgnc     entrez description friendly_name io_landscape_name gene_family\n",
       "1 A1BG          1 NA          NA            NA                NA         \n",
       "2 A1BG-AS1 503538 NA          NA            NA                NA         \n",
       "3 A1CF      29974 NA          NA            NA                NA         \n",
       "4 A2M           2 NA          NA            NA                NA         \n",
       "5 A2M-AS1  144571 NA          NA            NA                NA         \n",
       "6 A2ML1    144568 NA          NA            NA                NA         \n",
       "  gene_function immune_checkpoint pathway super_category\n",
       "1 NA            NA                NA      NA            \n",
       "2 NA            NA                NA      NA            \n",
       "3 NA            NA                NA      NA            \n",
       "4 NA            NA                NA      NA            \n",
       "5 NA            NA                NA      NA            \n",
       "6 NA            NA                NA      NA            "
      ]
     },
     "metadata": {},
     "output_type": "display_data"
    }
   ],
   "source": [
    "#genes that we have expression data for all samples in the ici datasets (we will query expression values in the next section)\n",
    "genes_df <- iatlasGraphQLClient::query_genes(cohorts = ici_datasets$name)\n",
    "head(genes_df)"
   ]
  },
  {
   "cell_type": "markdown",
   "id": "2bed824f",
   "metadata": {},
   "source": [
    "The independent variable to be used in the model corresponds to how a patient responds to immunotherapy. The response to therapy with Immune Checkpoint Inhitbitor is originally annotated following the guidelines of mRECIST, and has 4 different levels."
   ]
  },
  {
   "cell_type": "markdown",
   "id": "bdb4453c",
   "metadata": {},
   "source": [
    "## Annotation of response to immunotherapy\n",
    "\n",
    "The independent variable to be used in the model corresponds to how a patient responds to immunotherapy. The response to therapy with Immune Checkpoint Inhitbitor is originally annotated following the guidelines of mRECIST, and has 4 different levels."
   ]
  },
  {
   "cell_type": "code",
   "execution_count": 14,
   "id": "0957cad2",
   "metadata": {},
   "outputs": [
    {
     "data": {
      "text/html": [
       "<table class=\"dataframe\">\n",
       "<caption>A tibble: 5 × 7</caption>\n",
       "<thead>\n",
       "\t<tr><th scope=col>tag_name</th><th scope=col>tag_long_display</th><th scope=col>tag_short_display</th><th scope=col>tag_characteristics</th><th scope=col>tag_color</th><th scope=col>tag_order</th><th scope=col>tag_type</th></tr>\n",
       "\t<tr><th scope=col>&lt;chr&gt;</th><th scope=col>&lt;chr&gt;</th><th scope=col>&lt;chr&gt;</th><th scope=col>&lt;chr&gt;</th><th scope=col>&lt;chr&gt;</th><th scope=col>&lt;int&gt;</th><th scope=col>&lt;chr&gt;</th></tr>\n",
       "</thead>\n",
       "<tbody>\n",
       "\t<tr><td>complete_response_response  </td><td>Complete Response  </td><td>Complete Response  </td><td>Complete Response (CR) following modified Response Evaluation Criteria in Solid Tumors (mRECIST) guidelines  </td><td>#009E73</td><td>1</td><td>group</td></tr>\n",
       "\t<tr><td>partial_response_response   </td><td>Partial Response   </td><td>Partial Response   </td><td>Partial Response (PR) following modified Response Evaluation Criteria in Solid Tumors (mRECIST) guidelines   </td><td>#0072B2</td><td>2</td><td>group</td></tr>\n",
       "\t<tr><td>stable_disease_response     </td><td>Stable Disease     </td><td>Stable Disease     </td><td>Stable Disease (SD) following modified Response Evaluation Criteria in Solid Tumors (mRECIST) guidelines     </td><td>#F0E442</td><td>3</td><td>group</td></tr>\n",
       "\t<tr><td>progressive_disease_response</td><td>Progressive Disease</td><td>Progressive Disease</td><td>Progressive Disease (PD) following modified Response Evaluation Criteria in Solid Tumors (mRECIST) guidelines</td><td>#D55E00</td><td>4</td><td>group</td></tr>\n",
       "\t<tr><td>na_response                 </td><td>Not available      </td><td>Not available      </td><td>Response information not available                                                                           </td><td>#868A88</td><td>5</td><td>group</td></tr>\n",
       "</tbody>\n",
       "</table>\n"
      ],
      "text/latex": [
       "A tibble: 5 × 7\n",
       "\\begin{tabular}{lllllll}\n",
       " tag\\_name & tag\\_long\\_display & tag\\_short\\_display & tag\\_characteristics & tag\\_color & tag\\_order & tag\\_type\\\\\n",
       " <chr> & <chr> & <chr> & <chr> & <chr> & <int> & <chr>\\\\\n",
       "\\hline\n",
       "\t complete\\_response\\_response   & Complete Response   & Complete Response   & Complete Response (CR) following modified Response Evaluation Criteria in Solid Tumors (mRECIST) guidelines   & \\#009E73 & 1 & group\\\\\n",
       "\t partial\\_response\\_response    & Partial Response    & Partial Response    & Partial Response (PR) following modified Response Evaluation Criteria in Solid Tumors (mRECIST) guidelines    & \\#0072B2 & 2 & group\\\\\n",
       "\t stable\\_disease\\_response      & Stable Disease      & Stable Disease      & Stable Disease (SD) following modified Response Evaluation Criteria in Solid Tumors (mRECIST) guidelines      & \\#F0E442 & 3 & group\\\\\n",
       "\t progressive\\_disease\\_response & Progressive Disease & Progressive Disease & Progressive Disease (PD) following modified Response Evaluation Criteria in Solid Tumors (mRECIST) guidelines & \\#D55E00 & 4 & group\\\\\n",
       "\t na\\_response                  & Not available       & Not available       & Response information not available                                                                            & \\#868A88 & 5 & group\\\\\n",
       "\\end{tabular}\n"
      ],
      "text/markdown": [
       "\n",
       "A tibble: 5 × 7\n",
       "\n",
       "| tag_name &lt;chr&gt; | tag_long_display &lt;chr&gt; | tag_short_display &lt;chr&gt; | tag_characteristics &lt;chr&gt; | tag_color &lt;chr&gt; | tag_order &lt;int&gt; | tag_type &lt;chr&gt; |\n",
       "|---|---|---|---|---|---|---|\n",
       "| complete_response_response   | Complete Response   | Complete Response   | Complete Response (CR) following modified Response Evaluation Criteria in Solid Tumors (mRECIST) guidelines   | #009E73 | 1 | group |\n",
       "| partial_response_response    | Partial Response    | Partial Response    | Partial Response (PR) following modified Response Evaluation Criteria in Solid Tumors (mRECIST) guidelines    | #0072B2 | 2 | group |\n",
       "| stable_disease_response      | Stable Disease      | Stable Disease      | Stable Disease (SD) following modified Response Evaluation Criteria in Solid Tumors (mRECIST) guidelines      | #F0E442 | 3 | group |\n",
       "| progressive_disease_response | Progressive Disease | Progressive Disease | Progressive Disease (PD) following modified Response Evaluation Criteria in Solid Tumors (mRECIST) guidelines | #D55E00 | 4 | group |\n",
       "| na_response                  | Not available       | Not available       | Response information not available                                                                            | #868A88 | 5 | group |\n",
       "\n"
      ],
      "text/plain": [
       "  tag_name                     tag_long_display    tag_short_display  \n",
       "1 complete_response_response   Complete Response   Complete Response  \n",
       "2 partial_response_response    Partial Response    Partial Response   \n",
       "3 stable_disease_response      Stable Disease      Stable Disease     \n",
       "4 progressive_disease_response Progressive Disease Progressive Disease\n",
       "5 na_response                  Not available       Not available      \n",
       "  tag_characteristics                                                                                          \n",
       "1 Complete Response (CR) following modified Response Evaluation Criteria in Solid Tumors (mRECIST) guidelines  \n",
       "2 Partial Response (PR) following modified Response Evaluation Criteria in Solid Tumors (mRECIST) guidelines   \n",
       "3 Stable Disease (SD) following modified Response Evaluation Criteria in Solid Tumors (mRECIST) guidelines     \n",
       "4 Progressive Disease (PD) following modified Response Evaluation Criteria in Solid Tumors (mRECIST) guidelines\n",
       "5 Response information not available                                                                           \n",
       "  tag_color tag_order tag_type\n",
       "1 #009E73   1         group   \n",
       "2 #0072B2   2         group   \n",
       "3 #F0E442   3         group   \n",
       "4 #D55E00   4         group   \n",
       "5 #868A88   5         group   "
      ]
     },
     "metadata": {},
     "output_type": "display_data"
    }
   ],
   "source": [
    "iatlasGraphQLClient::query_tags(parent_tags = \"Response\") %>% \n",
    "    dplyr::arrange(tag_order)"
   ]
  },
  {
   "cell_type": "markdown",
   "id": "d1410d0a",
   "metadata": {},
   "source": [
    "We will use as possible outcome variable Responder, Clinical Benefit and Progressor, which consist in grouping different levels of mRECIST into two categories."
   ]
  },
  {
   "cell_type": "code",
   "execution_count": 15,
   "id": "3c0b59c2",
   "metadata": {},
   "outputs": [
    {
     "data": {
      "text/html": [
       "<table class=\"dataframe\">\n",
       "<caption>A tibble: 9 × 5</caption>\n",
       "<thead>\n",
       "\t<tr><th scope=col>parent_tag_name</th><th scope=col>parent_tag_characteristics</th><th scope=col>tag_name</th><th scope=col>tag_short_display</th><th scope=col>tag_characteristics</th></tr>\n",
       "\t<tr><th scope=col>&lt;chr&gt;</th><th scope=col>&lt;chr&gt;</th><th scope=col>&lt;chr&gt;</th><th scope=col>&lt;chr&gt;</th><th scope=col>&lt;chr&gt;</th></tr>\n",
       "</thead>\n",
       "<tbody>\n",
       "\t<tr><td>Clinical_Benefit</td><td>Patients have clinical benefit when mRECIST response is different than Progressive Disease.                                                                           </td><td>false_clinical_benefit</td><td>No Clinical Benefit</td><td>Patient with mRECIST of Progressive Disease                                   </td></tr>\n",
       "\t<tr><td>Clinical_Benefit</td><td>Patients have clinical benefit when mRECIST response is different than Progressive Disease.                                                                           </td><td>na_clinical_benefit   </td><td>Not available      </td><td>Clinical Benefit information not available                                    </td></tr>\n",
       "\t<tr><td>Clinical_Benefit</td><td>Patients have clinical benefit when mRECIST response is different than Progressive Disease.                                                                           </td><td>true_clinical_benefit </td><td>Clinical Benefit   </td><td>Patient with mRECIST of Complete Response, Partial Response, or Stable Disease</td></tr>\n",
       "\t<tr><td>Progression     </td><td>Progressors are defined as patients with mRECIST of Progressive Disease.                                                                                              </td><td>false_progression     </td><td>Non-Progressor     </td><td>Patient with mRECIST of Complete Response, Partial Response, or Stable Disease</td></tr>\n",
       "\t<tr><td>Progression     </td><td>Progressors are defined as patients with mRECIST of Progressive Disease.                                                                                              </td><td>na_progression        </td><td>Not available      </td><td>Progression information not available                                         </td></tr>\n",
       "\t<tr><td>Progression     </td><td>Progressors are defined as patients with mRECIST of Progressive Disease.                                                                                              </td><td>true_progression      </td><td>Progressor         </td><td>Patient with mRECIST of Progressive Disease                                   </td></tr>\n",
       "\t<tr><td>Responder       </td><td>Responders are defined as patients with mRECIST of Partial Response or Complete Response, whereas Non-Responders are those with Progressive Disease or Stable Disease.</td><td>false_responder       </td><td>Non-Responder      </td><td>Patient with mRECIST of Progressive Disease or Stable Disease                 </td></tr>\n",
       "\t<tr><td>Responder       </td><td>Responders are defined as patients with mRECIST of Partial Response or Complete Response, whereas Non-Responders are those with Progressive Disease or Stable Disease.</td><td>na_responder          </td><td>Not available      </td><td>Responder information not available                                           </td></tr>\n",
       "\t<tr><td>Responder       </td><td>Responders are defined as patients with mRECIST of Partial Response or Complete Response, whereas Non-Responders are those with Progressive Disease or Stable Disease.</td><td>true_responder        </td><td>Responder          </td><td>Patient with mRECIST of Partial Response or Complete Response                 </td></tr>\n",
       "</tbody>\n",
       "</table>\n"
      ],
      "text/latex": [
       "A tibble: 9 × 5\n",
       "\\begin{tabular}{lllll}\n",
       " parent\\_tag\\_name & parent\\_tag\\_characteristics & tag\\_name & tag\\_short\\_display & tag\\_characteristics\\\\\n",
       " <chr> & <chr> & <chr> & <chr> & <chr>\\\\\n",
       "\\hline\n",
       "\t Clinical\\_Benefit & Patients have clinical benefit when mRECIST response is different than Progressive Disease.                                                                            & false\\_clinical\\_benefit & No Clinical Benefit & Patient with mRECIST of Progressive Disease                                   \\\\\n",
       "\t Clinical\\_Benefit & Patients have clinical benefit when mRECIST response is different than Progressive Disease.                                                                            & na\\_clinical\\_benefit    & Not available       & Clinical Benefit information not available                                    \\\\\n",
       "\t Clinical\\_Benefit & Patients have clinical benefit when mRECIST response is different than Progressive Disease.                                                                            & true\\_clinical\\_benefit  & Clinical Benefit    & Patient with mRECIST of Complete Response, Partial Response, or Stable Disease\\\\\n",
       "\t Progression      & Progressors are defined as patients with mRECIST of Progressive Disease.                                                                                               & false\\_progression      & Non-Progressor      & Patient with mRECIST of Complete Response, Partial Response, or Stable Disease\\\\\n",
       "\t Progression      & Progressors are defined as patients with mRECIST of Progressive Disease.                                                                                               & na\\_progression         & Not available       & Progression information not available                                         \\\\\n",
       "\t Progression      & Progressors are defined as patients with mRECIST of Progressive Disease.                                                                                               & true\\_progression       & Progressor          & Patient with mRECIST of Progressive Disease                                   \\\\\n",
       "\t Responder        & Responders are defined as patients with mRECIST of Partial Response or Complete Response, whereas Non-Responders are those with Progressive Disease or Stable Disease. & false\\_responder        & Non-Responder       & Patient with mRECIST of Progressive Disease or Stable Disease                 \\\\\n",
       "\t Responder        & Responders are defined as patients with mRECIST of Partial Response or Complete Response, whereas Non-Responders are those with Progressive Disease or Stable Disease. & na\\_responder           & Not available       & Responder information not available                                           \\\\\n",
       "\t Responder        & Responders are defined as patients with mRECIST of Partial Response or Complete Response, whereas Non-Responders are those with Progressive Disease or Stable Disease. & true\\_responder         & Responder           & Patient with mRECIST of Partial Response or Complete Response                 \\\\\n",
       "\\end{tabular}\n"
      ],
      "text/markdown": [
       "\n",
       "A tibble: 9 × 5\n",
       "\n",
       "| parent_tag_name &lt;chr&gt; | parent_tag_characteristics &lt;chr&gt; | tag_name &lt;chr&gt; | tag_short_display &lt;chr&gt; | tag_characteristics &lt;chr&gt; |\n",
       "|---|---|---|---|---|\n",
       "| Clinical_Benefit | Patients have clinical benefit when mRECIST response is different than Progressive Disease.                                                                            | false_clinical_benefit | No Clinical Benefit | Patient with mRECIST of Progressive Disease                                    |\n",
       "| Clinical_Benefit | Patients have clinical benefit when mRECIST response is different than Progressive Disease.                                                                            | na_clinical_benefit    | Not available       | Clinical Benefit information not available                                     |\n",
       "| Clinical_Benefit | Patients have clinical benefit when mRECIST response is different than Progressive Disease.                                                                            | true_clinical_benefit  | Clinical Benefit    | Patient with mRECIST of Complete Response, Partial Response, or Stable Disease |\n",
       "| Progression      | Progressors are defined as patients with mRECIST of Progressive Disease.                                                                                               | false_progression      | Non-Progressor      | Patient with mRECIST of Complete Response, Partial Response, or Stable Disease |\n",
       "| Progression      | Progressors are defined as patients with mRECIST of Progressive Disease.                                                                                               | na_progression         | Not available       | Progression information not available                                          |\n",
       "| Progression      | Progressors are defined as patients with mRECIST of Progressive Disease.                                                                                               | true_progression       | Progressor          | Patient with mRECIST of Progressive Disease                                    |\n",
       "| Responder        | Responders are defined as patients with mRECIST of Partial Response or Complete Response, whereas Non-Responders are those with Progressive Disease or Stable Disease. | false_responder        | Non-Responder       | Patient with mRECIST of Progressive Disease or Stable Disease                  |\n",
       "| Responder        | Responders are defined as patients with mRECIST of Partial Response or Complete Response, whereas Non-Responders are those with Progressive Disease or Stable Disease. | na_responder           | Not available       | Responder information not available                                            |\n",
       "| Responder        | Responders are defined as patients with mRECIST of Partial Response or Complete Response, whereas Non-Responders are those with Progressive Disease or Stable Disease. | true_responder         | Responder           | Patient with mRECIST of Partial Response or Complete Response                  |\n",
       "\n"
      ],
      "text/plain": [
       "  parent_tag_name \n",
       "1 Clinical_Benefit\n",
       "2 Clinical_Benefit\n",
       "3 Clinical_Benefit\n",
       "4 Progression     \n",
       "5 Progression     \n",
       "6 Progression     \n",
       "7 Responder       \n",
       "8 Responder       \n",
       "9 Responder       \n",
       "  parent_tag_characteristics                                                                                                                                            \n",
       "1 Patients have clinical benefit when mRECIST response is different than Progressive Disease.                                                                           \n",
       "2 Patients have clinical benefit when mRECIST response is different than Progressive Disease.                                                                           \n",
       "3 Patients have clinical benefit when mRECIST response is different than Progressive Disease.                                                                           \n",
       "4 Progressors are defined as patients with mRECIST of Progressive Disease.                                                                                              \n",
       "5 Progressors are defined as patients with mRECIST of Progressive Disease.                                                                                              \n",
       "6 Progressors are defined as patients with mRECIST of Progressive Disease.                                                                                              \n",
       "7 Responders are defined as patients with mRECIST of Partial Response or Complete Response, whereas Non-Responders are those with Progressive Disease or Stable Disease.\n",
       "8 Responders are defined as patients with mRECIST of Partial Response or Complete Response, whereas Non-Responders are those with Progressive Disease or Stable Disease.\n",
       "9 Responders are defined as patients with mRECIST of Partial Response or Complete Response, whereas Non-Responders are those with Progressive Disease or Stable Disease.\n",
       "  tag_name               tag_short_display  \n",
       "1 false_clinical_benefit No Clinical Benefit\n",
       "2 na_clinical_benefit    Not available      \n",
       "3 true_clinical_benefit  Clinical Benefit   \n",
       "4 false_progression      Non-Progressor     \n",
       "5 na_progression         Not available      \n",
       "6 true_progression       Progressor         \n",
       "7 false_responder        Non-Responder      \n",
       "8 na_responder           Not available      \n",
       "9 true_responder         Responder          \n",
       "  tag_characteristics                                                           \n",
       "1 Patient with mRECIST of Progressive Disease                                   \n",
       "2 Clinical Benefit information not available                                    \n",
       "3 Patient with mRECIST of Complete Response, Partial Response, or Stable Disease\n",
       "4 Patient with mRECIST of Complete Response, Partial Response, or Stable Disease\n",
       "5 Progression information not available                                         \n",
       "6 Patient with mRECIST of Progressive Disease                                   \n",
       "7 Patient with mRECIST of Progressive Disease or Stable Disease                 \n",
       "8 Responder information not available                                           \n",
       "9 Patient with mRECIST of Partial Response or Complete Response                 "
      ]
     },
     "metadata": {},
     "output_type": "display_data"
    }
   ],
   "source": [
    "outcome_variables  <- c(\"Responder\", \"Clinical_Benefit\", \"Progression\")\n",
    "iatlasGraphQLClient::query_tags_with_parent_tags(parent_tags = outcome_variables) %>%\n",
    "    dplyr::select(parent_tag_name, parent_tag_characteristics, tag_name, tag_short_display, tag_characteristics) %>% \n",
    "    dplyr::arrange(parent_tag_name)"
   ]
  },
  {
   "cell_type": "markdown",
   "id": "06dacb4d",
   "metadata": {},
   "source": [
    "# Querying the CRI iAtlas database\n",
    "\n",
    "Each type of data has a query function in `iatlasGraphQLClient`, as summarized below:\n",
    "\n",
    "- For immunefeatures: `iatlasGraphQLClient::query_feature_values()`\n",
    "- For gene expression data: `iatlasGraphQLClient::query_gene_expression()`\n",
    "- For clinical annotation: `iatlasGraphQLClient::query_tag_samples_parents()`\n",
    "\n",
    "To illustrate how to get the ICI data from the iAtlas database, we will get the data that follows the parameters listed below:\n",
    "\n",
    "- *Dataset:* Hugo 2016 - SKCM, PD-1\n",
    "\n",
    "- *Features:* IMPRES (Auslander et al, 2018), IPRES (Vincent lab analysis of Hugo et al data, unpublished), Cytolytic Score (Roufas et al, 2018), CTLA4/Th1 (Nishimura, 2004; Bindea et al., 2013)\n",
    "\n",
    "- *Gene expression:* ADORA2A, CTLA4, EDNRB, TLR4\n",
    "\n",
    "- *Clinical Annotation:* Response, Gender."
   ]
  },
  {
   "cell_type": "code",
   "execution_count": 18,
   "id": "799e3f70",
   "metadata": {},
   "outputs": [
    {
     "data": {
      "text/html": [
       "<table class=\"dataframe\">\n",
       "<caption>A tibble: 6 × 6</caption>\n",
       "<thead>\n",
       "\t<tr><th scope=col>sample</th><th scope=col>feature_name</th><th scope=col>feature_display</th><th scope=col>feature_value</th><th scope=col>feature_order</th><th scope=col>feature_class</th></tr>\n",
       "\t<tr><th scope=col>&lt;chr&gt;</th><th scope=col>&lt;chr&gt;</th><th scope=col>&lt;chr&gt;</th><th scope=col>&lt;dbl&gt;</th><th scope=col>&lt;lgl&gt;</th><th scope=col>&lt;chr&gt;</th></tr>\n",
       "</thead>\n",
       "<tbody>\n",
       "\t<tr><td>HugoLo_IPRES_2016-Pt01-ar-279</td><td>BIOCARTA_CTLA4_V_Bindea_Th1_Cells</td><td>CTLA4 vs Th1</td><td>1.001012</td><td>NA</td><td>Predictor of Response to Immune Checkpoint Treatment</td></tr>\n",
       "\t<tr><td>HugoLo_IPRES_2016-Pt02-ar-280</td><td>BIOCARTA_CTLA4_V_Bindea_Th1_Cells</td><td>CTLA4 vs Th1</td><td>1.190649</td><td>NA</td><td>Predictor of Response to Immune Checkpoint Treatment</td></tr>\n",
       "\t<tr><td>HugoLo_IPRES_2016-Pt04-ar-281</td><td>BIOCARTA_CTLA4_V_Bindea_Th1_Cells</td><td>CTLA4 vs Th1</td><td>1.179757</td><td>NA</td><td>Predictor of Response to Immune Checkpoint Treatment</td></tr>\n",
       "\t<tr><td>HugoLo_IPRES_2016-Pt05-ar-282</td><td>BIOCARTA_CTLA4_V_Bindea_Th1_Cells</td><td>CTLA4 vs Th1</td><td>1.171726</td><td>NA</td><td>Predictor of Response to Immune Checkpoint Treatment</td></tr>\n",
       "\t<tr><td>HugoLo_IPRES_2016-Pt06-ar-283</td><td>BIOCARTA_CTLA4_V_Bindea_Th1_Cells</td><td>CTLA4 vs Th1</td><td>1.290074</td><td>NA</td><td>Predictor of Response to Immune Checkpoint Treatment</td></tr>\n",
       "\t<tr><td>HugoLo_IPRES_2016-Pt07-ar-284</td><td>BIOCARTA_CTLA4_V_Bindea_Th1_Cells</td><td>CTLA4 vs Th1</td><td>0.924285</td><td>NA</td><td>Predictor of Response to Immune Checkpoint Treatment</td></tr>\n",
       "</tbody>\n",
       "</table>\n"
      ],
      "text/latex": [
       "A tibble: 6 × 6\n",
       "\\begin{tabular}{llllll}\n",
       " sample & feature\\_name & feature\\_display & feature\\_value & feature\\_order & feature\\_class\\\\\n",
       " <chr> & <chr> & <chr> & <dbl> & <lgl> & <chr>\\\\\n",
       "\\hline\n",
       "\t HugoLo\\_IPRES\\_2016-Pt01-ar-279 & BIOCARTA\\_CTLA4\\_V\\_Bindea\\_Th1\\_Cells & CTLA4 vs Th1 & 1.001012 & NA & Predictor of Response to Immune Checkpoint Treatment\\\\\n",
       "\t HugoLo\\_IPRES\\_2016-Pt02-ar-280 & BIOCARTA\\_CTLA4\\_V\\_Bindea\\_Th1\\_Cells & CTLA4 vs Th1 & 1.190649 & NA & Predictor of Response to Immune Checkpoint Treatment\\\\\n",
       "\t HugoLo\\_IPRES\\_2016-Pt04-ar-281 & BIOCARTA\\_CTLA4\\_V\\_Bindea\\_Th1\\_Cells & CTLA4 vs Th1 & 1.179757 & NA & Predictor of Response to Immune Checkpoint Treatment\\\\\n",
       "\t HugoLo\\_IPRES\\_2016-Pt05-ar-282 & BIOCARTA\\_CTLA4\\_V\\_Bindea\\_Th1\\_Cells & CTLA4 vs Th1 & 1.171726 & NA & Predictor of Response to Immune Checkpoint Treatment\\\\\n",
       "\t HugoLo\\_IPRES\\_2016-Pt06-ar-283 & BIOCARTA\\_CTLA4\\_V\\_Bindea\\_Th1\\_Cells & CTLA4 vs Th1 & 1.290074 & NA & Predictor of Response to Immune Checkpoint Treatment\\\\\n",
       "\t HugoLo\\_IPRES\\_2016-Pt07-ar-284 & BIOCARTA\\_CTLA4\\_V\\_Bindea\\_Th1\\_Cells & CTLA4 vs Th1 & 0.924285 & NA & Predictor of Response to Immune Checkpoint Treatment\\\\\n",
       "\\end{tabular}\n"
      ],
      "text/markdown": [
       "\n",
       "A tibble: 6 × 6\n",
       "\n",
       "| sample &lt;chr&gt; | feature_name &lt;chr&gt; | feature_display &lt;chr&gt; | feature_value &lt;dbl&gt; | feature_order &lt;lgl&gt; | feature_class &lt;chr&gt; |\n",
       "|---|---|---|---|---|---|\n",
       "| HugoLo_IPRES_2016-Pt01-ar-279 | BIOCARTA_CTLA4_V_Bindea_Th1_Cells | CTLA4 vs Th1 | 1.001012 | NA | Predictor of Response to Immune Checkpoint Treatment |\n",
       "| HugoLo_IPRES_2016-Pt02-ar-280 | BIOCARTA_CTLA4_V_Bindea_Th1_Cells | CTLA4 vs Th1 | 1.190649 | NA | Predictor of Response to Immune Checkpoint Treatment |\n",
       "| HugoLo_IPRES_2016-Pt04-ar-281 | BIOCARTA_CTLA4_V_Bindea_Th1_Cells | CTLA4 vs Th1 | 1.179757 | NA | Predictor of Response to Immune Checkpoint Treatment |\n",
       "| HugoLo_IPRES_2016-Pt05-ar-282 | BIOCARTA_CTLA4_V_Bindea_Th1_Cells | CTLA4 vs Th1 | 1.171726 | NA | Predictor of Response to Immune Checkpoint Treatment |\n",
       "| HugoLo_IPRES_2016-Pt06-ar-283 | BIOCARTA_CTLA4_V_Bindea_Th1_Cells | CTLA4 vs Th1 | 1.290074 | NA | Predictor of Response to Immune Checkpoint Treatment |\n",
       "| HugoLo_IPRES_2016-Pt07-ar-284 | BIOCARTA_CTLA4_V_Bindea_Th1_Cells | CTLA4 vs Th1 | 0.924285 | NA | Predictor of Response to Immune Checkpoint Treatment |\n",
       "\n"
      ],
      "text/plain": [
       "  sample                        feature_name                     \n",
       "1 HugoLo_IPRES_2016-Pt01-ar-279 BIOCARTA_CTLA4_V_Bindea_Th1_Cells\n",
       "2 HugoLo_IPRES_2016-Pt02-ar-280 BIOCARTA_CTLA4_V_Bindea_Th1_Cells\n",
       "3 HugoLo_IPRES_2016-Pt04-ar-281 BIOCARTA_CTLA4_V_Bindea_Th1_Cells\n",
       "4 HugoLo_IPRES_2016-Pt05-ar-282 BIOCARTA_CTLA4_V_Bindea_Th1_Cells\n",
       "5 HugoLo_IPRES_2016-Pt06-ar-283 BIOCARTA_CTLA4_V_Bindea_Th1_Cells\n",
       "6 HugoLo_IPRES_2016-Pt07-ar-284 BIOCARTA_CTLA4_V_Bindea_Th1_Cells\n",
       "  feature_display feature_value feature_order\n",
       "1 CTLA4 vs Th1    1.001012      NA           \n",
       "2 CTLA4 vs Th1    1.190649      NA           \n",
       "3 CTLA4 vs Th1    1.179757      NA           \n",
       "4 CTLA4 vs Th1    1.171726      NA           \n",
       "5 CTLA4 vs Th1    1.290074      NA           \n",
       "6 CTLA4 vs Th1    0.924285      NA           \n",
       "  feature_class                                       \n",
       "1 Predictor of Response to Immune Checkpoint Treatment\n",
       "2 Predictor of Response to Immune Checkpoint Treatment\n",
       "3 Predictor of Response to Immune Checkpoint Treatment\n",
       "4 Predictor of Response to Immune Checkpoint Treatment\n",
       "5 Predictor of Response to Immune Checkpoint Treatment\n",
       "6 Predictor of Response to Immune Checkpoint Treatment"
      ]
     },
     "metadata": {},
     "output_type": "display_data"
    },
    {
     "data": {
      "text/html": [
       "<table class=\"dataframe\">\n",
       "<caption>A tibble: 6 × 4</caption>\n",
       "<thead>\n",
       "\t<tr><th scope=col>sample</th><th scope=col>entrez</th><th scope=col>hgnc</th><th scope=col>rna_seq_expr</th></tr>\n",
       "\t<tr><th scope=col>&lt;chr&gt;</th><th scope=col>&lt;int&gt;</th><th scope=col>&lt;chr&gt;</th><th scope=col>&lt;dbl&gt;</th></tr>\n",
       "</thead>\n",
       "<tbody>\n",
       "\t<tr><td>HugoLo_IPRES_2016-Pt08-ar-285</td><td>135</td><td>ADORA2A</td><td> 55.307</td></tr>\n",
       "\t<tr><td>HugoLo_IPRES_2016-Pt06-ar-283</td><td>135</td><td>ADORA2A</td><td> 57.222</td></tr>\n",
       "\t<tr><td>HugoLo_IPRES_2016-Pt05-ar-282</td><td>135</td><td>ADORA2A</td><td> 58.891</td></tr>\n",
       "\t<tr><td>HugoLo_IPRES_2016-Pt12-ar-288</td><td>135</td><td>ADORA2A</td><td> 61.801</td></tr>\n",
       "\t<tr><td>HugoLo_IPRES_2016-Pt19-ar-293</td><td>135</td><td>ADORA2A</td><td> 98.325</td></tr>\n",
       "\t<tr><td>HugoLo_IPRES_2016-Pt31-ar-302</td><td>135</td><td>ADORA2A</td><td>100.276</td></tr>\n",
       "</tbody>\n",
       "</table>\n"
      ],
      "text/latex": [
       "A tibble: 6 × 4\n",
       "\\begin{tabular}{llll}\n",
       " sample & entrez & hgnc & rna\\_seq\\_expr\\\\\n",
       " <chr> & <int> & <chr> & <dbl>\\\\\n",
       "\\hline\n",
       "\t HugoLo\\_IPRES\\_2016-Pt08-ar-285 & 135 & ADORA2A &  55.307\\\\\n",
       "\t HugoLo\\_IPRES\\_2016-Pt06-ar-283 & 135 & ADORA2A &  57.222\\\\\n",
       "\t HugoLo\\_IPRES\\_2016-Pt05-ar-282 & 135 & ADORA2A &  58.891\\\\\n",
       "\t HugoLo\\_IPRES\\_2016-Pt12-ar-288 & 135 & ADORA2A &  61.801\\\\\n",
       "\t HugoLo\\_IPRES\\_2016-Pt19-ar-293 & 135 & ADORA2A &  98.325\\\\\n",
       "\t HugoLo\\_IPRES\\_2016-Pt31-ar-302 & 135 & ADORA2A & 100.276\\\\\n",
       "\\end{tabular}\n"
      ],
      "text/markdown": [
       "\n",
       "A tibble: 6 × 4\n",
       "\n",
       "| sample &lt;chr&gt; | entrez &lt;int&gt; | hgnc &lt;chr&gt; | rna_seq_expr &lt;dbl&gt; |\n",
       "|---|---|---|---|\n",
       "| HugoLo_IPRES_2016-Pt08-ar-285 | 135 | ADORA2A |  55.307 |\n",
       "| HugoLo_IPRES_2016-Pt06-ar-283 | 135 | ADORA2A |  57.222 |\n",
       "| HugoLo_IPRES_2016-Pt05-ar-282 | 135 | ADORA2A |  58.891 |\n",
       "| HugoLo_IPRES_2016-Pt12-ar-288 | 135 | ADORA2A |  61.801 |\n",
       "| HugoLo_IPRES_2016-Pt19-ar-293 | 135 | ADORA2A |  98.325 |\n",
       "| HugoLo_IPRES_2016-Pt31-ar-302 | 135 | ADORA2A | 100.276 |\n",
       "\n"
      ],
      "text/plain": [
       "  sample                        entrez hgnc    rna_seq_expr\n",
       "1 HugoLo_IPRES_2016-Pt08-ar-285 135    ADORA2A  55.307     \n",
       "2 HugoLo_IPRES_2016-Pt06-ar-283 135    ADORA2A  57.222     \n",
       "3 HugoLo_IPRES_2016-Pt05-ar-282 135    ADORA2A  58.891     \n",
       "4 HugoLo_IPRES_2016-Pt12-ar-288 135    ADORA2A  61.801     \n",
       "5 HugoLo_IPRES_2016-Pt19-ar-293 135    ADORA2A  98.325     \n",
       "6 HugoLo_IPRES_2016-Pt31-ar-302 135    ADORA2A 100.276     "
      ]
     },
     "metadata": {},
     "output_type": "display_data"
    },
    {
     "data": {
      "text/html": [
       "<table class=\"dataframe\">\n",
       "<caption>A tibble: 6 × 15</caption>\n",
       "<thead>\n",
       "\t<tr><th scope=col>sample_name</th><th scope=col>parent_tag_name</th><th scope=col>parent_tag_long_display</th><th scope=col>parent_tag_short_display</th><th scope=col>parent_tag_characteristics</th><th scope=col>parent_tag_color</th><th scope=col>parent_tag_order</th><th scope=col>parent_tag_type</th><th scope=col>tag_name</th><th scope=col>tag_long_display</th><th scope=col>tag_short_display</th><th scope=col>tag_characteristics</th><th scope=col>tag_color</th><th scope=col>tag_order</th><th scope=col>tag_type</th></tr>\n",
       "\t<tr><th scope=col>&lt;chr&gt;</th><th scope=col>&lt;chr&gt;</th><th scope=col>&lt;chr&gt;</th><th scope=col>&lt;chr&gt;</th><th scope=col>&lt;chr&gt;</th><th scope=col>&lt;lgl&gt;</th><th scope=col>&lt;int&gt;</th><th scope=col>&lt;chr&gt;</th><th scope=col>&lt;chr&gt;</th><th scope=col>&lt;chr&gt;</th><th scope=col>&lt;chr&gt;</th><th scope=col>&lt;chr&gt;</th><th scope=col>&lt;chr&gt;</th><th scope=col>&lt;int&gt;</th><th scope=col>&lt;chr&gt;</th></tr>\n",
       "</thead>\n",
       "<tbody>\n",
       "\t<tr><td>HugoLo_IPRES_2016-Pt08-ar-285</td><td>Response</td><td>mRECIST Response</td><td>mRECIST Response</td><td>Response to treatment following modified Response Evaluation Criteria in Solid Tumors (mRECIST) guidelines.</td><td>NA</td><td>1</td><td>parent_group</td><td>complete_response_response</td><td>Complete Response</td><td>Complete Response</td><td>Complete Response (CR) following modified Response Evaluation Criteria in Solid Tumors (mRECIST) guidelines</td><td>#009E73</td><td>1</td><td>group</td></tr>\n",
       "\t<tr><td>HugoLo_IPRES_2016-Pt09-ar-286</td><td>Response</td><td>mRECIST Response</td><td>mRECIST Response</td><td>Response to treatment following modified Response Evaluation Criteria in Solid Tumors (mRECIST) guidelines.</td><td>NA</td><td>1</td><td>parent_group</td><td>complete_response_response</td><td>Complete Response</td><td>Complete Response</td><td>Complete Response (CR) following modified Response Evaluation Criteria in Solid Tumors (mRECIST) guidelines</td><td>#009E73</td><td>1</td><td>group</td></tr>\n",
       "\t<tr><td>HugoLo_IPRES_2016-Pt13-ar-289</td><td>Response</td><td>mRECIST Response</td><td>mRECIST Response</td><td>Response to treatment following modified Response Evaluation Criteria in Solid Tumors (mRECIST) guidelines.</td><td>NA</td><td>1</td><td>parent_group</td><td>complete_response_response</td><td>Complete Response</td><td>Complete Response</td><td>Complete Response (CR) following modified Response Evaluation Criteria in Solid Tumors (mRECIST) guidelines</td><td>#009E73</td><td>1</td><td>group</td></tr>\n",
       "\t<tr><td>HugoLo_IPRES_2016-Pt27-ar-298</td><td>Response</td><td>mRECIST Response</td><td>mRECIST Response</td><td>Response to treatment following modified Response Evaluation Criteria in Solid Tumors (mRECIST) guidelines.</td><td>NA</td><td>1</td><td>parent_group</td><td>complete_response_response</td><td>Complete Response</td><td>Complete Response</td><td>Complete Response (CR) following modified Response Evaluation Criteria in Solid Tumors (mRECIST) guidelines</td><td>#009E73</td><td>1</td><td>group</td></tr>\n",
       "\t<tr><td>HugoLo_IPRES_2016-Pt02-ar-280</td><td>Response</td><td>mRECIST Response</td><td>mRECIST Response</td><td>Response to treatment following modified Response Evaluation Criteria in Solid Tumors (mRECIST) guidelines.</td><td>NA</td><td>1</td><td>parent_group</td><td>partial_response_response </td><td>Partial Response </td><td>Partial Response </td><td>Partial Response (PR) following modified Response Evaluation Criteria in Solid Tumors (mRECIST) guidelines </td><td>#0072B2</td><td>2</td><td>group</td></tr>\n",
       "\t<tr><td>HugoLo_IPRES_2016-Pt04-ar-281</td><td>Response</td><td>mRECIST Response</td><td>mRECIST Response</td><td>Response to treatment following modified Response Evaluation Criteria in Solid Tumors (mRECIST) guidelines.</td><td>NA</td><td>1</td><td>parent_group</td><td>partial_response_response </td><td>Partial Response </td><td>Partial Response </td><td>Partial Response (PR) following modified Response Evaluation Criteria in Solid Tumors (mRECIST) guidelines </td><td>#0072B2</td><td>2</td><td>group</td></tr>\n",
       "</tbody>\n",
       "</table>\n"
      ],
      "text/latex": [
       "A tibble: 6 × 15\n",
       "\\begin{tabular}{lllllllllllllll}\n",
       " sample\\_name & parent\\_tag\\_name & parent\\_tag\\_long\\_display & parent\\_tag\\_short\\_display & parent\\_tag\\_characteristics & parent\\_tag\\_color & parent\\_tag\\_order & parent\\_tag\\_type & tag\\_name & tag\\_long\\_display & tag\\_short\\_display & tag\\_characteristics & tag\\_color & tag\\_order & tag\\_type\\\\\n",
       " <chr> & <chr> & <chr> & <chr> & <chr> & <lgl> & <int> & <chr> & <chr> & <chr> & <chr> & <chr> & <chr> & <int> & <chr>\\\\\n",
       "\\hline\n",
       "\t HugoLo\\_IPRES\\_2016-Pt08-ar-285 & Response & mRECIST Response & mRECIST Response & Response to treatment following modified Response Evaluation Criteria in Solid Tumors (mRECIST) guidelines. & NA & 1 & parent\\_group & complete\\_response\\_response & Complete Response & Complete Response & Complete Response (CR) following modified Response Evaluation Criteria in Solid Tumors (mRECIST) guidelines & \\#009E73 & 1 & group\\\\\n",
       "\t HugoLo\\_IPRES\\_2016-Pt09-ar-286 & Response & mRECIST Response & mRECIST Response & Response to treatment following modified Response Evaluation Criteria in Solid Tumors (mRECIST) guidelines. & NA & 1 & parent\\_group & complete\\_response\\_response & Complete Response & Complete Response & Complete Response (CR) following modified Response Evaluation Criteria in Solid Tumors (mRECIST) guidelines & \\#009E73 & 1 & group\\\\\n",
       "\t HugoLo\\_IPRES\\_2016-Pt13-ar-289 & Response & mRECIST Response & mRECIST Response & Response to treatment following modified Response Evaluation Criteria in Solid Tumors (mRECIST) guidelines. & NA & 1 & parent\\_group & complete\\_response\\_response & Complete Response & Complete Response & Complete Response (CR) following modified Response Evaluation Criteria in Solid Tumors (mRECIST) guidelines & \\#009E73 & 1 & group\\\\\n",
       "\t HugoLo\\_IPRES\\_2016-Pt27-ar-298 & Response & mRECIST Response & mRECIST Response & Response to treatment following modified Response Evaluation Criteria in Solid Tumors (mRECIST) guidelines. & NA & 1 & parent\\_group & complete\\_response\\_response & Complete Response & Complete Response & Complete Response (CR) following modified Response Evaluation Criteria in Solid Tumors (mRECIST) guidelines & \\#009E73 & 1 & group\\\\\n",
       "\t HugoLo\\_IPRES\\_2016-Pt02-ar-280 & Response & mRECIST Response & mRECIST Response & Response to treatment following modified Response Evaluation Criteria in Solid Tumors (mRECIST) guidelines. & NA & 1 & parent\\_group & partial\\_response\\_response  & Partial Response  & Partial Response  & Partial Response (PR) following modified Response Evaluation Criteria in Solid Tumors (mRECIST) guidelines  & \\#0072B2 & 2 & group\\\\\n",
       "\t HugoLo\\_IPRES\\_2016-Pt04-ar-281 & Response & mRECIST Response & mRECIST Response & Response to treatment following modified Response Evaluation Criteria in Solid Tumors (mRECIST) guidelines. & NA & 1 & parent\\_group & partial\\_response\\_response  & Partial Response  & Partial Response  & Partial Response (PR) following modified Response Evaluation Criteria in Solid Tumors (mRECIST) guidelines  & \\#0072B2 & 2 & group\\\\\n",
       "\\end{tabular}\n"
      ],
      "text/markdown": [
       "\n",
       "A tibble: 6 × 15\n",
       "\n",
       "| sample_name &lt;chr&gt; | parent_tag_name &lt;chr&gt; | parent_tag_long_display &lt;chr&gt; | parent_tag_short_display &lt;chr&gt; | parent_tag_characteristics &lt;chr&gt; | parent_tag_color &lt;lgl&gt; | parent_tag_order &lt;int&gt; | parent_tag_type &lt;chr&gt; | tag_name &lt;chr&gt; | tag_long_display &lt;chr&gt; | tag_short_display &lt;chr&gt; | tag_characteristics &lt;chr&gt; | tag_color &lt;chr&gt; | tag_order &lt;int&gt; | tag_type &lt;chr&gt; |\n",
       "|---|---|---|---|---|---|---|---|---|---|---|---|---|---|---|\n",
       "| HugoLo_IPRES_2016-Pt08-ar-285 | Response | mRECIST Response | mRECIST Response | Response to treatment following modified Response Evaluation Criteria in Solid Tumors (mRECIST) guidelines. | NA | 1 | parent_group | complete_response_response | Complete Response | Complete Response | Complete Response (CR) following modified Response Evaluation Criteria in Solid Tumors (mRECIST) guidelines | #009E73 | 1 | group |\n",
       "| HugoLo_IPRES_2016-Pt09-ar-286 | Response | mRECIST Response | mRECIST Response | Response to treatment following modified Response Evaluation Criteria in Solid Tumors (mRECIST) guidelines. | NA | 1 | parent_group | complete_response_response | Complete Response | Complete Response | Complete Response (CR) following modified Response Evaluation Criteria in Solid Tumors (mRECIST) guidelines | #009E73 | 1 | group |\n",
       "| HugoLo_IPRES_2016-Pt13-ar-289 | Response | mRECIST Response | mRECIST Response | Response to treatment following modified Response Evaluation Criteria in Solid Tumors (mRECIST) guidelines. | NA | 1 | parent_group | complete_response_response | Complete Response | Complete Response | Complete Response (CR) following modified Response Evaluation Criteria in Solid Tumors (mRECIST) guidelines | #009E73 | 1 | group |\n",
       "| HugoLo_IPRES_2016-Pt27-ar-298 | Response | mRECIST Response | mRECIST Response | Response to treatment following modified Response Evaluation Criteria in Solid Tumors (mRECIST) guidelines. | NA | 1 | parent_group | complete_response_response | Complete Response | Complete Response | Complete Response (CR) following modified Response Evaluation Criteria in Solid Tumors (mRECIST) guidelines | #009E73 | 1 | group |\n",
       "| HugoLo_IPRES_2016-Pt02-ar-280 | Response | mRECIST Response | mRECIST Response | Response to treatment following modified Response Evaluation Criteria in Solid Tumors (mRECIST) guidelines. | NA | 1 | parent_group | partial_response_response  | Partial Response  | Partial Response  | Partial Response (PR) following modified Response Evaluation Criteria in Solid Tumors (mRECIST) guidelines  | #0072B2 | 2 | group |\n",
       "| HugoLo_IPRES_2016-Pt04-ar-281 | Response | mRECIST Response | mRECIST Response | Response to treatment following modified Response Evaluation Criteria in Solid Tumors (mRECIST) guidelines. | NA | 1 | parent_group | partial_response_response  | Partial Response  | Partial Response  | Partial Response (PR) following modified Response Evaluation Criteria in Solid Tumors (mRECIST) guidelines  | #0072B2 | 2 | group |\n",
       "\n"
      ],
      "text/plain": [
       "  sample_name                   parent_tag_name parent_tag_long_display\n",
       "1 HugoLo_IPRES_2016-Pt08-ar-285 Response        mRECIST Response       \n",
       "2 HugoLo_IPRES_2016-Pt09-ar-286 Response        mRECIST Response       \n",
       "3 HugoLo_IPRES_2016-Pt13-ar-289 Response        mRECIST Response       \n",
       "4 HugoLo_IPRES_2016-Pt27-ar-298 Response        mRECIST Response       \n",
       "5 HugoLo_IPRES_2016-Pt02-ar-280 Response        mRECIST Response       \n",
       "6 HugoLo_IPRES_2016-Pt04-ar-281 Response        mRECIST Response       \n",
       "  parent_tag_short_display\n",
       "1 mRECIST Response        \n",
       "2 mRECIST Response        \n",
       "3 mRECIST Response        \n",
       "4 mRECIST Response        \n",
       "5 mRECIST Response        \n",
       "6 mRECIST Response        \n",
       "  parent_tag_characteristics                                                                                 \n",
       "1 Response to treatment following modified Response Evaluation Criteria in Solid Tumors (mRECIST) guidelines.\n",
       "2 Response to treatment following modified Response Evaluation Criteria in Solid Tumors (mRECIST) guidelines.\n",
       "3 Response to treatment following modified Response Evaluation Criteria in Solid Tumors (mRECIST) guidelines.\n",
       "4 Response to treatment following modified Response Evaluation Criteria in Solid Tumors (mRECIST) guidelines.\n",
       "5 Response to treatment following modified Response Evaluation Criteria in Solid Tumors (mRECIST) guidelines.\n",
       "6 Response to treatment following modified Response Evaluation Criteria in Solid Tumors (mRECIST) guidelines.\n",
       "  parent_tag_color parent_tag_order parent_tag_type tag_name                  \n",
       "1 NA               1                parent_group    complete_response_response\n",
       "2 NA               1                parent_group    complete_response_response\n",
       "3 NA               1                parent_group    complete_response_response\n",
       "4 NA               1                parent_group    complete_response_response\n",
       "5 NA               1                parent_group    partial_response_response \n",
       "6 NA               1                parent_group    partial_response_response \n",
       "  tag_long_display  tag_short_display\n",
       "1 Complete Response Complete Response\n",
       "2 Complete Response Complete Response\n",
       "3 Complete Response Complete Response\n",
       "4 Complete Response Complete Response\n",
       "5 Partial Response  Partial Response \n",
       "6 Partial Response  Partial Response \n",
       "  tag_characteristics                                                                                        \n",
       "1 Complete Response (CR) following modified Response Evaluation Criteria in Solid Tumors (mRECIST) guidelines\n",
       "2 Complete Response (CR) following modified Response Evaluation Criteria in Solid Tumors (mRECIST) guidelines\n",
       "3 Complete Response (CR) following modified Response Evaluation Criteria in Solid Tumors (mRECIST) guidelines\n",
       "4 Complete Response (CR) following modified Response Evaluation Criteria in Solid Tumors (mRECIST) guidelines\n",
       "5 Partial Response (PR) following modified Response Evaluation Criteria in Solid Tumors (mRECIST) guidelines \n",
       "6 Partial Response (PR) following modified Response Evaluation Criteria in Solid Tumors (mRECIST) guidelines \n",
       "  tag_color tag_order tag_type\n",
       "1 #009E73   1         group   \n",
       "2 #009E73   1         group   \n",
       "3 #009E73   1         group   \n",
       "4 #009E73   1         group   \n",
       "5 #0072B2   2         group   \n",
       "6 #0072B2   2         group   "
      ]
     },
     "metadata": {},
     "output_type": "display_data"
    }
   ],
   "source": [
    "#For immune features, use names from features_df$name\n",
    "features   <- iatlasGraphQLClient::query_feature_values(cohorts = \"HugoLo_IPRES_2016\", \n",
    "                                                      features = c(\"IMPRES\", \n",
    "                                                                   \"Vincent_IPRES_NonResponder\", \n",
    "                                                                   \"Cytolytic_Score\", \n",
    "                                                                   \"BIOCARTA_CTLA4_V_Bindea_Th1_Cells\")) \n",
    "\n",
    "#For gene expression, we need the gene Entrez ID to query the iAtlas database\n",
    "genes_entrez <- c(135,\n",
    "                1493,\n",
    "                1910,\n",
    "                7099)\n",
    "\n",
    "genes <- iatlasGraphQLClient::query_gene_expression(cohorts = \"HugoLo_IPRES_2016\", \n",
    "                                                  entrez = na.omit(as.numeric(genes_entrez)))\n",
    "\n",
    "#For clinical annotation, use names from clinical_options$tag_name that have tag_type == \"parent_tag\"\n",
    "\n",
    "clinical_annotation  <- iatlasGraphQLClient::query_tag_samples_parents(cohorts = \"HugoLo_IPRES_2016\", \n",
    "                                                       parent_tags = c(\"Response\", \"Gender\")) \n",
    "\n",
    "#All the tables are in the long format.\n",
    "head(features)\n",
    "head(genes)\n",
    "head(clinical_annotation)"
   ]
  }
 ],
 "metadata": {
  "kernelspec": {
   "display_name": "R",
   "language": "R",
   "name": "ir"
  },
  "language_info": {
   "codemirror_mode": "r",
   "file_extension": ".r",
   "mimetype": "text/x-r-source",
   "name": "R",
   "pygments_lexer": "r",
   "version": "4.2.0"
  }
 },
 "nbformat": 4,
 "nbformat_minor": 5
}
